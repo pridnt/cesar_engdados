{
  "nbformat": 4,
  "nbformat_minor": 0,
  "metadata": {
    "colab": {
      "name": "bankmarketing_naivebayes.ipynb",
      "provenance": [],
      "authorship_tag": "ABX9TyNdsGmbYFphFeSHtmth3rbd",
      "include_colab_link": true
    },
    "kernelspec": {
      "name": "python3",
      "display_name": "Python 3"
    }
  },
  "cells": [
    {
      "cell_type": "markdown",
      "metadata": {
        "id": "view-in-github",
        "colab_type": "text"
      },
      "source": [
        "<a href=\"https://colab.research.google.com/github/pridnt/cesar_engdados/blob/master/notebooks/bankmarketing_naivebayes.ipynb\" target=\"_parent\"><img src=\"https://colab.research.google.com/assets/colab-badge.svg\" alt=\"Open In Colab\"/></a>"
      ]
    },
    {
      "cell_type": "markdown",
      "metadata": {
        "id": "Bw_84dhnowRD",
        "colab_type": "text"
      },
      "source": [
        "# Estatística Descritiva\n",
        "\n",
        "Ao longo deste notebook iremos explorar um dataset com o objetivo de efetuar análises estatísticas acerca dos dados da mesma.\n",
        "Mais especificamente, trabalharemos com o data set de [dados bancários](https://archive.ics.uci.edu/ml/datasets/Bank+Marketing#), disponibilizado na UCI."
      ]
    },
    {
      "cell_type": "markdown",
      "metadata": {
        "id": "MYkKJh0bo_yG",
        "colab_type": "text"
      },
      "source": [
        "## Preparação dos dados"
      ]
    },
    {
      "cell_type": "code",
      "metadata": {
        "id": "q4fHJFtXj3xl",
        "colab_type": "code",
        "colab": {}
      },
      "source": [
        "## Bibliotecas que serão utilizadas durante a preparação dos dados\n",
        "\n",
        "import numpy as np\n",
        "import os\n",
        "import pandas as pd \n",
        "import matplotlib.pyplot as plt"
      ],
      "execution_count": 0,
      "outputs": []
    },
    {
      "cell_type": "code",
      "metadata": {
        "id": "TybKccFmj_Vd",
        "colab_type": "code",
        "outputId": "5c492d74-dcb7-42d7-ccdb-75de23ac7b24",
        "colab": {
          "base_uri": "https://localhost:8080/",
          "height": 122
        }
      },
      "source": [
        "from google.colab import drive\n",
        "drive.mount('/content/drive/')"
      ],
      "execution_count": 2,
      "outputs": [
        {
          "output_type": "stream",
          "text": [
            "Go to this URL in a browser: https://accounts.google.com/o/oauth2/auth?client_id=947318989803-6bn6qk8qdgf4n4g3pfee6491hc0brc4i.apps.googleusercontent.com&redirect_uri=urn%3aietf%3awg%3aoauth%3a2.0%3aoob&response_type=code&scope=email%20https%3a%2f%2fwww.googleapis.com%2fauth%2fdocs.test%20https%3a%2f%2fwww.googleapis.com%2fauth%2fdrive%20https%3a%2f%2fwww.googleapis.com%2fauth%2fdrive.photos.readonly%20https%3a%2f%2fwww.googleapis.com%2fauth%2fpeopleapi.readonly\n",
            "\n",
            "Enter your authorization code:\n",
            "··········\n",
            "Mounted at /content/drive/\n"
          ],
          "name": "stdout"
        }
      ]
    },
    {
      "cell_type": "code",
      "metadata": {
        "id": "fd8DdrDikGLP",
        "colab_type": "code",
        "outputId": "4af88e2b-ed4c-4a09-c70f-7ebbf2fab9fd",
        "colab": {
          "base_uri": "https://localhost:8080/",
          "height": 544
        }
      },
      "source": [
        "df = pd.read_csv('/content/drive/My Drive/Colab Notebooks/cursos/cesar/engenharia_de_dados/estatistica_descritiva/data/bank-full.csv', sep=';')\n",
        "\n",
        "print(df.head())\n",
        "print(df.info())"
      ],
      "execution_count": 80,
      "outputs": [
        {
          "output_type": "stream",
          "text": [
            "   age           job  marital  education  ... pdays  previous poutcome   y\n",
            "0   58    management  married   tertiary  ...    -1         0  unknown  no\n",
            "1   44    technician   single  secondary  ...    -1         0  unknown  no\n",
            "2   33  entrepreneur  married  secondary  ...    -1         0  unknown  no\n",
            "3   47   blue-collar  married    unknown  ...    -1         0  unknown  no\n",
            "4   33       unknown   single    unknown  ...    -1         0  unknown  no\n",
            "\n",
            "[5 rows x 17 columns]\n",
            "<class 'pandas.core.frame.DataFrame'>\n",
            "RangeIndex: 45211 entries, 0 to 45210\n",
            "Data columns (total 17 columns):\n",
            "age          45211 non-null int64\n",
            "job          45211 non-null object\n",
            "marital      45211 non-null object\n",
            "education    45211 non-null object\n",
            "default      45211 non-null object\n",
            "balance      45211 non-null int64\n",
            "housing      45211 non-null object\n",
            "loan         45211 non-null object\n",
            "contact      45211 non-null object\n",
            "day          45211 non-null int64\n",
            "month        45211 non-null object\n",
            "duration     45211 non-null int64\n",
            "campaign     45211 non-null int64\n",
            "pdays        45211 non-null int64\n",
            "previous     45211 non-null int64\n",
            "poutcome     45211 non-null object\n",
            "y            45211 non-null object\n",
            "dtypes: int64(7), object(10)\n",
            "memory usage: 5.9+ MB\n",
            "None\n"
          ],
          "name": "stdout"
        }
      ]
    },
    {
      "cell_type": "code",
      "metadata": {
        "id": "D5MeQ2Cvnvqh",
        "colab_type": "code",
        "colab": {}
      },
      "source": [
        "# Ajustando o tipo dos dados\n",
        "df['y'] = df['y'].astype('category')"
      ],
      "execution_count": 0,
      "outputs": []
    },
    {
      "cell_type": "code",
      "metadata": {
        "id": "u3vPFO80Ld9P",
        "colab_type": "code",
        "colab": {}
      },
      "source": [
        "# Para mantermos uma cópia dos dados base, vamos copiar os dados para outro dataframe\n",
        "df_source = df"
      ],
      "execution_count": 0,
      "outputs": []
    },
    {
      "cell_type": "code",
      "metadata": {
        "id": "zXo4FaIRNcdD",
        "colab_type": "code",
        "outputId": "5ed06764-4b4a-4040-c3b9-a0ac110da0b1",
        "colab": {
          "base_uri": "https://localhost:8080/",
          "height": 68
        }
      },
      "source": [
        "# Esta função é responsável por transformar os dados categóricos nominais em dados categóricos numéricos. \n",
        "# Dependendo do algoritmo que utilizaremos, esta etapa é essencial.\n",
        "def categoriza(s):\n",
        "    if s == 'yes':\n",
        "       return 1\n",
        "    elif s == 'no':\n",
        "       return 0\n",
        "\n",
        "# Tratando os dados categóricos do dataframe\n",
        "df['class'] = df['y'].apply(categoriza)\n",
        "df['default'] = df['default'].apply(categoriza)\n",
        "df['housing'] = df['housing'].apply(categoriza)\n",
        "df['loan'] = df['loan'].apply(categoriza)\n",
        "\n",
        "df['class'] = df['class'].astype('int')\n",
        "df['default'] = df['default'].astype('int')\n",
        "df['housing'] = df['housing'].astype('int')\n",
        "df['loan'] = df['loan'].astype('int')\n",
        "\n",
        "df['class'].value_counts(normalize=True) * 100"
      ],
      "execution_count": 83,
      "outputs": [
        {
          "output_type": "execute_result",
          "data": {
            "text/plain": [
              "0    88.30152\n",
              "1    11.69848\n",
              "Name: class, dtype: float64"
            ]
          },
          "metadata": {
            "tags": []
          },
          "execution_count": 83
        }
      ]
    },
    {
      "cell_type": "code",
      "metadata": {
        "id": "zSJLX9CKBgAw",
        "colab_type": "code",
        "colab": {}
      },
      "source": [
        "# Transformando os dados nominais dos meses em dados numéricos\n",
        "\n",
        "df.loc[df['month'] == 'jan', 'month'] = '1'\n",
        "df.loc[df['month'] == 'feb', 'month'] = '2'\n",
        "df.loc[df['month'] == 'mar', 'month'] = '3'\n",
        "df.loc[df['month'] == 'apr', 'month'] = '4'\n",
        "df.loc[df['month'] == 'may', 'month'] = '5'\n",
        "df.loc[df['month'] == 'jun', 'month'] = '6'\n",
        "df.loc[df['month'] == 'jul', 'month'] = '7'\n",
        "df.loc[df['month'] == 'aug', 'month'] = '8'\n",
        "df.loc[df['month'] == 'sep', 'month'] = '9'\n",
        "df.loc[df['month'] == 'oct', 'month'] = '10'\n",
        "df.loc[df['month'] == 'nov', 'month'] = '11'\n",
        "df.loc[df['month'] == 'dec', 'month'] = '12'\n",
        "\n",
        "df['month'] = df['month'].astype('int')"
      ],
      "execution_count": 0,
      "outputs": []
    },
    {
      "cell_type": "code",
      "metadata": {
        "id": "FHgo6NZAEMsa",
        "colab_type": "code",
        "colab": {}
      },
      "source": [
        "# Ao invés de termos apenas uma variável categórica com o estado civil do individuo, foram criadas três variáveis (flag) que determinam se \n",
        "# o indivíduo possui ou não àquela característica.\n",
        "\n",
        "df['is_mar_divorced'] = 1\n",
        "df.loc[df['marital'] != 'divorced', 'is_mar_divorced'] = 0\n",
        "\n",
        "df['is_mar_single'] = 1\n",
        "df.loc[df['marital'] != 'single', 'is_mar_single'] = 0\n",
        "\n",
        "df['is_mar_married'] = 1\n",
        "df.loc[df['marital'] != 'married', 'is_mar_married'] = 0\n",
        "\n",
        "df['is_mar_divorced'] = df['is_mar_divorced'].astype('int')\n",
        "df['is_mar_single'] = df['is_mar_single'].astype('int')\n",
        "df['is_mar_married'] = df['is_mar_married'].astype('int')"
      ],
      "execution_count": 0,
      "outputs": []
    },
    {
      "cell_type": "code",
      "metadata": {
        "id": "Oq5-pbQRGKO0",
        "colab_type": "code",
        "colab": {}
      },
      "source": [
        "# Transformando os dados nominais das categorias de emprego em dados numéricos\n",
        "\n",
        "df.loc[df['job'] == 'admin.', 'job'] = '0'\n",
        "df.loc[df['job'] == 'blue-collar', 'job'] = '1'\n",
        "df.loc[df['job'] == 'entrepreneur', 'job'] = '2'\n",
        "df.loc[df['job'] == 'housemaid', 'job'] = '3'\n",
        "df.loc[df['job'] == 'management', 'job'] = '4'\n",
        "df.loc[df['job'] == 'retired', 'job'] = '5'\n",
        "df.loc[df['job'] == 'self-employed', 'job'] = '6'\n",
        "df.loc[df['job'] == 'services', 'job'] = '7'\n",
        "df.loc[df['job'] == 'student', 'job'] = '8'\n",
        "df.loc[df['job'] == 'technician', 'job'] = '9'\n",
        "df.loc[df['job'] == 'unemployed', 'job'] = '10'\n",
        "df.loc[df['job'] == 'unknown', 'job'] = '11'\n",
        "\n",
        "df['job'] = df['job'].astype('int')"
      ],
      "execution_count": 0,
      "outputs": []
    },
    {
      "cell_type": "code",
      "metadata": {
        "id": "2TQDEZLiIcMo",
        "colab_type": "code",
        "colab": {}
      },
      "source": [
        "# Ao invés de termos apenas uma variável categórica com o grau de instrução, foram criadas três variáveis (flag) que determinam se \n",
        "# o indivíduo possui ou não àquela característica.\n",
        "\n",
        "df['is_edu_primary'] = 1\n",
        "df.loc[df['education'] != 'primary', 'is_edu_primary'] = 0\n",
        "\n",
        "df['is_edu_secondary'] = 1\n",
        "df.loc[df['education'] != 'secondary', 'is_edu_secondary'] = 0\n",
        "\n",
        "df['is_edu_tertiary'] = 1\n",
        "df.loc[df['education'] != 'tertiary', 'is_edu_tertiary'] = 0\n",
        "\n",
        "df['is_edu_unknown'] = 1\n",
        "df.loc[df['education'] != 'unknown', 'is_edu_unknown'] = 0\n",
        "\n",
        "df['is_edu_primary'] = df['is_edu_primary'].astype('int')\n",
        "df['is_edu_secondary'] = df['is_edu_secondary'].astype('int')\n",
        "df['is_edu_tertiary'] = df['is_edu_tertiary'].astype('int')\n",
        "df['is_edu_unknown'] = df['is_edu_unknown'].astype('int')"
      ],
      "execution_count": 0,
      "outputs": []
    },
    {
      "cell_type": "code",
      "metadata": {
        "id": "wzxS7-yHC13k",
        "colab_type": "code",
        "colab": {}
      },
      "source": [
        "# Transformando os dados nominais das categorias de contato em dados numéricos\n",
        "\n",
        "df.loc[df['contact'] == 'cellular', 'contact'] = '0'\n",
        "df.loc[df['contact'] == 'telephone', 'contact'] = '1'\n",
        "df.loc[df['contact'] == 'unknown', 'contact'] = '2'\n",
        "\n",
        "df['contact'] = df['contact'].astype('int')"
      ],
      "execution_count": 0,
      "outputs": []
    },
    {
      "cell_type": "code",
      "metadata": {
        "id": "BGJEIM5RK6va",
        "colab_type": "code",
        "colab": {}
      },
      "source": [
        "# Transformando os dados nominais das categorias de poutcome em dados numéricos\n",
        "\n",
        "df.loc[df['poutcome'] == 'failure', 'poutcome'] = '0'\n",
        "df.loc[df['poutcome'] == 'other', 'poutcome'] = '1'\n",
        "df.loc[df['poutcome'] == 'success', 'poutcome'] = '2'\n",
        "df.loc[df['poutcome'] == 'unknown', 'poutcome'] = '3'\n",
        "\n",
        "df['poutcome'] = df['poutcome'].astype('int')"
      ],
      "execution_count": 0,
      "outputs": []
    },
    {
      "cell_type": "markdown",
      "metadata": {
        "id": "43f2e7DItdNK",
        "colab_type": "text"
      },
      "source": [
        "**Identificando as variáveis**\n",
        "- age: Quantitativa contínua\n",
        "- job: Qualitativa discreta \n",
        "- default: Quantitativa contínua\n",
        "- balance: Quantitativa contínua\n",
        "- housing: Quantitativa contínua\n",
        "- loan: Quantitativa contínua\n",
        "- contact: Quantitativa contínua\n",
        "- day: Quantitativa discreta\n",
        "- month: Quantitativa discreta\n",
        "- duration: Quantitativa discreta\n",
        "- campaign: Quantitativa discreta\n",
        "- pdays: Quantitativa discreta\n",
        "- previous: Quantitativa discreta\n",
        "- poutcome: Quantitativa contínua\n",
        "- class: Quantitativa discreta\n",
        "- is_mar_divorced: Quantitativa discreta \n",
        "- is_mar_single: Quantitativa discreta \n",
        "- is_mar_married: Quantitativa discreta \n",
        "- is_edu_primary: Quantitativa discreta \n",
        "- is_edu_secondary: Quantitativa discreta \n",
        "- is_edu_tertiary: Quantitativa discreta \n",
        "- is_edu_unknown: Quantitativa discreta "
      ]
    },
    {
      "cell_type": "code",
      "metadata": {
        "id": "9eFy2RpILIxz",
        "colab_type": "code",
        "outputId": "d97e6fd3-fc6c-4fd4-f774-a531aff03a6a",
        "colab": {
          "base_uri": "https://localhost:8080/",
          "height": 459
        }
      },
      "source": [
        "# Verificando os tipos das colunas do dataframe após as alterações.\n",
        "df.dtypes\n",
        "\n",
        "# As alterações foram efetuadas com o objetivo de facilitar as análises dos dados. Para alguns algoritmos é muito mais fácil trabalhar com\n",
        "# valores numéricos do que categóricos, como é o caso do Naive Bayes"
      ],
      "execution_count": 13,
      "outputs": [
        {
          "output_type": "execute_result",
          "data": {
            "text/plain": [
              "age                    int64\n",
              "job                    int64\n",
              "marital               object\n",
              "education             object\n",
              "default                int64\n",
              "balance                int64\n",
              "housing                int64\n",
              "loan                   int64\n",
              "contact                int64\n",
              "day                    int64\n",
              "month                  int64\n",
              "duration               int64\n",
              "campaign               int64\n",
              "pdays                  int64\n",
              "previous               int64\n",
              "poutcome               int64\n",
              "y                   category\n",
              "class                  int64\n",
              "is_mar_divorced        int64\n",
              "is_mar_single          int64\n",
              "is_mar_married         int64\n",
              "is_edu_primary         int64\n",
              "is_edu_secondary       int64\n",
              "is_edu_tertiary        int64\n",
              "is_edu_unknown         int64\n",
              "dtype: object"
            ]
          },
          "metadata": {
            "tags": []
          },
          "execution_count": 13
        }
      ]
    },
    {
      "cell_type": "code",
      "metadata": {
        "id": "_E9Ga8m0tOV8",
        "colab_type": "code",
        "colab": {
          "base_uri": "https://localhost:8080/",
          "height": 459
        },
        "outputId": "9ffc8eda-cde0-4b1a-997d-824e85c29864"
      },
      "source": [
        "# Verificando a existência de campos vazios\n",
        "\n",
        "df.isnull().sum()"
      ],
      "execution_count": 14,
      "outputs": [
        {
          "output_type": "execute_result",
          "data": {
            "text/plain": [
              "age                 0\n",
              "job                 0\n",
              "marital             0\n",
              "education           0\n",
              "default             0\n",
              "balance             0\n",
              "housing             0\n",
              "loan                0\n",
              "contact             0\n",
              "day                 0\n",
              "month               0\n",
              "duration            0\n",
              "campaign            0\n",
              "pdays               0\n",
              "previous            0\n",
              "poutcome            0\n",
              "y                   0\n",
              "class               0\n",
              "is_mar_divorced     0\n",
              "is_mar_single       0\n",
              "is_mar_married      0\n",
              "is_edu_primary      0\n",
              "is_edu_secondary    0\n",
              "is_edu_tertiary     0\n",
              "is_edu_unknown      0\n",
              "dtype: int64"
            ]
          },
          "metadata": {
            "tags": []
          },
          "execution_count": 14
        }
      ]
    },
    {
      "cell_type": "code",
      "metadata": {
        "id": "UNVd0uUkLneN",
        "colab_type": "code",
        "colab": {}
      },
      "source": [
        "# Uma vez que temos os dados base salvos em outro dataframe, no dataframe de trabalho efetuamos a exclusão das \n",
        "# colunas que não serão utilizadas na análise.\n",
        "\n",
        "df =  df.drop(columns=['marital', 'education', 'y'])"
      ],
      "execution_count": 0,
      "outputs": []
    },
    {
      "cell_type": "markdown",
      "metadata": {
        "id": "fBYxTd-gzLHc",
        "colab_type": "text"
      },
      "source": [
        "## Limpeza e enriquecimento"
      ]
    },
    {
      "cell_type": "code",
      "metadata": {
        "id": "dHuaXbRezNQz",
        "colab_type": "code",
        "colab": {
          "base_uri": "https://localhost:8080/",
          "height": 333
        },
        "outputId": "2e71c3fe-05b5-482b-987a-945030a30311"
      },
      "source": [
        "plt.hist([df.age])"
      ],
      "execution_count": 19,
      "outputs": [
        {
          "output_type": "execute_result",
          "data": {
            "text/plain": [
              "(array([ 1336., 11747., 12925.,  8015.,  7066.,  3312.,   377.,   303.,\n",
              "          116.,    14.]),\n",
              " array([18. , 25.7, 33.4, 41.1, 48.8, 56.5, 64.2, 71.9, 79.6, 87.3, 95. ]),\n",
              " <a list of 10 Patch objects>)"
            ]
          },
          "metadata": {
            "tags": []
          },
          "execution_count": 19
        },
        {
          "output_type": "display_data",
          "data": {
            "image/png": "[encoded data removed]",
            "text/plain": [
              "<Figure size 432x288 with 1 Axes>"
            ]
          },
          "metadata": {
            "tags": []
          }
        }
      ]
    },
    {
      "cell_type": "markdown",
      "metadata": {
        "id": "e0sR1WYjzQq6",
        "colab_type": "text"
      },
      "source": [
        "- Remoção de outliers"
      ]
    },
    {
      "cell_type": "code",
      "metadata": {
        "id": "LpvVPoPCzRYJ",
        "colab_type": "code",
        "colab": {
          "base_uri": "https://localhost:8080/",
          "height": 418
        },
        "outputId": "73de8bd7-7b0e-4701-fbf4-1d55fcab61bf"
      },
      "source": [
        "plt.boxplot([df.duration])\n",
        "df['duration'].describe()"
      ],
      "execution_count": 20,
      "outputs": [
        {
          "output_type": "execute_result",
          "data": {
            "text/plain": [
              "count    45211.000000\n",
              "mean       258.163080\n",
              "std        257.527812\n",
              "min          0.000000\n",
              "25%        103.000000\n",
              "50%        180.000000\n",
              "75%        319.000000\n",
              "max       4918.000000\n",
              "Name: duration, dtype: float64"
            ]
          },
          "metadata": {
            "tags": []
          },
          "execution_count": 20
        },
        {
          "output_type": "display_data",
          "data": {
            "image/png": "[encoded data removed]",
            "text/plain": [
              "<Figure size 432x288 with 1 Axes>"
            ]
          },
          "metadata": {
            "tags": []
          }
        }
      ]
    },
    {
      "cell_type": "code",
      "metadata": {
        "id": "3UR5cGAazU4o",
        "colab_type": "code",
        "colab": {
          "base_uri": "https://localhost:8080/",
          "height": 419
        },
        "outputId": "e3e48285-0a54-4e2d-b4c4-224b5ae30c37"
      },
      "source": [
        "df2 = df.query('duration < 4918')\n",
        "plt.boxplot([df2.duration])\n",
        "df2['duration'].describe()"
      ],
      "execution_count": 21,
      "outputs": [
        {
          "output_type": "execute_result",
          "data": {
            "text/plain": [
              "count    45210.000000\n",
              "mean       258.060009\n",
              "std        256.596426\n",
              "min          0.000000\n",
              "25%        103.000000\n",
              "50%        180.000000\n",
              "75%        319.000000\n",
              "max       3881.000000\n",
              "Name: duration, dtype: float64"
            ]
          },
          "metadata": {
            "tags": []
          },
          "execution_count": 21
        },
        {
          "output_type": "display_data",
          "data": {
            "image/png": "[encoded data removed]",
            "text/plain": [
              "<Figure size 432x288 with 1 Axes>"
            ]
          },
          "metadata": {
            "tags": []
          }
        }
      ]
    },
    {
      "cell_type": "code",
      "metadata": {
        "id": "i1Qqj4DezhD2",
        "colab_type": "code",
        "colab": {
          "base_uri": "https://localhost:8080/",
          "height": 418
        },
        "outputId": "a84fd239-25a3-4819-b8ba-79e5ce46d055"
      },
      "source": [
        "plt.boxplot([df.previous])\n",
        "df['previous'].describe()"
      ],
      "execution_count": 22,
      "outputs": [
        {
          "output_type": "execute_result",
          "data": {
            "text/plain": [
              "count    45211.000000\n",
              "mean         0.580323\n",
              "std          2.303441\n",
              "min          0.000000\n",
              "25%          0.000000\n",
              "50%          0.000000\n",
              "75%          0.000000\n",
              "max        275.000000\n",
              "Name: previous, dtype: float64"
            ]
          },
          "metadata": {
            "tags": []
          },
          "execution_count": 22
        },
        {
          "output_type": "display_data",
          "data": {
            "image/png": "[encoded data removed]",
            "text/plain": [
              "<Figure size 432x288 with 1 Axes>"
            ]
          },
          "metadata": {
            "tags": []
          }
        }
      ]
    },
    {
      "cell_type": "code",
      "metadata": {
        "id": "1eqEy24wzjLw",
        "colab_type": "code",
        "colab": {
          "base_uri": "https://localhost:8080/",
          "height": 419
        },
        "outputId": "7d67d6ee-f157-4fdc-e0ec-98c5e053faaf"
      },
      "source": [
        "df2 = df.query('duration < 4918 and previous < 275')\n",
        "plt.boxplot([df2.previous])\n",
        "df2['previous'].describe()"
      ],
      "execution_count": 23,
      "outputs": [
        {
          "output_type": "execute_result",
          "data": {
            "text/plain": [
              "count    45209.000000\n",
              "mean         0.574266\n",
              "std          1.907947\n",
              "min          0.000000\n",
              "25%          0.000000\n",
              "50%          0.000000\n",
              "75%          0.000000\n",
              "max         58.000000\n",
              "Name: previous, dtype: float64"
            ]
          },
          "metadata": {
            "tags": []
          },
          "execution_count": 23
        },
        {
          "output_type": "display_data",
          "data": {
            "image/png": "[encoded data removed]",
            "text/plain": [
              "<Figure size 432x288 with 1 Axes>"
            ]
          },
          "metadata": {
            "tags": []
          }
        }
      ]
    },
    {
      "cell_type": "code",
      "metadata": {
        "id": "pvBCMPLUzlMA",
        "colab_type": "code",
        "colab": {
          "base_uri": "https://localhost:8080/",
          "height": 439
        },
        "outputId": "8ff6f255-2aaa-4347-dbd8-0767c87e51eb"
      },
      "source": [
        "df2.query('contact == 2')"
      ],
      "execution_count": 24,
      "outputs": [
        {
          "output_type": "execute_result",
          "data": {
            "text/html": [
              "<div>\n",
              "<style scoped>\n",
              "    .dataframe tbody tr th:only-of-type {\n",
              "        vertical-align: middle;\n",
              "    }\n",
              "\n",
              "    .dataframe tbody tr th {\n",
              "        vertical-align: top;\n",
              "    }\n",
              "\n",
              "    .dataframe thead th {\n",
              "        text-align: right;\n",
              "    }\n",
              "</style>\n",
              "<table border=\"1\" class=\"dataframe\">\n",
              "  <thead>\n",
              "    <tr style=\"text-align: right;\">\n",
              "      <th></th>\n",
              "      <th>age</th>\n",
              "      <th>job</th>\n",
              "      <th>default</th>\n",
              "      <th>balance</th>\n",
              "      <th>housing</th>\n",
              "      <th>loan</th>\n",
              "      <th>contact</th>\n",
              "      <th>day</th>\n",
              "      <th>month</th>\n",
              "      <th>duration</th>\n",
              "      <th>campaign</th>\n",
              "      <th>pdays</th>\n",
              "      <th>previous</th>\n",
              "      <th>poutcome</th>\n",
              "      <th>class</th>\n",
              "      <th>is_mar_divorced</th>\n",
              "      <th>is_mar_single</th>\n",
              "      <th>is_mar_married</th>\n",
              "      <th>is_edu_primary</th>\n",
              "      <th>is_edu_secondary</th>\n",
              "      <th>is_edu_tertiary</th>\n",
              "      <th>is_edu_unknown</th>\n",
              "    </tr>\n",
              "  </thead>\n",
              "  <tbody>\n",
              "    <tr>\n",
              "      <th>0</th>\n",
              "      <td>58</td>\n",
              "      <td>4</td>\n",
              "      <td>0</td>\n",
              "      <td>2143</td>\n",
              "      <td>1</td>\n",
              "      <td>0</td>\n",
              "      <td>2</td>\n",
              "      <td>5</td>\n",
              "      <td>5</td>\n",
              "      <td>261</td>\n",
              "      <td>1</td>\n",
              "      <td>-1</td>\n",
              "      <td>0</td>\n",
              "      <td>3</td>\n",
              "      <td>0</td>\n",
              "      <td>0</td>\n",
              "      <td>0</td>\n",
              "      <td>1</td>\n",
              "      <td>0</td>\n",
              "      <td>0</td>\n",
              "      <td>1</td>\n",
              "      <td>0</td>\n",
              "    </tr>\n",
              "    <tr>\n",
              "      <th>1</th>\n",
              "      <td>44</td>\n",
              "      <td>9</td>\n",
              "      <td>0</td>\n",
              "      <td>29</td>\n",
              "      <td>1</td>\n",
              "      <td>0</td>\n",
              "      <td>2</td>\n",
              "      <td>5</td>\n",
              "      <td>5</td>\n",
              "      <td>151</td>\n",
              "      <td>1</td>\n",
              "      <td>-1</td>\n",
              "      <td>0</td>\n",
              "      <td>3</td>\n",
              "      <td>0</td>\n",
              "      <td>0</td>\n",
              "      <td>1</td>\n",
              "      <td>0</td>\n",
              "      <td>0</td>\n",
              "      <td>1</td>\n",
              "      <td>0</td>\n",
              "      <td>0</td>\n",
              "    </tr>\n",
              "    <tr>\n",
              "      <th>2</th>\n",
              "      <td>33</td>\n",
              "      <td>2</td>\n",
              "      <td>0</td>\n",
              "      <td>2</td>\n",
              "      <td>1</td>\n",
              "      <td>1</td>\n",
              "      <td>2</td>\n",
              "      <td>5</td>\n",
              "      <td>5</td>\n",
              "      <td>76</td>\n",
              "      <td>1</td>\n",
              "      <td>-1</td>\n",
              "      <td>0</td>\n",
              "      <td>3</td>\n",
              "      <td>0</td>\n",
              "      <td>0</td>\n",
              "      <td>0</td>\n",
              "      <td>1</td>\n",
              "      <td>0</td>\n",
              "      <td>1</td>\n",
              "      <td>0</td>\n",
              "      <td>0</td>\n",
              "    </tr>\n",
              "    <tr>\n",
              "      <th>3</th>\n",
              "      <td>47</td>\n",
              "      <td>1</td>\n",
              "      <td>0</td>\n",
              "      <td>1506</td>\n",
              "      <td>1</td>\n",
              "      <td>0</td>\n",
              "      <td>2</td>\n",
              "      <td>5</td>\n",
              "      <td>5</td>\n",
              "      <td>92</td>\n",
              "      <td>1</td>\n",
              "      <td>-1</td>\n",
              "      <td>0</td>\n",
              "      <td>3</td>\n",
              "      <td>0</td>\n",
              "      <td>0</td>\n",
              "      <td>0</td>\n",
              "      <td>1</td>\n",
              "      <td>0</td>\n",
              "      <td>0</td>\n",
              "      <td>0</td>\n",
              "      <td>1</td>\n",
              "    </tr>\n",
              "    <tr>\n",
              "      <th>4</th>\n",
              "      <td>33</td>\n",
              "      <td>11</td>\n",
              "      <td>0</td>\n",
              "      <td>1</td>\n",
              "      <td>0</td>\n",
              "      <td>0</td>\n",
              "      <td>2</td>\n",
              "      <td>5</td>\n",
              "      <td>5</td>\n",
              "      <td>198</td>\n",
              "      <td>1</td>\n",
              "      <td>-1</td>\n",
              "      <td>0</td>\n",
              "      <td>3</td>\n",
              "      <td>0</td>\n",
              "      <td>0</td>\n",
              "      <td>1</td>\n",
              "      <td>0</td>\n",
              "      <td>0</td>\n",
              "      <td>0</td>\n",
              "      <td>0</td>\n",
              "      <td>1</td>\n",
              "    </tr>\n",
              "    <tr>\n",
              "      <th>...</th>\n",
              "      <td>...</td>\n",
              "      <td>...</td>\n",
              "      <td>...</td>\n",
              "      <td>...</td>\n",
              "      <td>...</td>\n",
              "      <td>...</td>\n",
              "      <td>...</td>\n",
              "      <td>...</td>\n",
              "      <td>...</td>\n",
              "      <td>...</td>\n",
              "      <td>...</td>\n",
              "      <td>...</td>\n",
              "      <td>...</td>\n",
              "      <td>...</td>\n",
              "      <td>...</td>\n",
              "      <td>...</td>\n",
              "      <td>...</td>\n",
              "      <td>...</td>\n",
              "      <td>...</td>\n",
              "      <td>...</td>\n",
              "      <td>...</td>\n",
              "      <td>...</td>\n",
              "    </tr>\n",
              "    <tr>\n",
              "      <th>45061</th>\n",
              "      <td>30</td>\n",
              "      <td>6</td>\n",
              "      <td>0</td>\n",
              "      <td>1031</td>\n",
              "      <td>0</td>\n",
              "      <td>0</td>\n",
              "      <td>2</td>\n",
              "      <td>20</td>\n",
              "      <td>10</td>\n",
              "      <td>7</td>\n",
              "      <td>1</td>\n",
              "      <td>-1</td>\n",
              "      <td>0</td>\n",
              "      <td>3</td>\n",
              "      <td>0</td>\n",
              "      <td>0</td>\n",
              "      <td>1</td>\n",
              "      <td>0</td>\n",
              "      <td>0</td>\n",
              "      <td>1</td>\n",
              "      <td>0</td>\n",
              "      <td>0</td>\n",
              "    </tr>\n",
              "    <tr>\n",
              "      <th>45062</th>\n",
              "      <td>58</td>\n",
              "      <td>5</td>\n",
              "      <td>0</td>\n",
              "      <td>742</td>\n",
              "      <td>0</td>\n",
              "      <td>0</td>\n",
              "      <td>2</td>\n",
              "      <td>20</td>\n",
              "      <td>10</td>\n",
              "      <td>5</td>\n",
              "      <td>1</td>\n",
              "      <td>-1</td>\n",
              "      <td>0</td>\n",
              "      <td>3</td>\n",
              "      <td>0</td>\n",
              "      <td>0</td>\n",
              "      <td>0</td>\n",
              "      <td>1</td>\n",
              "      <td>1</td>\n",
              "      <td>0</td>\n",
              "      <td>0</td>\n",
              "      <td>0</td>\n",
              "    </tr>\n",
              "    <tr>\n",
              "      <th>45122</th>\n",
              "      <td>40</td>\n",
              "      <td>2</td>\n",
              "      <td>0</td>\n",
              "      <td>262</td>\n",
              "      <td>1</td>\n",
              "      <td>1</td>\n",
              "      <td>2</td>\n",
              "      <td>26</td>\n",
              "      <td>10</td>\n",
              "      <td>17</td>\n",
              "      <td>1</td>\n",
              "      <td>-1</td>\n",
              "      <td>0</td>\n",
              "      <td>3</td>\n",
              "      <td>0</td>\n",
              "      <td>0</td>\n",
              "      <td>1</td>\n",
              "      <td>0</td>\n",
              "      <td>0</td>\n",
              "      <td>0</td>\n",
              "      <td>1</td>\n",
              "      <td>0</td>\n",
              "    </tr>\n",
              "    <tr>\n",
              "      <th>45135</th>\n",
              "      <td>53</td>\n",
              "      <td>1</td>\n",
              "      <td>0</td>\n",
              "      <td>1294</td>\n",
              "      <td>0</td>\n",
              "      <td>0</td>\n",
              "      <td>2</td>\n",
              "      <td>28</td>\n",
              "      <td>10</td>\n",
              "      <td>71</td>\n",
              "      <td>1</td>\n",
              "      <td>-1</td>\n",
              "      <td>0</td>\n",
              "      <td>3</td>\n",
              "      <td>0</td>\n",
              "      <td>0</td>\n",
              "      <td>0</td>\n",
              "      <td>1</td>\n",
              "      <td>1</td>\n",
              "      <td>0</td>\n",
              "      <td>0</td>\n",
              "      <td>0</td>\n",
              "    </tr>\n",
              "    <tr>\n",
              "      <th>45136</th>\n",
              "      <td>53</td>\n",
              "      <td>6</td>\n",
              "      <td>0</td>\n",
              "      <td>730</td>\n",
              "      <td>1</td>\n",
              "      <td>0</td>\n",
              "      <td>2</td>\n",
              "      <td>2</td>\n",
              "      <td>11</td>\n",
              "      <td>18</td>\n",
              "      <td>1</td>\n",
              "      <td>368</td>\n",
              "      <td>2</td>\n",
              "      <td>0</td>\n",
              "      <td>0</td>\n",
              "      <td>0</td>\n",
              "      <td>0</td>\n",
              "      <td>1</td>\n",
              "      <td>0</td>\n",
              "      <td>0</td>\n",
              "      <td>1</td>\n",
              "      <td>0</td>\n",
              "    </tr>\n",
              "  </tbody>\n",
              "</table>\n",
              "<p>13020 rows × 22 columns</p>\n",
              "</div>"
            ],
            "text/plain": [
              "       age  job  default  ...  is_edu_secondary  is_edu_tertiary  is_edu_unknown\n",
              "0       58    4        0  ...                 0                1               0\n",
              "1       44    9        0  ...                 1                0               0\n",
              "2       33    2        0  ...                 1                0               0\n",
              "3       47    1        0  ...                 0                0               1\n",
              "4       33   11        0  ...                 0                0               1\n",
              "...    ...  ...      ...  ...               ...              ...             ...\n",
              "45061   30    6        0  ...                 1                0               0\n",
              "45062   58    5        0  ...                 0                0               0\n",
              "45122   40    2        0  ...                 0                1               0\n",
              "45135   53    1        0  ...                 0                0               0\n",
              "45136   53    6        0  ...                 0                1               0\n",
              "\n",
              "[13020 rows x 22 columns]"
            ]
          },
          "metadata": {
            "tags": []
          },
          "execution_count": 24
        }
      ]
    },
    {
      "cell_type": "markdown",
      "metadata": {
        "id": "KGdCj-ibrnVS",
        "colab_type": "text"
      },
      "source": [
        "**Separando por classe**"
      ]
    },
    {
      "cell_type": "code",
      "metadata": {
        "id": "E2k3YjRWrofp",
        "colab_type": "code",
        "colab": {}
      },
      "source": [
        "# Esta função efetua a separação dos indivíduos do dataset por classe\n",
        "def separate_by_class(dataset):\n",
        "  classes = np.unique(dataset['class'])\n",
        "\n",
        "  separated = []\n",
        "  for cl in classes:\n",
        "    separated.append(dataset[dataset['class'] == cl])\n",
        "\n",
        "  return separated\n",
        "\n",
        "separated = separate_by_class(df)"
      ],
      "execution_count": 0,
      "outputs": []
    },
    {
      "cell_type": "markdown",
      "metadata": {
        "id": "VnNA2c8alePD",
        "colab_type": "text"
      },
      "source": [
        "**Análise gráfica**\n"
      ]
    },
    {
      "cell_type": "code",
      "metadata": {
        "id": "aT90t-EjtHaN",
        "colab_type": "code",
        "outputId": "94f21196-b9fb-45f8-8e3a-674126d60b8b",
        "colab": {
          "base_uri": "https://localhost:8080/",
          "height": 442
        }
      },
      "source": [
        "# Análise geral de correlação após tratativa dos dados\n",
        "\n",
        "print(df.corr())"
      ],
      "execution_count": 0,
      "outputs": [
        {
          "output_type": "stream",
          "text": [
            "                       age       job  ...  is_edu_tertiary  is_edu_unknown\n",
            "age               1.000000 -0.021868  ...        -0.081629        0.069665\n",
            "job              -0.021868  1.000000  ...         0.097562        0.023773\n",
            "default          -0.017879 -0.006853  ...        -0.015239       -0.001236\n",
            "balance           0.097783  0.018232  ...         0.084001        0.011181\n",
            "housing          -0.185513 -0.125363  ...        -0.099175       -0.047595\n",
            "loan             -0.015655 -0.033004  ...        -0.045940       -0.049992\n",
            "contact           0.026221 -0.082063  ...        -0.141674        0.044070\n",
            "day              -0.009120  0.022856  ...         0.021730        0.000114\n",
            "month             0.092903  0.043142  ...         0.082121       -0.015071\n",
            "duration         -0.004648  0.004744  ...         0.000891       -0.000682\n",
            "campaign          0.004760  0.006839  ...         0.012866        0.005704\n",
            "pdays            -0.023758 -0.024455  ...        -0.007568       -0.006907\n",
            "previous          0.001288 -0.000911  ...         0.022888       -0.008257\n",
            "poutcome          0.007367  0.011010  ...        -0.016353        0.008466\n",
            "class             0.025155  0.040438  ...         0.066448        0.012053\n",
            "is_mar_divorced   0.164674  0.012383  ...        -0.009259       -0.015666\n",
            "is_mar_single    -0.427817  0.092562  ...         0.110915        0.000659\n",
            "is_mar_married    0.286257 -0.093245  ...        -0.096019        0.009610\n",
            "is_edu_primary    0.196182 -0.197457  ...        -0.272845       -0.087464\n",
            "is_edu_secondary -0.093979  0.043268  ...        -0.662890       -0.212498\n",
            "is_edu_tertiary  -0.081629  0.097562  ...         1.000000       -0.133620\n",
            "is_edu_unknown    0.069665  0.023773  ...        -0.133620        1.000000\n",
            "\n",
            "[22 rows x 22 columns]\n"
          ],
          "name": "stdout"
        }
      ]
    },
    {
      "cell_type": "code",
      "metadata": {
        "id": "SnOm7DIUx9zZ",
        "colab_type": "code",
        "outputId": "c5f9425c-e979-4fc5-d09a-c2aeff2a5460",
        "colab": {
          "base_uri": "https://localhost:8080/",
          "height": 438
        }
      },
      "source": [
        "# Análise gráfica da correlação de cada uma das variáveis com as classes\n",
        "\n",
        "fig,ax = plt.subplots(2,2)\n",
        "fig.set_size_inches(10,h=6)\n",
        "for s in separated:\n",
        "  ax[0,0].hist(s['age'])\n",
        "  ax[0,1].hist(s['job'])\n",
        "  ax[1,0].hist(s['default'])\n",
        "  ax[1,1].hist(s['balance'])\n",
        "fig.legend(['No', 'Yes'])"
      ],
      "execution_count": 0,
      "outputs": [
        {
          "output_type": "execute_result",
          "data": {
            "text/plain": [
              "<matplotlib.legend.Legend at 0x7ff85185a780>"
            ]
          },
          "metadata": {
            "tags": []
          },
          "execution_count": 286
        },
        {
          "output_type": "display_data",
          "data": {
            "image/png": "[encoded data removed]",
            "text/plain": [
              "<Figure size 720x432 with 4 Axes>"
            ]
          },
          "metadata": {
            "tags": []
          }
        }
      ]
    },
    {
      "cell_type": "code",
      "metadata": {
        "id": "r_m5H3PUyvbf",
        "colab_type": "code",
        "outputId": "77771c88-56b8-4b97-acd0-976eff7b9706",
        "colab": {
          "base_uri": "https://localhost:8080/",
          "height": 438
        }
      },
      "source": [
        "# Análise gráfica da correlação de cada uma das variáveis com as classes\n",
        "\n",
        "fig,ax = plt.subplots(2,2)\n",
        "fig.set_size_inches(10,h=6)\n",
        "for s in separated:\n",
        "  ax[0,0].hist(s['housing'])\n",
        "  ax[0,1].hist(s['loan'])\n",
        "  ax[1,0].hist(s['contact'])\n",
        "  ax[1,1].hist(s['day'])\n",
        "fig.legend(['No', 'Yes'])"
      ],
      "execution_count": 0,
      "outputs": [
        {
          "output_type": "execute_result",
          "data": {
            "text/plain": [
              "<matplotlib.legend.Legend at 0x7ff8507b4a90>"
            ]
          },
          "metadata": {
            "tags": []
          },
          "execution_count": 287
        },
        {
          "output_type": "display_data",
          "data": {
            "image/png": "[encoded data removed]",
            "text/plain": [
              "<Figure size 720x432 with 4 Axes>"
            ]
          },
          "metadata": {
            "tags": []
          }
        }
      ]
    },
    {
      "cell_type": "code",
      "metadata": {
        "id": "9r0xaxDVzBAz",
        "colab_type": "code",
        "outputId": "245b737e-f6e8-419e-a968-08d4d8953223",
        "colab": {
          "base_uri": "https://localhost:8080/",
          "height": 438
        }
      },
      "source": [
        "# Análise gráfica da correlação de cada uma das variáveis com as classes\n",
        "\n",
        "fig,ax = plt.subplots(2,2)\n",
        "fig.set_size_inches(10,h=6)\n",
        "for s in separated:\n",
        "  ax[0,0].hist(s['month'])\n",
        "  ax[0,1].hist(s['campaign'])\n",
        "  ax[1,0].hist(s['pdays'])\n",
        "  ax[1,1].hist(s['previous'])\n",
        "fig.legend(['No', 'Yes'])"
      ],
      "execution_count": 0,
      "outputs": [
        {
          "output_type": "execute_result",
          "data": {
            "text/plain": [
              "<matplotlib.legend.Legend at 0x7ff85056f8d0>"
            ]
          },
          "metadata": {
            "tags": []
          },
          "execution_count": 288
        },
        {
          "output_type": "display_data",
          "data": {
            "image/png": "[encoded data removed]",
            "text/plain": [
              "<Figure size 720x432 with 4 Axes>"
            ]
          },
          "metadata": {
            "tags": []
          }
        }
      ]
    },
    {
      "cell_type": "code",
      "metadata": {
        "id": "gC936k3DzSMw",
        "colab_type": "code",
        "outputId": "d909a833-0f3f-42fd-f61a-69458b40f6bd",
        "colab": {
          "base_uri": "https://localhost:8080/",
          "height": 438
        }
      },
      "source": [
        "# Análise gráfica da correlação de cada uma das variáveis com as classes\n",
        "\n",
        "fig,ax = plt.subplots(2,2)\n",
        "fig.set_size_inches(10,h=6)\n",
        "for s in separated:\n",
        "  ax[0,0].hist(s['poutcome'])\n",
        "  ax[0,1].hist(s['is_mar_divorced'])\n",
        "  ax[1,0].hist(s['is_mar_single'])\n",
        "  ax[1,1].hist(s['is_mar_married'])\n",
        "fig.legend(['No', 'Yes'])"
      ],
      "execution_count": 0,
      "outputs": [
        {
          "output_type": "execute_result",
          "data": {
            "text/plain": [
              "<matplotlib.legend.Legend at 0x7ff85031ab38>"
            ]
          },
          "metadata": {
            "tags": []
          },
          "execution_count": 289
        },
        {
          "output_type": "display_data",
          "data": {
            "image/png": "[encoded data removed]",
            "text/plain": [
              "<Figure size 720x432 with 4 Axes>"
            ]
          },
          "metadata": {
            "tags": []
          }
        }
      ]
    },
    {
      "cell_type": "code",
      "metadata": {
        "id": "R5bBjdxcNmKE",
        "colab_type": "code",
        "outputId": "c0a238df-23e4-4b19-a2fb-357bd68ba442",
        "colab": {
          "base_uri": "https://localhost:8080/",
          "height": 438
        }
      },
      "source": [
        "# Análise gráfica da correlação de cada uma das variáveis com as classes\n",
        "\n",
        "fig,ax = plt.subplots(2,2)\n",
        "fig.set_size_inches(10,h=6)\n",
        "for s in separated:\n",
        "  ax[0,0].hist(s['is_edu_primary'])\n",
        "  ax[0,1].hist(s['is_edu_secondary'])\n",
        "  ax[1,0].hist(s['is_edu_tertiary'])\n",
        "  ax[1,1].hist(s['is_edu_unknown'])\n",
        "fig.legend(['No', 'Yes'])"
      ],
      "execution_count": 0,
      "outputs": [
        {
          "output_type": "execute_result",
          "data": {
            "text/plain": [
              "<matplotlib.legend.Legend at 0x7ff850149b38>"
            ]
          },
          "metadata": {
            "tags": []
          },
          "execution_count": 290
        },
        {
          "output_type": "display_data",
          "data": {
            "image/png": "[encoded data removed]",
            "text/plain": [
              "<Figure size 720x432 with 4 Axes>"
            ]
          },
          "metadata": {
            "tags": []
          }
        }
      ]
    },
    {
      "cell_type": "code",
      "metadata": {
        "id": "kVHZuLgGNukw",
        "colab_type": "code",
        "outputId": "c7da5af3-02dd-4c58-b0b2-faff6631a820",
        "colab": {
          "base_uri": "https://localhost:8080/",
          "height": 438
        }
      },
      "source": [
        "# Análise gráfica da correlação de tuplas de variáveis com as classes\n",
        "# As variáveis foram escolhidas com base no resultado da análise gráfica individual e da correlação entre as variáveis\n",
        "\n",
        "fig,ax = plt.subplots(1,2)\n",
        "fig.set_size_inches(10,h=6)\n",
        "for s in separated:\n",
        "  ax[0].scatter(s['age'], s['job'])\n",
        "  ax[1].scatter(s['housing'], s['loan'])\n",
        "fig.legend(['No', 'Yes'])"
      ],
      "execution_count": 0,
      "outputs": [
        {
          "output_type": "execute_result",
          "data": {
            "text/plain": [
              "<matplotlib.legend.Legend at 0x7ff850436cf8>"
            ]
          },
          "metadata": {
            "tags": []
          },
          "execution_count": 291
        },
        {
          "output_type": "display_data",
          "data": {
            "image/png": "[encoded data removed]",
            "text/plain": [
              "<Figure size 720x432 with 2 Axes>"
            ]
          },
          "metadata": {
            "tags": []
          }
        }
      ]
    },
    {
      "cell_type": "markdown",
      "metadata": {
        "id": "K9bvqwTG30q3",
        "colab_type": "text"
      },
      "source": [
        "**Sumarizando os dados**\n",
        "\n",
        "Cálculo da média, desvio padrão e quantidade para cada coluna do dataset.\n"
      ]
    },
    {
      "cell_type": "code",
      "metadata": {
        "id": "86X1blRB30Z6",
        "colab_type": "code",
        "outputId": "ecf5534c-8421-476c-f872-31ab77fd9ea2",
        "colab": {
          "base_uri": "https://localhost:8080/",
          "height": 54
        }
      },
      "source": [
        "def summarize_dataset(dataset, eliminate_last=True):\n",
        "  if eliminate_last:\n",
        "    columns = dataset.columns[:-1]\n",
        "  else:\n",
        "    columns = dataset.columns\n",
        "  summaries = [(np.mean(dataset[column]), np.std(dataset[column]), len(dataset[column])) for column in dataset.columns]\n",
        "  del(summaries[-1])\n",
        "  return summaries\n",
        "\n",
        "summaries = summarize_dataset(df)\n",
        "\n",
        "print(summaries)"
      ],
      "execution_count": 0,
      "outputs": [
        {
          "output_type": "stream",
          "text": [
            "[(40.93621021432837, 10.61864460472364, 45211), (4.339762447192055, 3.2726207277703194, 45211), (0.018026586450200173, 0.13304746758647717, 45211), (1362.2720576850766, 3044.732156139185, 45211), (0.5558381809736569, 0.4968723151329352, 45211), (0.16022649355245405, 0.366815981544525, 45211), (0.6402424188803609, 0.8979410280822167, 45211), (15.80641879188693, 8.322384112145135, 45211), (6.144655061821238, 2.4080073482929993, 45211), (258.1630797814691, 257.5249641835502, 45211), (2.763840658246887, 3.097986621286299, 45211), (40.19782796222158, 100.12763863509751, 45211), (0.5803233726305546, 2.3034155704475343, 45211), (2.559974342527261, 0.9890480941712163, 45211), (0.11698480458295547, 0.32140217808788435, 45211), (0.11517108668244454, 0.3192282999278385, 45211), (0.2828957554577426, 0.45040620222379935, 45211), (0.6019331578598128, 0.4894993680575177, 45211), (0.15153391873659064, 0.3585685293063276, 45211), (0.513193691800668, 0.4998258961845268, 45211), (0.29419831456946316, 0.45568154041393955, 45211)]\n"
          ],
          "name": "stdout"
        }
      ]
    },
    {
      "cell_type": "markdown",
      "metadata": {
        "id": "CZwLXuJePehC",
        "colab_type": "text"
      },
      "source": [
        "Sumarizando dados por classe"
      ]
    },
    {
      "cell_type": "code",
      "metadata": {
        "id": "sgkfLzusPgLk",
        "colab_type": "code",
        "outputId": "6f9a1d66-0fad-41ff-84a1-1066b0b251e0",
        "colab": {
          "base_uri": "https://localhost:8080/",
          "height": 54
        }
      },
      "source": [
        "def summarize_by_class(dataset):\n",
        "  separated = separate_by_class(dataset)\n",
        "  summaries = dict()\n",
        "  for s in separated:\n",
        "    class_value = np.array(s['class'])\n",
        "    rows = s[s.columns]\n",
        "    summaries[class_value[0]] = summarize_dataset(rows, eliminate_last=False)\n",
        "  return summaries\n",
        "\n",
        "summaries_by_class = summarize_by_class(df)\n",
        "print(summaries_by_class)"
      ],
      "execution_count": 0,
      "outputs": [
        {
          "output_type": "stream",
          "text": [
            "{0: [(40.83898602274435, 10.17253468682594, 39922), (4.2915936075346925, 3.282457051164189, 39922), (0.019112268924402584, 0.1369196483378586, 39922), (1303.7149691899203, 2974.158222648996, 39922), (0.5810079655327889, 0.49339407122538725, 39922), (0.16933019387806222, 0.3750433032587752, 39922), (0.6887430489454436, 0.9165676274969025, 39922), (15.892289965432594, 8.294623722480742, 39922), (6.128250087670958, 2.356716892644691, 39922), (221.18280647262162, 207.38063981483725, 39922), (2.8463503832473322, 3.212727031742061, 39922), (36.421371674765794, 96.75592268105316, 39922), (0.5021542006913481, 2.2567430075270005, 39922), (2.587996593357046, 0.9812041501530779, 39922), (0.0, 0.0, 39922), (0.11484895546315314, 0.31883957234353655, 39922), (0.27248133861029006, 0.4452361830754207, 39922), (0.6126697059265568, 0.4871401619313087, 39922), (0.15680577125394518, 0.3636175481952366, 39922), (0.5198136365913532, 0.49960726556458795, 39922), (0.283177195531286, 0.45054175329511903, 39922)], 1: [(41.670069956513515, 13.496505377917964, 5289), (4.703346568349405, 3.173901858787589, 5289), (0.009831726224238986, 0.09866642480443956, 5289), (1804.2679145396105, 3500.7737810184117, 5289), (0.36585365853658536, 0.48166872336904937, 5289), (0.09151068254868595, 0.2883339687379038, 5289), (0.27415390432974096, 0.6319885273630603, 5289), (15.158252977878616, 8.501070881765232, 5289), (6.268481754584988, 2.761481674340402, 5289), (537.2945736434109, 392.48815280889886, 5289), (2.1410474569861977, 1.9216442684526758, 5289), (68.70296842503309, 118.8110320127105, 5289), (1.1703535640007563, 2.553030350443316, 5289), (2.3484590659860087, 1.0218625405987536, 5289), (1.0, 0.0, 5289), (0.11760257137455095, 0.3221369376222687, 5289), (0.3615050103989412, 0.4804364035493147, 5289), (0.5208924182265079, 0.4995633161678793, 5289), (0.11174134997163924, 0.31504796567850385, 5289), (0.46322556248818303, 0.4986458069067758, 5289), (0.3773870296842503, 0.48473297753541394, 5289)]}\n"
          ],
          "name": "stdout"
        }
      ]
    },
    {
      "cell_type": "markdown",
      "metadata": {
        "id": "H2Nljv9uypJJ",
        "colab_type": "text"
      },
      "source": [
        "## Amostragem\n",
        "\n",
        "Obs.: A amostra representa 10% da população, independentemente da abordagem utilizada"
      ]
    },
    {
      "cell_type": "markdown",
      "metadata": {
        "id": "TLBuMA1Wyyw_",
        "colab_type": "text"
      },
      "source": [
        "- Aleatória simples"
      ]
    },
    {
      "cell_type": "code",
      "metadata": {
        "id": "BbixEwNPysQ4",
        "colab_type": "code",
        "colab": {
          "base_uri": "https://localhost:8080/",
          "height": 153
        },
        "outputId": "25d89766-716e-4038-8ed8-fc820c042dcd"
      },
      "source": [
        "sample1 = df.sample (frac =.10)\n",
        "\n",
        "print(sample1.head())"
      ],
      "execution_count": 16,
      "outputs": [
        {
          "output_type": "stream",
          "text": [
            "       age  job  default  ...  is_edu_secondary  is_edu_tertiary  is_edu_unknown\n",
            "39778   59    5        0  ...                 0                1               0\n",
            "13388   44    1        0  ...                 1                0               0\n",
            "36701   28    0        0  ...                 1                0               0\n",
            "31581   28    9        0  ...                 0                1               0\n",
            "45053   25    0        0  ...                 0                1               0\n",
            "\n",
            "[5 rows x 22 columns]\n"
          ],
          "name": "stdout"
        }
      ]
    },
    {
      "cell_type": "markdown",
      "metadata": {
        "id": "zUw8CVURy5Fu",
        "colab_type": "text"
      },
      "source": [
        "- Primeiros 10%"
      ]
    },
    {
      "cell_type": "code",
      "metadata": {
        "id": "aGelkJu8y541",
        "colab_type": "code",
        "colab": {
          "base_uri": "https://localhost:8080/",
          "height": 153
        },
        "outputId": "6e74df76-10de-4b01-b748-9b8e3546d4b0"
      },
      "source": [
        "sample2 = df.loc[1:4521]\n",
        "\n",
        "print(sample2.head())"
      ],
      "execution_count": 17,
      "outputs": [
        {
          "output_type": "stream",
          "text": [
            "   age  job  default  ...  is_edu_secondary  is_edu_tertiary  is_edu_unknown\n",
            "1   44    9        0  ...                 1                0               0\n",
            "2   33    2        0  ...                 1                0               0\n",
            "3   47    1        0  ...                 0                0               1\n",
            "4   33   11        0  ...                 0                0               1\n",
            "5   35    4        0  ...                 0                1               0\n",
            "\n",
            "[5 rows x 22 columns]\n"
          ],
          "name": "stdout"
        }
      ]
    },
    {
      "cell_type": "markdown",
      "metadata": {
        "id": "iJiNmjioy9Ap",
        "colab_type": "text"
      },
      "source": [
        "- Por agrupamento"
      ]
    },
    {
      "cell_type": "code",
      "metadata": {
        "id": "V_jXGukBzAVP",
        "colab_type": "code",
        "colab": {}
      },
      "source": [
        "sample3 = df.loc[df['is_edu_unknown'] == 1]\n",
        "sample4 = df.loc[df['is_edu_primary'] == 1]\n",
        "sample5 = df.loc[df['is_edu_secondary'] == 1]\n",
        "sample6 = df.loc[df['is_edu_tertiary'] == 1]"
      ],
      "execution_count": 0,
      "outputs": []
    },
    {
      "cell_type": "markdown",
      "metadata": {
        "id": "Lk2boH-iz6pL",
        "colab_type": "text"
      },
      "source": [
        "**Grupos**\n",
        "- Grupo 1: população\n",
        "- Grupo 2: amostragem aleatório de 10% da população\n",
        "- Grupo 3: amostra dos primeiros 10% da população\n",
        "- Grupo 4: amostragem por agrupamento (nível de escolaridade desconhecido)\n",
        "- Grupo 5: amostragem por agrupamento (nível de escolaridade primário)\n",
        "- Grupo 6: amostragem por agrupamento (nível de escolaridade secundário)\n",
        "- Grupo 7: amostragem por agrupamento (nível de escolaridade superior)\n",
        "- Grupo 8: população com exclusão de outliers\n",
        "\n",
        "\n",
        "**Análises**\n",
        "- Média, mediana\n",
        "- Agrupadas (variância, desvio padrão, coeficiente de variação)\n",
        "\n",
        "Obs.: optei por excluir a moda, pois se houver mais de uma moda uma exceção será lançada"
      ]
    },
    {
      "cell_type": "code",
      "metadata": {
        "id": "SS3prp3J07B3",
        "colab_type": "code",
        "colab": {}
      },
      "source": [
        "def variance(x):\n",
        "  m = x.mean()\n",
        "  sz = len(x)\n",
        "  var = np.sum(np.square(x-m))/sz\n",
        "\n",
        "  return var"
      ],
      "execution_count": 0,
      "outputs": []
    },
    {
      "cell_type": "code",
      "metadata": {
        "id": "xWEETWAy09t3",
        "colab_type": "code",
        "colab": {}
      },
      "source": [
        "def standard_deviation(x):\n",
        "  std = np.sqrt(variance(x))\n",
        "  return std"
      ],
      "execution_count": 0,
      "outputs": []
    },
    {
      "cell_type": "code",
      "metadata": {
        "id": "h_2AJuGV1BH1",
        "colab_type": "code",
        "colab": {}
      },
      "source": [
        "def variance_coeficient(x):\n",
        "  vc = standard_deviation(x)/x.mean()\n",
        "  return vc"
      ],
      "execution_count": 0,
      "outputs": []
    },
    {
      "cell_type": "code",
      "metadata": {
        "id": "5ZR_aMd0z5pQ",
        "colab_type": "code",
        "colab": {}
      },
      "source": [
        "def analysis (df, item, metric):\n",
        "  print('DADO ANALISADO: ' + item)\n",
        "  print('INDICADOR ESTATISTICO: ' + metric)\n",
        "\n",
        "  if metric == 'media':\n",
        "    print('\\tGrupo 1: % 5.2f' %(df[item].mean())) \n",
        "    print('\\tGrupo 2: % 5.2f' %(sample1[item].mean())) \n",
        "    print('\\tGrupo 3: % 5.2f' %(sample2[item].mean()))\n",
        "    print('\\tGrupo 4: % 5.2f' %(sample3[item].mean())) \n",
        "    print('\\tGrupo 5: % 5.2f' %(sample4[item].mean())) \n",
        "    print('\\tGrupo 6: % 5.2f' %(sample5[item].mean())) \n",
        "    print('\\tGrupo 7: % 5.2f' %(sample6[item].mean())) \n",
        "    print('\\tGrupo 8: % 5.2f' %(df2[item].mean()))\n",
        "\n",
        "    print('Valor do grupo - Valor de Clientes COM termo de deposito')\n",
        "    print('\\tGrupo 1: % 5.2f' %(df[item].mean() - df[df['class'] == 1][item].mean())) \n",
        "    print('\\tGrupo 2: % 5.2f' %(sample1[item].mean() - sample1[sample1['class'] == 1][item].mean())) \n",
        "    print('\\tGrupo 3: % 5.2f' %(sample2[item].mean() - sample2[sample2['class'] == 1][item].mean())) \n",
        "    print('\\tGrupo 4: % 5.2f' %(sample3[item].mean() - sample3[sample3['class'] == 1][item].mean())) \n",
        "    print('\\tGrupo 5: % 5.2f' %(sample4[item].mean() - sample4[sample4['class'] == 1][item].mean())) \n",
        "    print('\\tGrupo 6: % 5.2f' %(sample5[item].mean() - sample5[sample5['class'] == 1][item].mean())) \n",
        "    print('\\tGrupo 7: % 5.2f' %(sample6[item].mean() - sample6[sample6['class'] == 1][item].mean())) \n",
        "    print('\\tGrupo 8: % 5.2f' %(df2[item].mean() - df2[df2['class'] == 1][item].mean())) \n",
        "\n",
        "    print('Valor do grupo - Valor de Clientes SEM termo de deposito')\n",
        "    print('\\tGrupo 1: % 5.2f' %(df[item].mean() - df[df['class'] == 0][item].mean())) \n",
        "    print('\\tGrupo 2: % 5.2f' %(sample1[item].mean() - sample1[sample1['class'] == 0][item].mean())) \n",
        "    print('\\tGrupo 3: % 5.2f' %(sample2[item].mean() - sample2[sample2['class'] == 0][item].mean())) \n",
        "    print('\\tGrupo 4: % 5.2f' %(sample3[item].mean() - sample3[sample3['class'] == 0][item].mean())) \n",
        "    print('\\tGrupo 5: % 5.2f' %(sample4[item].mean() - sample4[sample4['class'] == 0][item].mean())) \n",
        "    print('\\tGrupo 6: % 5.2f' %(sample5[item].mean() - sample5[sample5['class'] == 0][item].mean())) \n",
        "    print('\\tGrupo 7: % 5.2f' %(sample6[item].mean() - sample6[sample6['class'] == 0][item].mean())) \n",
        "    print('\\tGrupo 8: % 5.2f' %(df2[item].mean() - df2[df2['class'] == 0][item].mean())) \n",
        "\n",
        "  elif metric == 'mediana':\n",
        "    print('\\tGrupo 1: % 5.2f' %(df[item].median())) \n",
        "    print('\\tGrupo 2: % 5.2f' %(sample1[item].median())) \n",
        "    print('\\tGrupo 3: % 5.2f' %(sample2[item].median()))\n",
        "    print('\\tGrupo 4: % 5.2f' %(sample3[item].median())) \n",
        "    print('\\tGrupo 5: % 5.2f' %(sample4[item].median())) \n",
        "    print('\\tGrupo 6: % 5.2f' %(sample5[item].median())) \n",
        "    print('\\tGrupo 7: % 5.2f' %(sample6[item].median())) \n",
        "    print('\\tGrupo 8: % 5.2f' %(df2[item].median()))\n",
        "\n",
        "    print('Valor do grupo - Valor de Clientes COM termo de deposito')\n",
        "    print('\\tGrupo 1: % 5.2f' %(df[item].median() - df[df['class'] == 1][item].median())) \n",
        "    print('\\tGrupo 2: % 5.2f' %(sample1[item].median() - sample1[sample1['class'] == 1][item].median())) \n",
        "    print('\\tGrupo 3: % 5.2f' %(sample2[item].median() - sample2[sample2['class'] == 1][item].median())) \n",
        "    print('\\tGrupo 4: % 5.2f' %(sample3[item].median() - sample3[sample3['class'] == 1][item].median())) \n",
        "    print('\\tGrupo 5: % 5.2f' %(sample4[item].median() - sample4[sample4['class'] == 1][item].median())) \n",
        "    print('\\tGrupo 6: % 5.2f' %(sample5[item].median() - sample5[sample5['class'] == 1][item].median())) \n",
        "    print('\\tGrupo 7: % 5.2f' %(sample6[item].median() - sample6[sample6['class'] == 1][item].median())) \n",
        "    print('\\tGrupo 8: % 5.2f' %(df2[item].median() - df2[df2['class'] == 1][item].median())) \n",
        "\n",
        "    print('Valor do grupo - Valor de Clientes SEM termo de deposito')\n",
        "    print('\\tGrupo 1: % 5.2f' %(df[item].median() - df[df['class'] == 0][item].median())) \n",
        "    print('\\tGrupo 2: % 5.2f' %(sample1[item].median() - sample1[sample1['class'] == 0][item].median())) \n",
        "    print('\\tGrupo 3: % 5.2f' %(sample2[item].median() - sample2[sample2['class'] == 0][item].median())) \n",
        "    print('\\tGrupo 4: % 5.2f' %(sample3[item].median() - sample3[sample3['class'] == 0][item].median())) \n",
        "    print('\\tGrupo 5: % 5.2f' %(sample4[item].median() - sample4[sample4['class'] == 0][item].median())) \n",
        "    print('\\tGrupo 6: % 5.2f' %(sample5[item].median() - sample5[sample5['class'] == 0][item].median())) \n",
        "    print('\\tGrupo 7: % 5.2f' %(sample6[item].median() - sample6[sample6['class'] == 0][item].median())) \n",
        "    print('\\tGrupo 8: % 5.2f' %(df2[item].median() - df2[df2['class'] == 0][item].median())) \n",
        "\n",
        "  elif metric == 'variancia':\n",
        "    print('\\tGrupo 1: % 5.2f' %(variance(df[item]))) \n",
        "    print('\\tGrupo 2: % 5.2f' %(variance(sample1[item]))) \n",
        "    print('\\tGrupo 3: % 5.2f' %(variance(sample2[item])))\n",
        "    print('\\tGrupo 4: % 5.2f' %(variance(sample3[item]))) \n",
        "    print('\\tGrupo 5: % 5.2f' %(variance(sample4[item]))) \n",
        "    print('\\tGrupo 6: % 5.2f' %(variance(sample5[item]))) \n",
        "    print('\\tGrupo 7: % 5.2f' %(variance(sample6[item]))) \n",
        "    print('\\tGrupo 8: % 5.2f' %(variance(df2[item])))\n",
        "\n",
        "    print('Valor do grupo - Valor de Clientes COM termo de deposito')\n",
        "    print('\\tGrupo 1: % 5.2f' %(variance(df[item]) - variance(df[df['class'] == 1][item]))) \n",
        "    print('\\tGrupo 2: % 5.2f' %(variance(sample1[item]) - variance(sample1[sample1['class'] == 1][item])))\n",
        "    print('\\tGrupo 3: % 5.2f' %(variance(sample2[item]) - variance(sample2[sample2['class'] == 1][item]))) \n",
        "    print('\\tGrupo 4: % 5.2f' %(variance(sample3[item]) - variance(sample3[sample3['class'] == 1][item]))) \n",
        "    print('\\tGrupo 5: % 5.2f' %(variance(sample4[item]) - variance(sample4[sample4['class'] == 1][item]))) \n",
        "    print('\\tGrupo 6: % 5.2f' %(variance(sample5[item]) - variance(sample5[sample5['class'] == 1][item]))) \n",
        "    print('\\tGrupo 7: % 5.2f' %(variance(sample6[item]) - variance(sample6[sample6['class'] == 1][item]))) \n",
        "    print('\\tGrupo 8: % 5.2f' %(variance(df2[item]) - variance(df2[df2['class'] == 1][item]))) \n",
        "\n",
        "    print('Valor do grupo - Valor de Clientes SEM termo de deposito')\n",
        "    print('\\tGrupo 1: % 5.2f' %(variance(df[item]) - variance(df[df['class'] == 0][item]))) \n",
        "    print('\\tGrupo 2: % 5.2f' %(variance(sample1[item]) - variance(sample1[sample1['class'] == 0][item])))\n",
        "    print('\\tGrupo 3: % 5.2f' %(variance(sample2[item]) - variance(sample2[sample2['class'] == 0][item]))) \n",
        "    print('\\tGrupo 4: % 5.2f' %(variance(sample3[item]) - variance(sample3[sample3['class'] == 0][item]))) \n",
        "    print('\\tGrupo 5: % 5.2f' %(variance(sample4[item]) - variance(sample4[sample4['class'] == 0][item]))) \n",
        "    print('\\tGrupo 6: % 5.2f' %(variance(sample5[item]) - variance(sample5[sample5['class'] == 0][item]))) \n",
        "    print('\\tGrupo 7: % 5.2f' %(variance(sample6[item]) - variance(sample6[sample6['class'] == 0][item]))) \n",
        "    print('\\tGrupo 8: % 5.2f' %(variance(df2[item]) - variance(df2[df2['class'] == 0][item]))) \n",
        "\n",
        "  elif metric == 'desvio_padrao':\n",
        "    print('\\tGrupo 1: % 5.2f' %(standard_deviation(df[item]))) \n",
        "    print('\\tGrupo 2: % 5.2f' %(standard_deviation(sample1[item]))) \n",
        "    print('\\tGrupo 3: % 5.2f' %(standard_deviation(sample2[item])))\n",
        "    print('\\tGrupo 4: % 5.2f' %(standard_deviation(sample3[item]))) \n",
        "    print('\\tGrupo 5: % 5.2f' %(standard_deviation(sample4[item]))) \n",
        "    print('\\tGrupo 6: % 5.2f' %(standard_deviation(sample5[item]))) \n",
        "    print('\\tGrupo 7: % 5.2f' %(standard_deviation(sample6[item]))) \n",
        "    print('\\tGrupo 8: % 5.2f' %(standard_deviation(df2[item])))\n",
        "\n",
        "    print('Valor do grupo - Valor de Clientes COM termo de deposito')\n",
        "    print('\\tGrupo 1: % 5.2f' %(standard_deviation(df[item]) - standard_deviation(df[df['class'] == 1][item]))) \n",
        "    print('\\tGrupo 2: % 5.2f' %(standard_deviation(sample1[item]) - standard_deviation(sample1[sample1['class'] == 1][item])))\n",
        "    print('\\tGrupo 3: % 5.2f' %(standard_deviation(sample2[item]) - standard_deviation(sample2[sample2['class'] == 1][item]))) \n",
        "    print('\\tGrupo 4: % 5.2f' %(standard_deviation(sample3[item]) - standard_deviation(sample3[sample3['class'] == 1][item]))) \n",
        "    print('\\tGrupo 5: % 5.2f' %(standard_deviation(sample4[item]) - standard_deviation(sample4[sample4['class'] == 1][item]))) \n",
        "    print('\\tGrupo 6: % 5.2f' %(standard_deviation(sample5[item]) - standard_deviation(sample5[sample5['class'] == 1][item]))) \n",
        "    print('\\tGrupo 7: % 5.2f' %(standard_deviation(sample6[item]) - standard_deviation(sample6[sample6['class'] == 1][item]))) \n",
        "    print('\\tGrupo 8: % 5.2f' %(standard_deviation(df2[item]) - standard_deviation(df2[df2['class'] == 1][item]))) \n",
        "\n",
        "    print('Valor do grupo - Valor de Clientes SEM termo de deposito')\n",
        "    print('\\tGrupo 1: % 5.2f' %(standard_deviation(df[item]) - standard_deviation(df[df['class'] == 0][item]))) \n",
        "    print('\\tGrupo 2: % 5.2f' %(standard_deviation(sample1[item]) - standard_deviation(sample1[sample1['class'] == 0][item])))\n",
        "    print('\\tGrupo 3: % 5.2f' %(standard_deviation(sample2[item]) - standard_deviation(sample2[sample2['class'] == 0][item]))) \n",
        "    print('\\tGrupo 4: % 5.2f' %(standard_deviation(sample3[item]) - standard_deviation(sample3[sample3['class'] == 0][item]))) \n",
        "    print('\\tGrupo 5: % 5.2f' %(standard_deviation(sample4[item]) - standard_deviation(sample4[sample4['class'] == 0][item]))) \n",
        "    print('\\tGrupo 6: % 5.2f' %(standard_deviation(sample5[item]) - standard_deviation(sample5[sample5['class'] == 0][item]))) \n",
        "    print('\\tGrupo 7: % 5.2f' %(standard_deviation(sample6[item]) - standard_deviation(sample6[sample6['class'] == 0][item]))) \n",
        "    print('\\tGrupo 8: % 5.2f' %(standard_deviation(df2[item]) - standard_deviation(df2[df2['class'] == 0][item]))) \n",
        "\n",
        "  elif metric == 'coeficiente_variancia':\n",
        "    print('\\tGrupo 1: % 5.2f' %(variance_coeficient(df[item]))) \n",
        "    print('\\tGrupo 2: % 5.2f' %(variance_coeficient(sample1[item]))) \n",
        "    print('\\tGrupo 3: % 5.2f' %(variance_coeficient(sample2[item])))\n",
        "    print('\\tGrupo 4: % 5.2f' %(variance_coeficient(sample3[item]))) \n",
        "    print('\\tGrupo 5: % 5.2f' %(variance_coeficient(sample4[item]))) \n",
        "    print('\\tGrupo 6: % 5.2f' %(variance_coeficient(sample5[item]))) \n",
        "    print('\\tGrupo 7: % 5.2f' %(variance_coeficient(sample6[item]))) \n",
        "    print('\\tGrupo 8: % 5.2f' %(variance_coeficient(df2[item])))\n",
        "\n",
        "    print('Valor do grupo - Valor de Clientes COM termo de deposito')\n",
        "    print('\\tGrupo 1: % 5.2f' %(variance_coeficient(df[item]) - variance_coeficient(df[df['class'] == 1][item]))) \n",
        "    print('\\tGrupo 2: % 5.2f' %(variance_coeficient(sample1[item]) - variance_coeficient(sample1[sample1['class'] == 1][item])))\n",
        "    print('\\tGrupo 3: % 5.2f' %(variance_coeficient(sample2[item]) - variance_coeficient(sample2[sample2['class'] == 1][item]))) \n",
        "    print('\\tGrupo 4: % 5.2f' %(variance_coeficient(sample3[item]) - variance_coeficient(sample3[sample3['class'] == 1][item]))) \n",
        "    print('\\tGrupo 5: % 5.2f' %(variance_coeficient(sample4[item]) - variance_coeficient(sample4[sample4['class'] == 1][item]))) \n",
        "    print('\\tGrupo 6: % 5.2f' %(variance_coeficient(sample5[item]) - variance_coeficient(sample5[sample5['class'] == 1][item]))) \n",
        "    print('\\tGrupo 7: % 5.2f' %(variance_coeficient(sample6[item]) - variance_coeficient(sample6[sample6['class'] == 1][item]))) \n",
        "    print('\\tGrupo 8: % 5.2f' %(variance_coeficient(df2[item]) - variance_coeficient(df2[df2['class'] == 1][item]))) \n",
        "\n",
        "    print('Valor do grupo - Valor de Clientes SEM termo de deposito')\n",
        "    print('\\tGrupo 1: % 5.2f' %(variance_coeficient(df[item]) - variance_coeficient(df[df['class'] == 0][item]))) \n",
        "    print('\\tGrupo 2: % 5.2f' %(variance_coeficient(sample1[item]) - variance_coeficient(sample1[sample1['class'] == 0][item])))\n",
        "    print('\\tGrupo 3: % 5.2f' %(variance_coeficient(sample2[item]) - variance_coeficient(sample2[sample2['class'] == 0][item]))) \n",
        "    print('\\tGrupo 4: % 5.2f' %(variance_coeficient(sample3[item]) - variance_coeficient(sample3[sample3['class'] == 0][item]))) \n",
        "    print('\\tGrupo 5: % 5.2f' %(variance_coeficient(sample4[item]) - variance_coeficient(sample4[sample4['class'] == 0][item]))) \n",
        "    print('\\tGrupo 6: % 5.2f' %(variance_coeficient(sample5[item]) - variance_coeficient(sample5[sample5['class'] == 0][item]))) \n",
        "    print('\\tGrupo 7: % 5.2f' %(variance_coeficient(sample6[item]) - variance_coeficient(sample6[sample6['class'] == 0][item]))) \n",
        "    print('\\tGrupo 8: % 5.2f' %(variance_coeficient(df2[item]) - variance_coeficient(df2[df2['class'] == 0][item]))) "
      ],
      "execution_count": 0,
      "outputs": []
    },
    {
      "cell_type": "code",
      "metadata": {
        "id": "xOMug18c1yKI",
        "colab_type": "code",
        "colab": {
          "base_uri": "https://localhost:8080/",
          "height": 1000
        },
        "outputId": "20f30482-276f-4299-b3c8-d1e7d208eed7"
      },
      "source": [
        "variables = ['age']#, 'balance', 'campaign', 'pdays', 'previous']\n",
        "metrics = ['media', 'mediana', 'variancia', 'desvio_padrao', 'coeficiente_variancia']\n",
        "\n",
        "for variable in variables:\n",
        "  for metric in metrics:\n",
        "    analysis(df, variable, metric)"
      ],
      "execution_count": 67,
      "outputs": [
        {
          "output_type": "stream",
          "text": [
            "DADO ANALISADO: age\n",
            "INDICADOR ESTATISTICO: media\n",
            "\tGrupo 1:  40.94\n",
            "\tGrupo 2:  40.87\n",
            "\tGrupo 3:  40.88\n",
            "\tGrupo 4:  44.51\n",
            "\tGrupo 5:  45.87\n",
            "\tGrupo 6:  39.96\n",
            "\tGrupo 7:  39.59\n",
            "\tGrupo 8:  40.94\n",
            "Valor do grupo - Valor de Clientes COM termo de deposito\n",
            "\tGrupo 1: -0.73\n",
            "\tGrupo 2: -1.17\n",
            "\tGrupo 3:  0.50\n",
            "\tGrupo 4: -0.86\n",
            "\tGrupo 5: -5.74\n",
            "\tGrupo 6: -0.69\n",
            "\tGrupo 7:  0.08\n",
            "\tGrupo 8: -0.73\n",
            "Valor do grupo - Valor de Clientes SEM termo de deposito\n",
            "\tGrupo 1:  0.10\n",
            "\tGrupo 2:  0.15\n",
            "\tGrupo 3: -0.02\n",
            "\tGrupo 4:  0.14\n",
            "\tGrupo 5:  0.54\n",
            "\tGrupo 6:  0.08\n",
            "\tGrupo 7: -0.01\n",
            "\tGrupo 8:  0.10\n",
            "DADO ANALISADO: age\n",
            "INDICADOR ESTATISTICO: mediana\n",
            "\tGrupo 1:  39.00\n",
            "\tGrupo 2:  39.00\n",
            "\tGrupo 3:  41.00\n",
            "\tGrupo 4:  45.00\n",
            "\tGrupo 5:  45.00\n",
            "\tGrupo 6:  38.00\n",
            "\tGrupo 7:  37.00\n",
            "\tGrupo 8:  39.00\n",
            "Valor do grupo - Valor de Clientes COM termo de deposito\n",
            "\tGrupo 1:  1.00\n",
            "\tGrupo 2:  1.00\n",
            "\tGrupo 3:  1.00\n",
            "\tGrupo 4:  1.00\n",
            "\tGrupo 5: -5.00\n",
            "\tGrupo 6:  0.00\n",
            "\tGrupo 7:  1.00\n",
            "\tGrupo 8:  1.00\n",
            "Valor do grupo - Valor de Clientes SEM termo de deposito\n",
            "\tGrupo 1:  0.00\n",
            "\tGrupo 2:  0.00\n",
            "\tGrupo 3:  0.00\n",
            "\tGrupo 4:  0.00\n",
            "\tGrupo 5:  0.00\n",
            "\tGrupo 6:  0.00\n",
            "\tGrupo 7:  0.00\n",
            "\tGrupo 8:  0.00\n",
            "DADO ANALISADO: age\n",
            "INDICADOR ESTATISTICO: variancia\n",
            "\tGrupo 1:  112.76\n",
            "\tGrupo 2:  116.35\n",
            "\tGrupo 3:  91.01\n",
            "\tGrupo 4:  148.67\n",
            "\tGrupo 5:  129.99\n",
            "\tGrupo 6:  103.21\n",
            "\tGrupo 7:  97.76\n",
            "\tGrupo 8:  112.75\n",
            "Valor do grupo - Valor de Clientes COM termo de deposito\n",
            "\tGrupo 1: -69.40\n",
            "\tGrupo 2: -67.61\n",
            "\tGrupo 3:  2.94\n",
            "\tGrupo 4: -123.66\n",
            "\tGrupo 5: -139.37\n",
            "\tGrupo 6: -60.47\n",
            "\tGrupo 7: -32.96\n",
            "\tGrupo 8: -69.40\n",
            "Valor do grupo - Valor de Clientes SEM termo de deposito\n",
            "\tGrupo 1:  9.28\n",
            "\tGrupo 2:  8.89\n",
            "\tGrupo 3: -0.08\n",
            "\tGrupo 4:  19.55\n",
            "\tGrupo 5:  16.56\n",
            "\tGrupo 6:  7.20\n",
            "\tGrupo 7:  5.82\n",
            "\tGrupo 8:  9.28\n",
            "DADO ANALISADO: age\n",
            "INDICADOR ESTATISTICO: desvio_padrao\n",
            "\tGrupo 1:  10.62\n",
            "\tGrupo 2:  10.79\n",
            "\tGrupo 3:  9.54\n",
            "\tGrupo 4:  12.19\n",
            "\tGrupo 5:  11.40\n",
            "\tGrupo 6:  10.16\n",
            "\tGrupo 7:  9.89\n",
            "\tGrupo 8:  10.62\n",
            "Valor do grupo - Valor de Clientes COM termo de deposito\n",
            "\tGrupo 1: -2.88\n",
            "\tGrupo 2: -2.78\n",
            "\tGrupo 3:  0.16\n",
            "\tGrupo 4: -4.31\n",
            "\tGrupo 5: -5.01\n",
            "\tGrupo 6: -2.63\n",
            "\tGrupo 7: -1.55\n",
            "\tGrupo 8: -2.88\n",
            "Valor do grupo - Valor de Clientes SEM termo de deposito\n",
            "\tGrupo 1:  0.45\n",
            "\tGrupo 2:  0.42\n",
            "\tGrupo 3: -0.00\n",
            "\tGrupo 4:  0.83\n",
            "\tGrupo 5:  0.75\n",
            "\tGrupo 6:  0.36\n",
            "\tGrupo 7:  0.30\n",
            "\tGrupo 8:  0.45\n",
            "DADO ANALISADO: age\n",
            "INDICADOR ESTATISTICO: coeficiente_variancia\n",
            "\tGrupo 1:  0.26\n",
            "\tGrupo 2:  0.26\n",
            "\tGrupo 3:  0.23\n",
            "\tGrupo 4:  0.27\n",
            "\tGrupo 5:  0.25\n",
            "\tGrupo 6:  0.25\n",
            "\tGrupo 7:  0.25\n",
            "\tGrupo 8:  0.26\n",
            "Valor do grupo - Valor de Clientes COM termo de deposito\n",
            "\tGrupo 1: -0.06\n",
            "\tGrupo 2: -0.06\n",
            "\tGrupo 3:  0.00\n",
            "\tGrupo 4: -0.09\n",
            "\tGrupo 5: -0.07\n",
            "\tGrupo 6: -0.06\n",
            "\tGrupo 7: -0.04\n",
            "\tGrupo 8: -0.06\n",
            "Valor do grupo - Valor de Clientes SEM termo de deposito\n",
            "\tGrupo 1:  0.01\n",
            "\tGrupo 2:  0.01\n",
            "\tGrupo 3: -0.00\n",
            "\tGrupo 4:  0.02\n",
            "\tGrupo 5:  0.01\n",
            "\tGrupo 6:  0.01\n",
            "\tGrupo 7:  0.01\n",
            "\tGrupo 8:  0.01\n"
          ],
          "name": "stdout"
        }
      ]
    },
    {
      "cell_type": "markdown",
      "metadata": {
        "id": "h8Y9oiS08Ulo",
        "colab_type": "text"
      },
      "source": [
        "## Probabilidade Gaussiana"
      ]
    },
    {
      "cell_type": "code",
      "metadata": {
        "id": "pi2RHNcY8YU2",
        "colab_type": "code",
        "colab": {}
      },
      "source": [
        "def calculate_probability(x, mean, stdev):\n",
        "\texponent = np.exp(-((x-mean)**2 / (2 * stdev**2 )))\n",
        "\treturn (1 / (np.sqrt(2 * np.pi) * stdev)) * exponent"
      ],
      "execution_count": 0,
      "outputs": []
    },
    {
      "cell_type": "code",
      "metadata": {
        "id": "bWIV24h7WK-y",
        "colab_type": "code",
        "colab": {}
      },
      "source": [
        "Distribuição por feature"
      ],
      "execution_count": 0,
      "outputs": []
    },
    {
      "cell_type": "code",
      "metadata": {
        "id": "3nM-qejb8Zld",
        "colab_type": "code",
        "outputId": "1cbc6e55-c362-4f39-b34d-e74b5d0723c7",
        "colab": {
          "base_uri": "https://localhost:8080/",
          "height": 282
        }
      },
      "source": [
        "x = np.arange(-2.5,10,0.1)\n",
        "for summ in summaries:\n",
        "  if summaries.index(summ) in (1, 2, 4, 5, 6, 12, 13):\n",
        "    y = calculate_probability(x, summ[0], summ[1])\n",
        "    plt.plot(x,y)\n",
        "\n",
        "plt.legend(['job', 'default', 'housing', 'loan', 'contact', 'previous', 'poutcome'])\n"
      ],
      "execution_count": 0,
      "outputs": [
        {
          "output_type": "execute_result",
          "data": {
            "text/plain": [
              "<matplotlib.legend.Legend at 0x7ff84f394c50>"
            ]
          },
          "metadata": {
            "tags": []
          },
          "execution_count": 327
        },
        {
          "output_type": "display_data",
          "data": {
            "image/png": "[encoded data removed]",
            "text/plain": [
              "<Figure size 432x288 with 1 Axes>"
            ]
          },
          "metadata": {
            "tags": []
          }
        }
      ]
    },
    {
      "cell_type": "markdown",
      "metadata": {
        "id": "ZU3tTVJ88YIa",
        "colab_type": "text"
      },
      "source": [
        "Distribuição de feature por classe"
      ]
    },
    {
      "cell_type": "code",
      "metadata": {
        "id": "i_JLGullWEPd",
        "colab_type": "code",
        "outputId": "f361b418-eb41-42b6-eda1-59bd75e5fbf7",
        "colab": {
          "base_uri": "https://localhost:8080/",
          "height": 438
        }
      },
      "source": [
        "n_classes = len(summaries_by_class)\n",
        "fig,ax = plt.subplots(1,n_classes)\n",
        "fig.set_size_inches(18, h=6)\n",
        "\n",
        "classes_name = ['No', 'Yes']\n",
        "for c in range(n_classes):\n",
        "  for summ in summaries_by_class[c]:\n",
        "    if summaries_by_class[c].index(summ) in (1, 2, 4, 5, 6, 12, 13):\n",
        "      ax[c].plot(x, calculate_probability(x, summ[0], summ[1]))\n",
        "  ax[c].set_title(classes_name[c])\n",
        "\n",
        "fig.legend(['job', 'default', 'housing', 'loan', 'contact', 'previous', 'poutcome'])\n"
      ],
      "execution_count": 0,
      "outputs": [
        {
          "output_type": "execute_result",
          "data": {
            "text/plain": [
              "<matplotlib.legend.Legend at 0x7ff84f337160>"
            ]
          },
          "metadata": {
            "tags": []
          },
          "execution_count": 329
        },
        {
          "output_type": "display_data",
          "data": {
            "image/png": "[encoded data removed]",
            "text/plain": [
              "<Figure size 1296x432 with 2 Axes>"
            ]
          },
          "metadata": {
            "tags": []
          }
        }
      ]
    },
    {
      "cell_type": "markdown",
      "metadata": {
        "id": "VTuifKqiWwPW",
        "colab_type": "text"
      },
      "source": [
        "Cálculo percentual da acurácia"
      ]
    },
    {
      "cell_type": "code",
      "metadata": {
        "id": "jBHwB_GKWfZy",
        "colab_type": "code",
        "colab": {}
      },
      "source": [
        "def accuracy_metric(actual, predicted):\n",
        "\tcorrect = 0\n",
        "\tfor i in range(len(actual)):\n",
        "\t\tif actual[i] == predicted[i]:\n",
        "\t\t\tcorrect += 1\n",
        "\treturn correct / float(len(actual)) * 100.0"
      ],
      "execution_count": 0,
      "outputs": []
    },
    {
      "cell_type": "markdown",
      "metadata": {
        "id": "DXbFqqTBW1ef",
        "colab_type": "text"
      },
      "source": [
        "Cálculo da probabilidade de predição"
      ]
    },
    {
      "cell_type": "code",
      "metadata": {
        "id": "hRh85xOMW1Q1",
        "colab_type": "code",
        "colab": {}
      },
      "source": [
        "def calculate_class_probabilities(summaries, row):\n",
        "  total_rows = sum([summaries[label][0][2] for label in summaries])\n",
        "  probabilities = dict()\n",
        "  for class_value, class_summaries in summaries.items():\n",
        "    probabilities[class_value] = summaries[class_value][0][2]/float(total_rows)\n",
        "    for i in range(len(class_summaries)):\n",
        "      mean, stdev, count = class_summaries[i]\n",
        "      probabilities[class_value] *= calculate_probability(row[i], mean, stdev)\n",
        "  return probabilities"
      ],
      "execution_count": 0,
      "outputs": []
    },
    {
      "cell_type": "markdown",
      "metadata": {
        "id": "yuETKFuoXEDu",
        "colab_type": "text"
      },
      "source": [
        "Predição da classe para uma determinada linha"
      ]
    },
    {
      "cell_type": "code",
      "metadata": {
        "id": "SZGUVzPkXENZ",
        "colab_type": "code",
        "colab": {}
      },
      "source": [
        "def predict(summaries, row):\n",
        "\n",
        "\tprobabilities = calculate_class_probabilities(summaries, row)\n",
        "\tbest_label, best_prob = None, -1\n",
        "\tfor class_value, probability in probabilities.items():\n",
        "\t\tif best_label is None or probability > best_prob:\n",
        "\t\t\tbest_prob = probability\n",
        "\t\t\tbest_label = class_value\n",
        "\treturn best_label"
      ],
      "execution_count": 0,
      "outputs": []
    },
    {
      "cell_type": "markdown",
      "metadata": {
        "id": "iSZK9CwSXGn_",
        "colab_type": "text"
      },
      "source": [
        "Dividindo o dataset"
      ]
    },
    {
      "cell_type": "code",
      "metadata": {
        "id": "jmmfFoc7XHP9",
        "colab_type": "code",
        "colab": {}
      },
      "source": [
        "def split(dataset):\n",
        "  sz = dataset.shape[0]\n",
        "  sh = np.arange(sz)\n",
        "  np.random.shuffle(sh)\n",
        "  vec = np.zeros((sz),dtype=bool)\n",
        "  vec[sh[:int(sz*0.75)]] = True\n",
        "  train = dataset.loc[vec]\n",
        "  test = dataset.loc[~vec]\n",
        "\n",
        "  return train, test"
      ],
      "execution_count": 0,
      "outputs": []
    },
    {
      "cell_type": "code",
      "metadata": {
        "id": "zLIu2oJqXKze",
        "colab_type": "code",
        "colab": {}
      },
      "source": [
        "train,test = split(df)"
      ],
      "execution_count": 0,
      "outputs": []
    },
    {
      "cell_type": "markdown",
      "metadata": {
        "id": "uQcEtDxJwidv",
        "colab_type": "text"
      },
      "source": [
        "## Naive Bayes"
      ]
    },
    {
      "cell_type": "code",
      "metadata": {
        "id": "-g_X4JjoXMbA",
        "colab_type": "code",
        "colab": {}
      },
      "source": [
        "# Naive Bayes Algorithm\n",
        "def naive_bayes(train, test):\n",
        "  summarize = summarize_by_class(train)\n",
        "  predictions = list()\n",
        "  vec = np.zeros(test.shape[0], dtype=bool)\n",
        "  for i in range(test.shape[0]):\n",
        "    vec[i] = True\n",
        "    row = np.array(test.loc[vec])[0]\n",
        "    output = predict(summarize, row)\n",
        "    predictions.append(output)\n",
        "    vec[i] = False\n",
        "  return(predictions)"
      ],
      "execution_count": 0,
      "outputs": []
    },
    {
      "cell_type": "code",
      "metadata": {
        "id": "7HYuUpqCXORK",
        "colab_type": "code",
        "outputId": "0ce6b803-e591-4283-bf7e-5a747ea1f423",
        "colab": {
          "base_uri": "https://localhost:8080/",
          "height": 224
        }
      },
      "source": [
        "predictions = naive_bayes(train,test)\n",
        "\n",
        "print(predictions)\n",
        "actual = np.array(test['class'])\n",
        "print(actual)\n",
        "\n",
        "print('Accuracy ', accuracy_metric(actual, predictions))"
      ],
      "execution_count": 0,
      "outputs": [
        {
          "output_type": "stream",
          "text": [
            "/usr/local/lib/python3.6/dist-packages/ipykernel_launcher.py:2: RuntimeWarning: invalid value encountered in double_scalars\n",
            "  \n",
            "/usr/local/lib/python3.6/dist-packages/ipykernel_launcher.py:3: RuntimeWarning: divide by zero encountered in double_scalars\n",
            "  This is separate from the ipykernel package so we can avoid doing imports until\n",
            "/usr/local/lib/python3.6/dist-packages/ipykernel_launcher.py:2: RuntimeWarning: divide by zero encountered in double_scalars\n",
            "  \n",
            "/usr/local/lib/python3.6/dist-packages/ipykernel_launcher.py:3: RuntimeWarning: invalid value encountered in double_scalars\n",
            "  This is separate from the ipykernel package so we can avoid doing imports until\n"
          ],
          "name": "stderr"
        },
        {
          "output_type": "stream",
          "text": [
            "[0, 0, 0, 0, 0, 0, 0, 0, 0, 0, 0, 0, 0, 0, 0, 0, 0, 0, 0, 0, 0, 0, 0, 0, 0, 0, 0, 0, 0, 0, 0, 0, 0, 0, 0, 0, 0, 0, 0, 0, 0, 0, 0, 0, 0, 0, 0, 0, 0, 0, 0, 0, 0, 0, 0, 0, 0, 0, 0, 0, 0, 0, 0, 0, 0, 0, 0, 0, 0, 0, 0, 0, 0, 0, 0, 0, 0, 0, 0, 0, 0, 0, 0, 0, 0, 0, 0, 0, 0, 0, 0, 0, 0, 0, 0, 0, 0, 0, 0, 0, 0, 0, 0, 0, 0, 0, 0, 0, 0, 0, 0, 0, 0, 0, 0, 0, 0, 0, 0, 0, 0, 0, 0, 0, 0, 0, 0, 0, 0, 0, 0, 0, 0, 0, 0, 0, 0, 0, 0, 0, 0, 0, 0, 0, 0, 0, 0, 0, 0, 0, 0, 0, 0, 0, 0, 0, 0, 0, 0, 0, 0, 0, 0, 0, 0, 0, 0, 0, 0, 0, 0, 0, 0, 0, 0, 0, 0, 0, 0, 0, 0, 0, 0, 0, 0, 0, 0, 0, 0, 0, 0, 0, 0, 0, 0, 0, 0, 0, 0, 0, 0, 0, 0, 0, 0, 0, 0, 0, 0, 0, 0, 0, 0, 0, 0, 0, 0, 0, 0, 0, 0, 0, 0, 0, 0, 0, 0, 0, 0, 0, 0, 0, 0, 0, 0, 0, 0, 0, 0, 0, 0, 0, 0, 0, 0, 0, 0, 0, 0, 0, 0, 0, 0, 0, 0, 0, 0, 0, 0, 0, 0, 0, 0, 0, 0, 0, 0, 0, 0, 0, 0, 0, 0, 0, 0, 0, 0, 0, 0, 0, 0, 0, 0, 0, 0, 0, 0, 0, 0, 0, 0, 0, 0, 0, 0, 0, 0, 0, 0, 0, 0, 0, 0, 0, 0, 0, 0, 0, 0, 0, 0, 0, 0, 0, 0, 0, 0, 0, 0, 0, 0, 0, 0, 0, 0, 0, 0, 0, 0, 0, 0, 0, 0, 0, 0, 0, 0, 0, 0, 0, 0, 0, 0, 0, 0, 0, 0, 0, 0, 0, 0, 0, 0, 0, 0, 0, 0, 0, 0, 0, 0, 0, 0, 0, 0, 0, 0, 0, 0, 0, 0, 0, 0, 0, 0, 0, 0, 0, 0, 0, 0, 0, 0, 0, 0, 0, 0, 0, 0, 0, 0, 0, 0, 0, 0, 0, 0, 0, 0, 0, 0, 0, 0, 0, 0, 0, 0, 0, 0, 0, 0, 0, 0, 0, 0, 0, 0, 0, 0, 0, 0, 0, 0, 0, 0, 0, 0, 0, 0, 0, 0, 0, 0, 0, 0, 0, 0, 0, 0, 0, 0, 0, 0, 0, 0, 0, 0, 0, 0, 0, 0, 0, 0, 0, 0, 0, 0, 0, 0, 0, 0, 0, 0, 0, 0, 0, 0, 0, 0, 0, 0, 0, 0, 0, 0, 0, 0, 0, 0, 0, 0, 0, 0, 0, 0, 0, 0, 0, 0, 0, 0, 0, 0, 0, 0, 0, 0, 0, 0, 0, 0, 0, 0, 0, 0, 0, 0, 0, 0, 0, 0, 0, 0, 0, 0, 0, 0, 0, 0, 0, 0, 0, 0, 0, 0, 0, 0, 0, 0, 0, 0, 0, 0, 0, 0, 0, 0, 0, 0, 0, 0, 0, 0, 0, 0, 0, 0, 0, 0, 0, 0, 0, 0, 0, 0, 0, 0, 0, 0, 0, 0, 0, 0, 0, 0, 0, 0, 0, 0, 0, 0, 0, 0, 0, 0, 0, 0, 0, 0, 0, 0, 0, 0, 0, 0, 0, 0, 0, 0, 0, 0, 0, 0, 0, 0, 0, 0, 0, 0, 0, 0, 0, 0, 0, 0, 0, 0, 0, 0, 0, 0, 0, 0, 0, 0, 0, 0, 0, 0, 0, 0, 0, 0, 0, 0, 0, 0, 0, 0, 0, 0, 0, 0, 0, 0, 0, 0, 0, 0, 0, 0, 0, 0, 0, 0, 0, 0, 0, 0, 0, 0, 0, 0, 0, 0, 0, 0, 0, 0, 0, 0, 0, 0, 0, 0, 0, 0, 0, 0, 0, 0, 0, 0, 0, 0, 0, 0, 0, 0, 0, 0, 0, 0, 0, 0, 0, 0, 0, 0, 0, 0, 0, 0, 0, 0, 0, 0, 0, 0, 0, 0, 0, 0, 0, 0, 0, 0, 0, 0, 0, 0, 0, 0, 0, 0, 0, 0, 0, 0, 0, 0, 0, 0, 0, 0, 0, 0, 0, 0, 0, 0, 0, 0, 0, 0, 0, 0, 0, 0, 0, 0, 0, 0, 0, 0, 0, 0, 0, 0, 0, 0, 0, 0, 0, 0, 0, 0, 0, 0, 0, 0, 0, 0, 0, 0, 0, 0, 0, 0, 0, 0, 0, 0, 0, 0, 0, 0, 0, 0, 0, 0, 0, 0, 0, 0, 0, 0, 0, 0, 0, 0, 0, 0, 0, 0, 0, 0, 0, 0, 0, 0, 0, 0, 0, 0, 0, 0, 0, 0, 0, 0, 0, 0, 0, 0, 0, 0, 0, 0, 0, 0, 0, 0, 0, 0, 0, 0, 0, 0, 0, 0, 0, 0, 0, 0, 0, 0, 0, 0, 0, 0, 0, 0, 0, 0, 0, 0, 0, 0, 0, 0, 0, 0, 0, 0, 0, 0, 0, 0, 0, 0, 0, 0, 0, 0, 0, 0, 0, 0, 0, 0, 0, 0, 0, 0, 0, 0, 0, 0, 0, 0, 0, 0, 0, 0, 0, 0, 0, 0, 0, 0, 0, 0, 0, 0, 0, 0, 0, 0, 0, 0, 0, 0, 0, 0, 0, 0, 0, 0, 0, 0, 0, 0, 0, 0, 0, 0, 0, 0, 0, 0, 0, 0, 0, 0, 0, 0, 0, 0, 0, 0, 0, 0, 0, 0, 0, 0, 0, 0, 0, 0, 0, 0, 0, 0, 0, 0, 0, 0, 0, 0, 0, 0, 0, 0, 0, 0, 0, 0, 0, 0, 0, 0, 0, 0, 0, 0, 0, 0, 0, 0, 0, 0, 0, 0, 0, 0, 0, 0, 0, 0, 0, 0, 0, 0, 0, 0, 0, 0, 0, 0, 0, 0, 0, 0, 0, 0, 0, 0, 0, 0, 0, 0, 0, 0, 0, 0, 0, 0, 0, 0, 0, 0, 0, 0, 0, 0, 0, 0, 0, 0, 0, 0, 0, 0, 0, 0, 0, 0, 0, 0, 0, 0, 0, 0, 0, 0, 0, 0, 0, 0, 0, 0, 0, 0, 0, 0, 0, 0, 0, 0, 0, 0, 0, 0, 0, 0, 0, 0, 0, 0, 0, 0, 0, 0, 0, 0, 0, 0, 0, 0, 0, 0, 0, 0, 0, 0, 0, 0, 0, 0, 0, 0, 0, 0, 0, 0, 0, 0, 0, 0, 0, 0, 0, 0, 0, 0, 0, 0, 0, 0, 0, 0, 0, 0, 0, 0, 0, 0, 0, 0, 0, 0, 0, 0, 0, 0, 0, 0, 0, 0, 0, 0, 0, 0, 0, 0, 0, 0, 0, 0, 0, 0, 0, 0, 0, 0, 0, 0, 0, 0, 0, 0, 0, 0, 0, 0, 0, 0, 0, 0, 0, 0, 0, 0, 0, 0, 0, 0, 0, 0, 0, 0, 0, 0, 0, 0, 0, 0, 0, 0, 0, 0, 0, 0, 0, 0, 0, 0, 0, 0, 0, 0, 0, 0, 0, 0, 0, 0, 0, 0, 0, 0, 0, 0, 0, 0, 0, 0, 0, 0, 0, 0, 0, 0, 0, 0, 0, 0, 0, 0, 0, 0, 0, 0, 0, 0, 0, 0, 0, 0, 0, 0, 0, 0, 0, 0, 0, 0, 0, 0, 0, 0, 0, 0, 0, 0, 0, 0, 0, 0, 0, 0, 0, 0, 0, 0, 0, 0, 0, 0, 0, 0, 0, 0, 0, 0, 0, 0, 0, 0, 0, 0, 0, 0, 0, 0, 0, 0, 0, 0, 0, 0, 0, 0, 0, 0, 0, 0, 0, 0, 0, 0, 0, 0, 0, 0, 0, 0, 0, 0, 0, 0, 0, 0, 0, 0, 0, 0, 0, 0, 0, 0, 0, 0, 0, 0, 0, 0, 0, 0, 0, 0, 0, 0, 0, 0, 0, 0, 0, 0, 0, 0, 0, 0, 0, 0, 0, 0, 0, 0, 0, 0, 0, 0, 0, 0, 0, 0, 0, 0, 0, 0, 0, 0, 0, 0, 0, 0, 0, 0, 0, 0, 0, 0, 0, 0, 0, 0, 0, 0, 0, 0, 0, 0, 0, 0, 0, 0, 0, 0, 0, 0, 0, 0, 0, 0, 0, 0, 0, 0, 0, 0, 0, 0, 0, 0, 0, 0, 0, 0, 0, 0, 0, 0, 0, 0, 0, 0, 0, 0, 0, 0, 0, 0, 0, 0, 0, 0, 0, 0, 0, 0, 0, 0, 0, 0, 0, 0, 0, 0, 0, 0, 0, 0, 0, 0, 0, 0, 0, 0, 0, 0, 0, 0, 0, 0, 0, 0, 0, 0, 0, 0, 0, 0, 0, 0, 0, 0, 0, 0, 0, 0, 0, 0, 0, 0, 0, 0, 0, 0, 0, 0, 0, 0, 0, 0, 0, 0, 0, 0, 0, 0, 0, 0, 0, 0, 0, 0, 0, 0, 0, 0, 0, 0, 0, 0, 0, 0, 0, 0, 0, 0, 0, 0, 0, 0, 0, 0, 0, 0, 0, 0, 0, 0, 0, 0, 0, 0, 0, 0, 0, 0, 0, 0, 0, 0, 0, 0, 0, 0, 0, 0, 0, 0, 0, 0, 0, 0, 0, 0, 0, 0, 0, 0, 0, 0, 0, 0, 0, 0, 0, 0, 0, 0, 0, 0, 0, 0, 0, 0, 0, 0, 0, 0, 0, 0, 0, 0, 0, 0, 0, 0, 0, 0, 0, 0, 0, 0, 0, 0, 0, 0, 0, 0, 0, 0, 0, 0, 0, 0, 0, 0, 0, 0, 0, 0, 0, 0, 0, 0, 0, 0, 0, 0, 0, 0, 0, 0, 0, 0, 0, 0, 0, 0, 0, 0, 0, 0, 0, 0, 0, 0, 0, 0, 0, 0, 0, 0, 0, 0, 0, 0, 0, 0, 0, 0, 0, 0, 0, 0, 0, 0, 0, 0, 0, 0, 0, 0, 0, 0, 0, 0, 0, 0, 0, 0, 0, 0, 0, 0, 0, 0, 0, 0, 0, 0, 0, 0, 0, 0, 0, 0, 0, 0, 0, 0, 0, 0, 0, 0, 0, 0, 0, 0, 0, 0, 0, 0, 0, 0, 0, 0, 0, 0, 0, 0, 0, 0, 0, 0, 0, 0, 0, 0, 0, 0, 0, 0, 0, 0, 0, 0, 0, 0, 0, 0, 0, 0, 0, 0, 0, 0, 0, 0, 0, 0, 0, 0, 0, 0, 0, 0, 0, 0, 0, 0, 0, 0, 0, 0, 0, 0, 0, 0, 0, 0, 0, 0, 0, 0, 0, 0, 0, 0, 0, 0, 0, 0, 0, 0, 0, 0, 0, 0, 0, 0, 0, 0, 0, 0, 0, 0, 0, 0, 0, 0, 0, 0, 0, 0, 0, 0, 0, 0, 0, 0, 0, 0, 0, 0, 0, 0, 0, 0, 0, 0, 0, 0, 0, 0, 0, 0, 0, 0, 0, 0, 0, 0, 0, 0, 0, 0, 0, 0, 0, 0, 0, 0, 0, 0, 0, 0, 0, 0, 0, 0, 0, 0, 0, 0, 0, 0, 0, 0, 0, 0, 0, 0, 0, 0, 0, 0, 0, 0, 0, 0, 0, 0, 0, 0, 0, 0, 0, 0, 0, 0, 0, 0, 0, 0, 0, 0, 0, 0, 0, 0, 0, 0, 0, 0, 0, 0, 0, 0, 0, 0, 0, 0, 0, 0, 0, 0, 0, 0, 0, 0, 0, 0, 0, 0, 0, 0, 0, 0, 0, 0, 0, 0, 0, 0, 0, 0, 0, 0, 0, 0, 0, 0, 0, 0, 0, 0, 0, 0, 0, 0, 0, 0, 0, 0, 0, 0, 0, 0, 0, 0, 0, 0, 0, 0, 0, 0, 0, 0, 0, 0, 0, 0, 0, 0, 0, 0, 0, 0, 0, 0, 0, 0, 0, 0, 0, 0, 0, 0, 0, 0, 0, 0, 0, 0, 0, 0, 0, 0, 0, 0, 0, 0, 0, 0, 0, 0, 0, 0, 0, 0, 0, 0, 0, 0, 0, 0, 0, 0, 0, 0, 0, 0, 0, 0, 0, 0, 0, 0, 0, 0, 0, 0, 0, 0, 0, 0, 0, 0, 0, 0, 0, 0, 0, 0, 0, 0, 0, 0, 0, 0, 0, 0, 0, 0, 0, 0, 0, 0, 0, 0, 0, 0, 0, 0, 0, 0, 0, 0, 0, 0, 0, 0, 0, 0, 0, 0, 0, 0, 0, 0, 0, 0, 0, 0, 0, 0, 0, 0, 0, 0, 0, 0, 0, 0, 0, 0, 0, 0, 0, 0, 0, 0, 0, 0, 0, 0, 0, 0, 0, 0, 0, 0, 0, 0, 0, 0, 0, 0, 0, 0, 0, 0, 0, 0, 0, 0, 0, 0, 0, 0, 0, 0, 0, 0, 0, 0, 0, 0, 0, 0, 0, 0, 0, 0, 0, 0, 0, 0, 0, 0, 0, 0, 0, 0, 0, 0, 0, 0, 0, 0, 0, 0, 0, 0, 0, 0, 0, 0, 0, 0, 0, 0, 0, 0, 0, 0, 0, 0, 0, 0, 0, 0, 0, 0, 0, 0, 0, 0, 0, 0, 0, 0, 0, 0, 0, 0, 0, 0, 0, 0, 0, 0, 0, 0, 0, 0, 0, 0, 0, 0, 0, 0, 0, 0, 0, 0, 0, 0, 0, 0, 0, 0, 0, 0, 0, 0, 0, 0, 0, 0, 0, 0, 0, 0, 0, 0, 0, 0, 0, 0, 0, 0, 0, 0, 0, 0, 0, 0, 0, 0, 0, 0, 0, 0, 0, 0, 0, 0, 0, 0, 0, 0, 0, 0, 0, 0, 0, 0, 0, 0, 0, 0, 0, 0, 0, 0, 0, 0, 0, 0, 0, 0, 0, 0, 0, 0, 0, 0, 0, 0, 0, 0, 0, 0, 0, 0, 0, 0, 0, 0, 0, 0, 0, 0, 0, 0, 0, 0, 0, 0, 0, 0, 0, 0, 0, 0, 0, 0, 0, 0, 0, 0, 0, 0, 0, 0, 0, 0, 0, 0, 0, 0, 0, 0, 0, 0, 0, 0, 0, 0, 0, 0, 0, 0, 0, 0, 0, 0, 0, 0, 0, 0, 0, 0, 0, 0, 0, 0, 0, 0, 0, 0, 0, 0, 0, 0, 0, 0, 0, 0, 0, 0, 0, 0, 0, 0, 0, 0, 0, 0, 0, 0, 0, 0, 0, 0, 0, 0, 0, 0, 0, 0, 0, 0, 0, 0, 0, 0, 0, 0, 0, 0, 0, 0, 0, 0, 0, 0, 0, 0, 0, 0, 0, 0, 0, 0, 0, 0, 0, 0, 0, 0, 0, 0, 0, 0, 0, 0, 0, 0, 0, 0, 0, 0, 0, 0, 0, 0, 0, 0, 0, 0, 0, 0, 0, 0, 0, 0, 0, 0, 0, 0, 0, 0, 0, 0, 0, 0, 0, 0, 0, 0, 0, 0, 0, 0, 0, 0, 0, 0, 0, 0, 0, 0, 0, 0, 0, 0, 0, 0, 0, 0, 0, 0, 0, 0, 0, 0, 0, 0, 0, 0, 0, 0, 0, 0, 0, 0, 0, 0, 0, 0, 0, 0, 0, 0, 0, 0, 0, 0, 0, 0, 0, 0, 0, 0, 0, 0, 0, 0, 0, 0, 0, 0, 0, 0, 0, 0, 0, 0, 0, 0, 0, 0, 0, 0, 0, 0, 0, 0, 0, 0, 0, 0, 0, 0, 0, 0, 0, 0, 0, 0, 0, 0, 0, 0, 0, 0, 0, 0, 0, 0, 0, 0, 0, 0, 0, 0, 0, 0, 0, 0, 0, 0, 0, 0, 0, 0, 0, 0, 0, 0, 0, 0, 0, 0, 0, 0, 0, 0, 0, 0, 0, 0, 0, 0, 0, 0, 0, 0, 0, 0, 0, 0, 0, 0, 0, 0, 0, 0, 0, 0, 0, 0, 0, 0, 0, 0, 0, 0, 0, 0, 0, 0, 0, 0, 0, 0, 0, 0, 0, 0, 0, 0, 0, 0, 0, 0, 0, 0, 0, 0, 0, 0, 0, 0, 0, 0, 0, 0, 0, 0, 0, 0, 0, 0, 0, 0, 0, 0, 0, 0, 0, 0, 0, 0, 0, 0, 0, 0, 0, 0, 0, 0, 0, 0, 0, 0, 0, 0, 0, 0, 0, 0, 0, 0, 0, 0, 0, 0, 0, 0, 0, 0, 0, 0, 0, 0, 0, 0, 0, 0, 0, 0, 0, 0, 0, 0, 0, 0, 0, 0, 0, 0, 0, 0, 0, 0, 0, 0, 0, 0, 0, 0, 0, 0, 0, 0, 0, 0, 0, 0, 0, 0, 0, 0, 0, 0, 0, 0, 0, 0, 0, 0, 0, 0, 0, 0, 0, 0, 0, 0, 0, 0, 0, 0, 0, 0, 0, 0, 0, 0, 0, 0, 0, 0, 0, 0, 0, 0, 0, 0, 0, 0, 0, 0, 0, 0, 0, 0, 0, 0, 0, 0, 0, 0, 0, 0, 0, 0, 0, 0, 0, 0, 0, 0, 0, 0, 0, 0, 0, 0, 0, 0, 0, 0, 0, 0, 0, 0, 0, 0, 0, 0, 0, 0, 0, 0, 0, 0, 0, 0, 0, 0, 0, 0, 0, 0, 0, 0, 0, 0, 0, 0, 0, 0, 0, 0, 0, 0, 0, 0, 0, 0, 0, 0, 0, 0, 0, 0, 0, 0, 0, 0, 0, 0, 0, 0, 0, 0, 0, 0, 0, 0, 0, 0, 0, 0, 0, 0, 0, 0, 0, 0, 0, 0, 0, 0, 0, 0, 0, 0, 0, 0, 0, 0, 0, 0, 0, 0, 0, 0, 0, 0, 0, 0, 0, 0, 0, 0, 0, 0, 0, 0, 0, 0, 0, 0, 0, 0, 0, 0, 0, 0, 0, 0, 0, 0, 0, 0, 0, 0, 0, 0, 0, 0, 0, 0, 0, 0, 0, 0, 0, 0, 0, 0, 0, 0, 0, 0, 0, 0, 0, 0, 0, 0, 0, 0, 0, 0, 0, 0, 0, 0, 0, 0, 0, 0, 0, 0, 0, 0, 0, 0, 0, 0, 0, 0, 0, 0, 0, 0, 0, 0, 0, 0, 0, 0, 0, 0, 0, 0, 0, 0, 0, 0, 0, 0, 0, 0, 0, 0, 0, 0, 0, 0, 0, 0, 0, 0, 0, 0, 0, 0, 0, 0, 0, 0, 0, 0, 0, 0, 0, 0, 0, 0, 0, 0, 0, 0, 0, 0, 0, 0, 0, 0, 0, 0, 0, 0, 0, 0, 0, 0, 0, 0, 0, 0, 0, 0, 0, 0, 0, 0, 0, 0, 0, 0, 0, 0, 0, 0, 0, 0, 0, 0, 0, 0, 0, 0, 0, 0, 0, 0, 0, 0, 0, 0, 0, 0, 0, 0, 0, 0, 0, 0, 0, 0, 0, 0, 0, 0, 0, 0, 0, 0, 0, 0, 0, 0, 0, 0, 0, 0, 0, 0, 0, 0, 0, 0, 0, 0, 0, 0, 0, 0, 0, 0, 0, 0, 0, 0, 0, 0, 0, 0, 0, 0, 0, 0, 0, 0, 0, 0, 0, 0, 0, 0, 0, 0, 0, 0, 0, 0, 0, 0, 0, 0, 0, 0, 0, 0, 0, 0, 0, 0, 0, 0, 0, 0, 0, 0, 0, 0, 0, 0, 0, 0, 0, 0, 0, 0, 0, 0, 0, 0, 0, 0, 0, 0, 0, 0, 0, 0, 0, 0, 0, 0, 0, 0, 0, 0, 0, 0, 0, 0, 0, 0, 0, 0, 0, 0, 0, 0, 0, 0, 0, 0, 0, 0, 0, 0, 0, 0, 0, 0, 0, 0, 0, 0, 0, 0, 0, 0, 0, 0, 0, 0, 0, 0, 0, 0, 0, 0, 0, 0, 0, 0, 0, 0, 0, 0, 0, 0, 0, 0, 0, 0, 0, 0, 0, 0, 0, 0, 0, 0, 0, 0, 0, 0, 0, 0, 0, 0, 0, 0, 0, 0, 0, 0, 0, 0, 0, 0, 0, 0, 0, 0, 0, 0, 0, 0, 0, 0, 0, 0, 0, 0, 0, 0, 0, 0, 0, 0, 0, 0, 0, 0, 0, 0, 0, 0, 0, 0, 0, 0, 0, 0, 0, 0, 0, 0, 0, 0, 0, 0, 0, 0, 0, 0, 0, 0, 0, 0, 0, 0, 0, 0, 0, 0, 0, 0, 0, 0, 0, 0, 0, 0, 0, 0, 0, 0, 0, 0, 0, 0, 0, 0, 0, 0, 0, 0, 0, 0, 0, 0, 0, 0, 0, 0, 0, 0, 0, 0, 0, 0, 0, 0, 0, 0, 0, 0, 0, 0, 0, 0, 0, 0, 0, 0, 0, 0, 0, 0, 0, 0, 0, 0, 0, 0, 0, 0, 0, 0, 0, 0, 0, 0, 0, 0, 0, 0, 0, 0, 0, 0, 0, 0, 0, 0, 0, 0, 0, 0, 0, 0, 0, 0, 0, 0, 0, 0, 0, 0, 0, 0, 0, 0, 0, 0, 0, 0, 0, 0, 0, 0, 0, 0, 0, 0, 0, 0, 0, 0, 0, 0, 0, 0, 0, 0, 0, 0, 0, 0, 0, 0, 0, 0, 0, 0, 0, 0, 0, 0, 0, 0, 0, 0, 0, 0, 0, 0, 0, 0, 0, 0, 0, 0, 0, 0, 0, 0, 0, 0, 0, 0, 0, 0, 0, 0, 0, 0, 0, 0, 0, 0, 0, 0, 0, 0, 0, 0, 0, 0, 0, 0, 0, 0, 0, 0, 0, 0, 0, 0, 0, 0, 0, 0, 0, 0, 0, 0, 0, 0, 0, 0, 0, 0, 0, 0, 0, 0, 0, 0, 0, 0, 0, 0, 0, 0, 0, 0, 0, 0, 0, 0, 0, 0, 0, 0, 0, 0, 0, 0, 0, 0, 0, 0, 0, 0, 0, 0, 0, 0, 0, 0, 0, 0, 0, 0, 0, 0, 0, 0, 0, 0, 0, 0, 0, 0, 0, 0, 0, 0, 0, 0, 0, 0, 0, 0, 0, 0, 0, 0, 0, 0, 0, 0, 0, 0, 0, 0, 0, 0, 0, 0, 0, 0, 0, 0, 0, 0, 0, 0, 0, 0, 0, 0, 0, 0, 0, 0, 0, 0, 0, 0, 0, 0, 0, 0, 0, 0, 0, 0, 0, 0, 0, 0, 0, 0, 0, 0, 0, 0, 0, 0, 0, 0, 0, 0, 0, 0, 0, 0, 0, 0, 0, 0, 0, 0, 0, 0, 0, 0, 0, 0, 0, 0, 0, 0, 0, 0, 0, 0, 0, 0, 0, 0, 0, 0, 0, 0, 0, 0, 0, 0, 0, 0, 0, 0, 0, 0, 0, 0, 0, 0, 0, 0, 0, 0, 0, 0, 0, 0, 0, 0, 0, 0, 0, 0, 0, 0, 0, 0, 0, 0, 0, 0, 0, 0, 0, 0, 0, 0, 0, 0, 0, 0, 0, 0, 0, 0, 0, 0, 0, 0, 0, 0, 0, 0, 0, 0, 0, 0, 0, 0, 0, 0, 0, 0, 0, 0, 0, 0, 0, 0, 0, 0, 0, 0, 0, 0, 0, 0, 0, 0, 0, 0, 0, 0, 0, 0, 0, 0, 0, 0, 0, 0, 0, 0, 0, 0, 0, 0, 0, 0, 0, 0, 0, 0, 0, 0, 0, 0, 0, 0, 0, 0, 0, 0, 0, 0, 0, 0, 0, 0, 0, 0, 0, 0, 0, 0, 0, 0, 0, 0, 0, 0, 0, 0, 0, 0, 0, 0, 0, 0, 0, 0, 0, 0, 0, 0, 0, 0, 0, 0, 0, 0, 0, 0, 0, 0, 0, 0, 0, 0, 0, 0, 0, 0, 0, 0, 0, 0, 0, 0, 0, 0, 0, 0, 0, 0, 0, 0, 0, 0, 0, 0, 0, 0, 0, 0, 0, 0, 0, 0, 0, 0, 0, 0, 0, 0, 0, 0, 0, 0, 0, 0, 0, 0, 0, 0, 0, 0, 0, 0, 0, 0, 0, 0, 0, 0, 0, 0, 0, 0, 0, 0, 0, 0, 0, 0, 0, 0, 0, 0, 0, 0, 0, 0, 0, 0, 0, 0, 0, 0, 0, 0, 0, 0, 0, 0, 0, 0, 0, 0, 0, 0, 0, 0, 0, 0, 0, 0, 0, 0, 0, 0, 0, 0, 0, 0, 0, 0, 0, 0, 0, 0, 0, 0, 0, 0, 0, 0, 0, 0, 0, 0, 0, 0, 0, 0, 0, 0, 0, 0, 0, 0, 0, 0, 0, 0, 0, 0, 0, 0, 0, 0, 0, 0, 0, 0, 0, 0, 0, 0, 0, 0, 0, 0, 0, 0, 0, 0, 0, 0, 0, 0, 0, 0, 0, 0, 0, 0, 0, 0, 0, 0, 0, 0, 0, 0, 0, 0, 0, 0, 0, 0, 0, 0, 0, 0, 0, 0, 0, 0, 0, 0, 0, 0, 0, 0, 0, 0, 0, 0, 0, 0, 0, 0, 0, 0, 0, 0, 0, 0, 0, 0, 0, 0, 0, 0, 0, 0, 0, 0, 0, 0, 0, 0, 0, 0, 0, 0, 0, 0, 0, 0, 0, 0, 0, 0, 0, 0, 0, 0, 0, 0, 0, 0, 0, 0, 0, 0, 0, 0, 0, 0, 0, 0, 0, 0, 0, 0, 0, 0, 0, 0, 0, 0, 0, 0, 0, 0, 0, 0, 0, 0, 0, 0, 0, 0, 0, 0, 0, 0, 0, 0, 0, 0, 0, 0, 0, 0, 0, 0, 0, 0, 0, 0, 0, 0, 0, 0, 0, 0, 0, 0, 0, 0, 0, 0, 0, 0, 0, 0, 0, 0, 0, 0, 0, 0, 0, 0, 0, 0, 0, 0, 0, 0, 0, 0, 0, 0, 0, 0, 0, 0, 0, 0, 0, 0, 0, 0, 0, 0, 0, 0, 0, 0, 0, 0, 0, 0, 0, 0, 0, 0, 0, 0, 0, 0, 0, 0, 0, 0, 0, 0, 0, 0, 0, 0, 0, 0, 0, 0, 0, 0, 0, 0, 0, 0, 0, 0, 0, 0, 0, 0, 0, 0, 0, 0, 0, 0, 0, 0, 0, 0, 0, 0, 0, 0, 0, 0, 0, 0, 0, 0, 0, 0, 0, 0, 0, 0, 0, 0, 0, 0, 0, 0, 0, 0, 0, 0, 0, 0, 0, 0, 0, 0, 0, 0, 0, 0, 0, 0, 0, 0, 0, 0, 0, 0, 0, 0, 0, 0, 0, 0, 0, 0, 0, 0, 0, 0, 0, 0, 0, 0, 0, 0, 0, 0, 0, 0, 0, 0, 0, 0, 0, 0, 0, 0, 0, 0, 0, 0, 0, 0, 0, 0, 0, 0, 0, 0, 0, 0, 0, 0, 0, 0, 0, 0, 0, 0, 0, 0, 0, 0, 0, 0, 0, 0, 0, 0, 0, 0, 0, 0, 0, 0, 0, 0, 0, 0, 0, 0, 0, 0, 0, 0, 0, 0, 0, 0, 0, 0, 0, 0, 0, 0, 0, 0, 0, 0, 0, 0, 0, 0, 0, 0, 0, 0, 0, 0, 0, 0, 0, 0, 0, 0, 0, 0, 0, 0, 0, 0, 0, 0, 0, 0, 0, 0, 0, 0, 0, 0, 0, 0, 0, 0, 0, 0, 0, 0, 0, 0, 0, 0, 0, 0, 0, 0, 0, 0, 0, 0, 0, 0, 0, 0, 0, 0, 0, 0, 0, 0, 0, 0, 0, 0, 0, 0, 0, 0, 0, 0, 0, 0, 0, 0, 0, 0, 0, 0, 0, 0, 0, 0, 0, 0, 0, 0, 0, 0, 0, 0, 0, 0, 0, 0, 0, 0, 0, 0, 0, 0, 0, 0, 0, 0, 0, 0, 0, 0, 0, 0, 0, 0, 0, 0, 0, 0, 0, 0, 0, 0, 0, 0, 0, 0, 0, 0, 0, 0, 0, 0, 0, 0, 0, 0, 0, 0, 0, 0, 0, 0, 0, 0, 0, 0, 0, 0, 0, 0, 0, 0, 0, 0, 0, 0, 0, 0, 0, 0, 0, 0, 0, 0, 0, 0, 0, 0, 0, 0, 0, 0, 0, 0, 0, 0, 0, 0, 0, 0, 0, 0, 0, 0, 0, 0, 0, 0, 0, 0, 0, 0, 0, 0, 0, 0, 0, 0, 0, 0, 0, 0, 0, 0, 0, 0, 0, 0, 0, 0, 0, 0, 0, 0, 0, 0, 0, 0, 0, 0, 0, 0, 0, 0, 0, 0, 0, 0, 0, 0, 0, 0, 0, 0, 0, 0, 0, 0, 0, 0, 0, 0, 0, 0, 0, 0, 0, 0, 0, 0, 0, 0, 0, 0, 0, 0, 0, 0, 0, 0, 0, 0, 0, 0, 0, 0, 0, 0, 0, 0, 0, 0, 0, 0, 0, 0, 0, 0, 0, 0, 0, 0, 0, 0, 0, 0, 0, 0, 0, 0, 0, 0, 0, 0, 0, 0, 0, 0, 0, 0, 0, 0, 0, 0, 0, 0, 0, 0, 0, 0, 0, 0, 0, 0, 0, 0, 0, 0, 0, 0, 0, 0, 0, 0, 0, 0, 0, 0, 0, 0, 0, 0, 0, 0, 0, 0, 0, 0, 0, 0, 0, 0, 0, 0, 0, 0, 0, 0, 0, 0, 0, 0, 0, 0, 0, 0, 0, 0, 0, 0, 0, 0, 0, 0, 0, 0, 0, 0, 0, 0, 0, 0, 0, 0, 0, 0, 0, 0, 0, 0, 0, 0, 0, 0, 0, 0, 0, 0, 0, 0, 0, 0, 0, 0, 0, 0, 0, 0, 0, 0, 0, 0, 0, 0, 0, 0, 0, 0, 0, 0, 0, 0, 0, 0, 0, 0, 0, 0, 0, 0, 0, 0, 0, 0, 0, 0, 0, 0, 0, 0, 0, 0, 0, 0, 0, 0, 0, 0, 0, 0, 0, 0, 0, 0, 0, 0, 0, 0, 0, 0, 0, 0, 0, 0, 0, 0, 0, 0, 0, 0, 0, 0, 0, 0, 0, 0, 0, 0, 0, 0, 0, 0, 0, 0, 0, 0, 0, 0, 0, 0, 0, 0, 0, 0, 0, 0, 0, 0, 0, 0, 0, 0, 0, 0, 0, 0, 0, 0, 0, 0, 0, 0, 0, 0, 0, 0, 0, 0, 0, 0, 0, 0, 0, 0, 0, 0, 0, 0, 0, 0, 0, 0, 0, 0, 0, 0, 0, 0, 0, 0, 0, 0, 0, 0, 0, 0, 0, 0, 0, 0, 0, 0, 0, 0, 0, 0, 0, 0, 0, 0, 0, 0, 0, 0, 0, 0, 0, 0, 0, 0, 0, 0, 0, 0, 0, 0, 0, 0, 0, 0, 0, 0, 0, 0, 0, 0, 0, 0, 0, 0, 0, 0, 0, 0, 0, 0, 0, 0, 0, 0, 0, 0, 0, 0, 0, 0, 0, 0, 0, 0, 0, 0, 0, 0, 0, 0, 0, 0, 0, 0, 0, 0, 0, 0, 0, 0, 0, 0, 0, 0, 0, 0, 0, 0, 0, 0, 0, 0, 0, 0, 0, 0, 0, 0, 0, 0, 0, 0, 0, 0, 0, 0, 0, 0, 0, 0, 0, 0, 0, 0, 0, 0, 0, 0, 0, 0, 0, 0, 0, 0, 0, 0, 0, 0, 0, 0, 0, 0, 0, 0, 0, 0, 0, 0, 0, 0, 0, 0, 0, 0, 0, 0, 0, 0, 0, 0, 0, 0, 0, 0, 0, 0, 0, 0, 0, 0, 0, 0, 0, 0, 0, 0, 0, 0, 0, 0, 0, 0, 0, 0, 0, 0, 0, 0, 0, 0, 0, 0, 0, 0, 0, 0, 0, 0, 0, 0, 0, 0, 0, 0, 0, 0, 0, 0, 0, 0, 0, 0, 0, 0, 0, 0, 0, 0, 0, 0, 0, 0, 0, 0, 0, 0, 0, 0, 0, 0, 0, 0, 0, 0, 0, 0, 0, 0, 0, 0, 0, 0, 0, 0, 0, 0, 0, 0, 0, 0, 0, 0, 0, 0, 0, 0, 0, 0, 0, 0, 0, 0, 0, 0, 0, 0, 0, 0, 0, 0, 0, 0, 0, 0, 0, 0, 0, 0, 0, 0, 0, 0, 0, 0, 0, 0, 0, 0, 0, 0, 0, 0, 0, 0, 0, 0, 0, 0, 0, 0, 0, 0, 0, 0, 0, 0, 0, 0, 0, 0, 0, 0, 0, 0, 0, 0, 0, 0, 0, 0, 0, 0, 0, 0, 0, 0, 0, 0, 0, 0, 0, 0, 0, 0, 0, 0, 0, 0, 0, 0, 0, 0, 0, 0, 0, 0, 0, 0, 0, 0, 0, 0, 0, 0, 0, 0, 0, 0, 0, 0, 0, 0, 0, 0, 0, 0, 0, 0, 0, 0, 0, 0, 0, 0, 0, 0, 0, 0, 0, 0, 0, 0, 0, 0, 0, 0, 0, 0, 0, 0, 0, 0, 0, 0, 0, 0, 0, 0, 0, 0, 0, 0, 0, 0, 0, 0, 0, 0, 0, 0, 0, 0, 0, 0, 0, 0, 0, 0, 0, 0, 0, 0, 0, 0, 0, 0, 0, 0, 0, 0, 0, 0, 0, 0, 0, 0, 0, 0, 0, 0, 0, 0, 0, 0, 0, 0, 0, 0, 0, 0, 0, 0, 0, 0, 0, 0, 0, 0, 0, 0, 0, 0, 0, 0, 0, 0, 0, 0, 0, 0, 0, 0, 0, 0, 0, 0, 0, 0, 0, 0, 0, 0, 0, 0, 0, 0, 0, 0, 0, 0, 0, 0, 0, 0, 0, 0, 0, 0, 0, 0, 0, 0, 0, 0, 0, 0, 0, 0, 0, 0, 0, 0, 0, 0, 0, 0, 0, 0, 0, 0, 0, 0, 0, 0, 0, 0, 0, 0, 0, 0, 0, 0, 0, 0, 0, 0, 0, 0, 0, 0, 0, 0, 0, 0, 0, 0, 0, 0, 0, 0, 0, 0, 0, 0, 0, 0, 0, 0, 0, 0, 0, 0, 0, 0, 0, 0, 0, 0, 0, 0, 0, 0, 0, 0, 0, 0, 0, 0, 0, 0, 0, 0, 0, 0, 0, 0, 0, 0, 0, 0, 0, 0, 0, 0, 0, 0, 0, 0, 0, 0, 0, 0, 0, 0, 0, 0, 0, 0, 0, 0, 0, 0, 0, 0, 0, 0, 0, 0, 0, 0, 0, 0, 0, 0, 0, 0, 0, 0, 0, 0, 0, 0, 0, 0, 0, 0, 0, 0, 0, 0, 0, 0, 0, 0, 0, 0, 0, 0, 0, 0, 0, 0, 0, 0, 0, 0, 0, 0, 0, 0, 0, 0, 0, 0, 0, 0, 0, 0, 0, 0, 0, 0, 0, 0, 0, 0, 0, 0, 0, 0, 0, 0, 0, 0, 0, 0, 0, 0, 0, 0, 0, 0, 0, 0, 0, 0, 0, 0, 0, 0, 0, 0, 0, 0, 0, 0, 0, 0, 0, 0, 0, 0, 0, 0, 0, 0, 0, 0, 0, 0, 0, 0, 0, 0, 0, 0, 0, 0, 0, 0, 0, 0, 0, 0, 0, 0, 0, 0, 0, 0, 0, 0, 0, 0, 0, 0, 0, 0, 0, 0, 0, 0, 0, 0, 0, 0, 0, 0, 0, 0, 0, 0, 0, 0, 0, 0, 0, 0, 0, 0, 0, 0, 0, 0, 0, 0, 0, 0, 0, 0, 0, 0, 0, 0, 0, 0, 0, 0, 0, 0, 0, 0, 0, 0, 0, 0, 0, 0, 0, 0, 0, 0, 0, 0, 0, 0, 0, 0, 0, 0, 0, 0, 0, 0, 0, 0, 0, 0, 0, 0, 0, 0, 0, 0, 0, 0, 0, 0, 0, 0, 0, 0, 0, 0, 0, 0, 0, 0, 0, 0, 0, 0, 0, 0, 0, 0, 0, 0, 0, 0, 0, 0, 0, 0, 0, 0, 0, 0, 0, 0, 0, 0, 0, 0, 0, 0, 0, 0, 0, 0, 0, 0, 0, 0, 0, 0, 0, 0, 0, 0, 0, 0, 0, 0, 0, 0, 0, 0, 0, 0, 0, 0, 0, 0, 0, 0, 0, 0, 0, 0, 0, 0, 0, 0, 0, 0, 0, 0, 0, 0, 0, 0, 0, 0, 0, 0, 0, 0, 0, 0, 0, 0, 0, 0, 0, 0, 0, 0, 0, 0, 0, 0, 0, 0, 0, 0, 0, 0, 0, 0, 0, 0, 0, 0, 0, 0, 0, 0, 0, 0, 0, 0, 0, 0, 0, 0, 0, 0, 0, 0, 0, 0, 0, 0, 0, 0, 0, 0, 0, 0, 0, 0, 0, 0, 0, 0, 0, 0, 0, 0, 0, 0, 0, 0, 0, 0, 0, 0, 0, 0, 0, 0, 0, 0, 0, 0, 0, 0, 0, 0, 0, 0, 0, 0, 0, 0, 0, 0, 0, 0, 0, 0, 0, 0, 0, 0, 0, 0, 0, 0, 0, 0, 0, 0, 0, 0, 0, 0, 0, 0, 0, 0, 0, 0, 0, 0, 0, 0, 0, 0, 0, 0, 0, 0, 0, 0, 0, 0, 0, 0, 0, 0, 0, 0, 0, 0, 0, 0, 0, 0, 0, 0, 0, 0, 0, 0, 0, 0, 0, 0, 0, 0, 0, 0, 0, 0, 0, 0, 0, 0, 0, 0, 0, 0, 0, 0, 0, 0, 0, 0, 0, 0, 0, 0, 0, 0, 0, 0, 0, 0, 0, 0, 0, 0, 0, 0, 0, 0, 0, 0, 0, 0, 0, 0, 0, 0, 0, 0, 0, 0, 0, 0, 0, 0, 0, 0, 0, 0, 0, 0, 0, 0, 0, 0, 0, 0, 0, 0, 0, 0, 0, 0, 0, 0, 0, 0, 0, 0, 0, 0, 0, 0, 0, 0, 0, 0, 0, 0, 0, 0, 0, 0, 0, 0, 0, 0, 0, 0, 0, 0, 0, 0, 0, 0, 0, 0, 0, 0, 0, 0, 0, 0, 0, 0, 0, 0, 0, 0, 0, 0, 0, 0, 0, 0, 0, 0, 0, 0, 0, 0, 0, 0, 0, 0, 0, 0, 0, 0, 0, 0, 0, 0, 0, 0, 0, 0, 0, 0, 0, 0, 0, 0, 0, 0, 0, 0, 0, 0, 0, 0, 0, 0, 0, 0, 0, 0, 0, 0, 0, 0, 0, 0, 0, 0, 0, 0, 0, 0, 0, 0, 0, 0, 0, 0, 0, 0, 0, 0, 0, 0, 0, 0, 0, 0, 0, 0, 0, 0, 0, 0, 0, 0, 0, 0, 0, 0, 0, 0, 0, 0, 0, 0, 0, 0, 0, 0, 0, 0, 0, 0, 0, 0, 0, 0, 0, 0, 0, 0, 0, 0, 0, 0, 0, 0, 0, 0, 0, 0, 0, 0, 0, 0, 0, 0, 0, 0, 0, 0, 0, 0, 0, 0, 0, 0, 0, 0, 0, 0, 0, 0, 0, 0, 0, 0, 0, 0, 0, 0, 0, 0, 0, 0, 0, 0, 0, 0, 0, 0, 0, 0, 0, 0, 0, 0, 0, 0, 0, 0, 0, 0, 0, 0, 0, 0, 0, 0, 0, 0, 0, 0, 0, 0, 0, 0, 0, 0, 0, 0, 0, 0, 0, 0, 0, 0, 0, 0, 0, 0, 0, 0, 0, 0, 0, 0, 0, 0, 0, 0, 0, 0, 0, 0, 0, 0, 0, 0, 0, 0, 0, 0, 0, 0, 0, 0, 0, 0, 0, 0, 0, 0, 0, 0, 0, 0, 0, 0, 0, 0, 0, 0, 0, 0, 0, 0, 0, 0, 0, 0, 0, 0, 0, 0, 0, 0, 0, 0, 0, 0, 0, 0, 0, 0, 0, 0, 0, 0, 0, 0, 0, 0, 0, 0, 0, 0, 0, 0, 0, 0, 0, 0, 0, 0, 0, 0, 0, 0, 0, 0, 0, 0, 0, 0, 0, 0, 0, 0, 0, 0, 0, 0, 0, 0, 0, 0, 0, 0, 0, 0, 0, 0, 0, 0, 0, 0, 0, 0, 0, 0, 0, 0, 0, 0, 0, 0, 0, 0, 0, 0, 0, 0, 0, 0, 0, 0, 0, 0, 0, 0, 0, 0, 0, 0, 0, 0, 0, 0, 0, 0, 0, 0, 0, 0, 0, 0, 0, 0, 0, 0, 0, 0, 0, 0, 0, 0, 0, 0, 0, 0, 0, 0, 0, 0, 0, 0, 0, 0, 0, 0, 0, 0, 0, 0, 0, 0, 0, 0, 0, 0, 0, 0, 0, 0, 0, 0, 0, 0, 0, 0, 0, 0, 0, 0, 0, 0, 0, 0, 0, 0, 0, 0, 0, 0, 0, 0, 0, 0, 0, 0, 0, 0, 0, 0, 0, 0, 0, 0, 0, 0, 0, 0, 0, 0, 0, 0, 0, 0, 0, 0, 0, 0, 0, 0, 0, 0, 0, 0, 0, 0, 0, 0, 0, 0, 0, 0, 0, 0, 0, 0, 0, 0, 0, 0, 0, 0, 0, 0, 0, 0, 0, 0, 0, 0, 0, 0, 0, 0, 0, 0, 0, 0, 0, 0, 0, 0, 0, 0, 0, 0, 0, 0, 0, 0, 0, 0, 0, 0, 0, 0, 0, 0, 0, 0, 0, 0, 0, 0, 0, 0, 0, 0, 0, 0, 0, 0, 0, 0, 0, 0, 0, 0, 0, 0, 0, 0, 0, 0, 0, 0, 0, 0, 0, 0, 0, 0, 0, 0, 0, 0, 0, 0, 0, 0, 0, 0, 0, 0, 0, 0, 0, 0, 0, 0, 0, 0, 0, 0, 0, 0, 0, 0, 0, 0, 0, 0, 0, 0, 0, 0, 0, 0, 0, 0, 0, 0, 0, 0, 0, 0, 0, 0, 0, 0, 0, 0, 0, 0, 0, 0, 0, 0, 0, 0, 0, 0, 0, 0, 0, 0, 0, 0, 0, 0, 0, 0, 0, 0, 0, 0, 0, 0, 0, 0, 0, 0, 0, 0, 0, 0, 0, 0, 0, 0, 0, 0, 0, 0, 0, 0, 0, 0, 0, 0, 0, 0, 0, 0, 0, 0, 0, 0, 0, 0, 0, 0, 0, 0, 0, 0, 0, 0, 0, 0, 0, 0, 0, 0, 0, 0, 0, 0, 0, 0, 0, 0, 0, 0, 0, 0, 0, 0, 0, 0, 0, 0, 0, 0, 0, 0, 0, 0, 0, 0, 0, 0, 0, 0, 0, 0, 0, 0, 0, 0, 0, 0, 0, 0, 0, 0, 0, 0, 0, 0, 0, 0, 0, 0, 0, 0, 0, 0, 0, 0, 0, 0, 0, 0, 0, 0, 0, 0, 0, 0, 0, 0, 0, 0, 0, 0, 0, 0, 0, 0, 0, 0, 0, 0, 0, 0, 0, 0, 0, 0, 0, 0, 0, 0, 0, 0, 0, 0, 0, 0, 0, 0, 0, 0, 0, 0, 0, 0, 0, 0, 0, 0, 0, 0, 0, 0, 0, 0, 0, 0, 0, 0, 0, 0, 0, 0, 0, 0, 0, 0, 0, 0, 0, 0, 0, 0, 0, 0, 0, 0, 0, 0, 0, 0, 0, 0, 0, 0, 0, 0, 0, 0, 0, 0, 0, 0, 0, 0, 0, 0, 0, 0, 0, 0, 0, 0, 0, 0, 0, 0, 0, 0, 0, 0, 0, 0, 0, 0, 0, 0, 0, 0, 0, 0, 0, 0, 0, 0, 0, 0, 0, 0, 0, 0, 0, 0, 0, 0, 0, 0, 0, 0, 0, 0, 0, 0, 0, 0, 0, 0, 0, 0, 0, 0, 0, 0, 0, 0, 0, 0, 0, 0, 0, 0, 0, 0, 0, 0, 0, 0, 0, 0, 0, 0, 0, 0, 0, 0, 0, 0, 0, 0, 0, 0, 0, 0, 0, 0, 0, 0, 0, 0, 0, 0, 0, 0, 0, 0, 0, 0, 0, 0, 0, 0, 0, 0, 0, 0, 0, 0, 0, 0, 0, 0, 0, 0, 0, 0, 0, 0, 0, 0, 0, 0, 0, 0, 0, 0, 0, 0, 0, 0, 0, 0, 0, 0, 0, 0, 0, 0, 0, 0, 0, 0, 0, 0, 0, 0, 0, 0, 0, 0, 0, 0, 0, 0, 0, 0, 0, 0, 0, 0, 0, 0, 0, 0, 0, 0, 0, 0, 0, 0, 0, 0, 0, 0, 0, 0, 0, 0, 0, 0, 0, 0, 0, 0, 0, 0, 0, 0, 0, 0, 0, 0, 0, 0, 0, 0, 0, 0, 0, 0, 0, 0, 0, 0, 0, 0, 0, 0, 0, 0, 0, 0, 0, 0, 0, 0, 0, 0, 0, 0, 0, 0, 0, 0, 0, 0, 0, 0, 0, 0, 0, 0, 0, 0, 0, 0, 0, 0, 0, 0, 0, 0, 0, 0, 0, 0, 0, 0, 0, 0, 0, 0, 0, 0, 0, 0, 0, 0, 0, 0, 0, 0, 0, 0, 0, 0, 0, 0, 0, 0, 0, 0, 0, 0, 0, 0, 0, 0, 0, 0, 0, 0, 0, 0, 0, 0, 0, 0, 0, 0, 0, 0, 0, 0, 0, 0, 0, 0, 0, 0, 0, 0, 0, 0, 0, 0, 0, 0, 0, 0, 0, 0, 0, 0, 0, 0, 0, 0, 0, 0, 0, 0, 0, 0, 0, 0, 0, 0, 0, 0, 0, 0, 0, 0, 0, 0, 0, 0, 0, 0, 0, 0, 0, 0, 0, 0, 0, 0, 0, 0, 0, 0, 0, 0, 0, 0, 0, 0, 0, 0, 0, 0, 0, 0, 0, 0, 0, 0, 0, 0, 0, 0, 0, 0, 0, 0, 0, 0, 0, 0, 0, 0, 0, 0, 0, 0, 0, 0, 0, 0, 0, 0, 0, 0, 0, 0, 0, 0, 0, 0, 0, 0, 0, 0, 0, 0, 0, 0, 0, 0, 0, 0, 0, 0, 0, 0, 0, 0, 0, 0, 0, 0, 0, 0, 0, 0, 0, 0, 0, 0, 0, 0, 0, 0, 0, 0, 0, 0, 0, 0, 0, 0, 0, 0, 0, 0, 0, 0, 0, 0, 0, 0, 0, 0, 0, 0, 0, 0, 0, 0, 0, 0, 0, 0, 0, 0, 0, 0, 0, 0, 0, 0, 0, 0, 0, 0, 0, 0, 0, 0, 0, 0, 0, 0, 0, 0, 0, 0, 0, 0, 0, 0, 0, 0, 0, 0, 0, 0, 0, 0, 0, 0, 0, 0, 0, 0, 0, 0, 0, 0, 0, 0, 0, 0, 0, 0, 0, 0, 0, 0, 0, 0, 0, 0, 0, 0, 0, 0, 0, 0, 0, 0, 0, 0, 0, 0, 0, 0, 0, 0, 0, 0, 0, 0, 0, 0, 0, 0, 0, 0, 0, 0, 0, 0, 0, 0, 0, 0, 0, 0, 0, 0, 0, 0, 0, 0, 0, 0, 0, 0, 0, 0, 0, 0, 0, 0, 0, 0, 0, 0, 0, 0, 0, 0, 0, 0, 0, 0, 0, 0, 0, 0, 0, 0, 0, 0, 0, 0, 0, 0, 0, 0, 0, 0, 0, 0, 0, 0, 0, 0, 0, 0, 0, 0, 0, 0, 0, 0, 0, 0, 0, 0, 0, 0, 0, 0, 0, 0, 0, 0, 0, 0, 0, 0, 0, 0, 0, 0, 0, 0, 0, 0, 0, 0, 0, 0, 0, 0, 0, 0, 0, 0, 0, 0, 0, 0, 0, 0, 0, 0, 0, 0, 0, 0, 0, 0, 0, 0, 0, 0, 0, 0, 0, 0, 0, 0, 0, 0, 0, 0, 0, 0, 0, 0, 0, 0, 0, 0, 0, 0, 0, 0, 0, 0, 0, 0, 0, 0, 0, 0, 0, 0, 0, 0, 0, 0, 0, 0, 0, 0, 0, 0, 0, 0, 0, 0, 0, 0, 0, 0, 0, 0, 0, 0, 0, 0, 0, 0, 0, 0, 0, 0, 0, 0, 0, 0, 0, 0, 0, 0, 0, 0, 0, 0, 0, 0, 0, 0, 0, 0, 0, 0, 0, 0, 0, 0, 0, 0, 0, 0, 0, 0, 0, 0, 0, 0, 0, 0, 0, 0, 0, 0, 0, 0, 0, 0, 0, 0, 0, 0, 0, 0, 0, 0, 0, 0, 0, 0, 0, 0, 0, 0, 0, 0, 0, 0, 0, 0, 0, 0, 0, 0, 0, 0, 0, 0, 0, 0, 0, 0, 0, 0, 0, 0, 0, 0, 0, 0, 0, 0, 0, 0, 0, 0, 0, 0, 0, 0, 0, 0, 0, 0, 0, 0, 0, 0, 0, 0, 0, 0, 0, 0, 0, 0, 0, 0, 0, 0, 0, 0, 0, 0, 0, 0, 0, 0, 0, 0, 0, 0, 0, 0, 0, 0, 0, 0, 0, 0, 0, 0, 0, 0, 0, 0, 0, 0, 0, 0, 0, 0, 0, 0, 0, 0, 0, 0, 0, 0, 0, 0, 0, 0, 0, 0, 0, 0, 0, 0, 0, 0, 0, 0, 0, 0, 0, 0, 0, 0, 0, 0, 0, 0, 0, 0, 0, 0, 0, 0, 0, 0, 0, 0, 0, 0, 0, 0, 0, 0, 0, 0, 0, 0, 0, 0, 0, 0, 0, 0, 0, 0, 0, 0, 0, 0, 0, 0, 0, 0, 0, 0, 0, 0, 0, 0, 0, 0, 0, 0, 0, 0, 0, 0, 0, 0, 0, 0, 0, 0, 0, 0, 0, 0, 0, 0, 0, 0, 0, 0, 0, 0, 0, 0, 0, 0, 0, 0, 0, 0, 0, 0, 0, 0, 0, 0, 0, 0, 0, 0, 0, 0, 0, 0, 0, 0, 0, 0, 0, 0, 0, 0, 0, 0, 0, 0, 0, 0, 0, 0, 0, 0, 0, 0, 0, 0, 0, 0, 0, 0, 0, 0, 0, 0, 0, 0, 0, 0, 0, 0, 0, 0, 0, 0, 0, 0, 0, 0, 0, 0, 0, 0, 0, 0, 0, 0, 0, 0, 0, 0, 0, 0, 0, 0, 0, 0, 0, 0, 0, 0, 0, 0, 0, 0, 0, 0, 0, 0, 0, 0, 0, 0, 0, 0, 0, 0, 0, 0, 0, 0, 0, 0, 0, 0, 0, 0, 0, 0, 0, 0, 0, 0, 0, 0, 0, 0, 0, 0, 0, 0, 0, 0, 0, 0, 0, 0, 0, 0, 0, 0, 0, 0, 0, 0, 0, 0, 0, 0, 0, 0, 0, 0, 0, 0, 0, 0, 0, 0, 0, 0, 0, 0, 0, 0, 0, 0, 0, 0, 0, 0, 0, 0, 0, 0, 0, 0, 0, 0, 0, 0, 0, 0, 0, 0, 0, 0, 0, 0, 0, 0, 0, 0, 0, 0, 0, 0, 0, 0, 0, 0, 0, 0, 0, 0, 0, 0, 0, 0, 0, 0, 0, 0, 0, 0, 0, 0, 0, 0, 0, 0, 0, 0, 0, 0, 0, 0, 0, 0, 0, 0, 0, 0, 0, 0, 0, 0, 0, 0, 0, 0, 0, 0, 0, 0, 0, 0, 0, 0, 0, 0, 0, 0, 0, 0, 0, 0, 0, 0, 0, 0, 0, 0, 0, 0, 0, 0, 0, 0, 0, 0, 0, 0, 0, 0, 0, 0, 0, 0, 0, 0, 0, 0, 0, 0, 0, 0, 0, 0, 0, 0, 0, 0, 0, 0, 0, 0, 0, 0, 0, 0, 0, 0, 0, 0, 0, 0, 0, 0, 0, 0, 0, 0, 0, 0, 0, 0, 0, 0, 0, 0, 0, 0, 0, 0, 0, 0, 0, 0, 0, 0, 0, 0, 0, 0, 0, 0, 0, 0, 0, 0, 0, 0, 0, 0, 0, 0, 0, 0, 0, 0, 0, 0, 0, 0, 0, 0, 0, 0, 0, 0, 0, 0, 0, 0, 0, 0, 0, 0, 0, 0, 0, 0, 0, 0, 0, 0, 0, 0, 0, 0, 0, 0, 0, 0, 0, 0, 0, 0, 0, 0, 0, 0, 0, 0, 0, 0, 0, 0, 0, 0, 0, 0, 0, 0, 0, 0, 0, 0, 0, 0, 0, 0, 0, 0, 0, 0, 0, 0, 0, 0, 0, 0, 0, 0, 0, 0, 0, 0, 0, 0, 0, 0, 0, 0, 0, 0, 0, 0, 0, 0, 0, 0, 0, 0, 0, 0, 0, 0, 0, 0, 0, 0, 0, 0, 0, 0, 0, 0, 0, 0, 0, 0, 0, 0, 0, 0, 0, 0, 0, 0, 0, 0, 0, 0, 0, 0, 0, 0, 0, 0, 0, 0, 0, 0, 0, 0, 0, 0, 0, 0, 0, 0, 0, 0, 0, 0, 0, 0, 0, 0, 0, 0, 0, 0, 0, 0, 0, 0, 0, 0, 0, 0, 0, 0, 0, 0, 0, 0, 0, 0, 0, 0, 0, 0, 0, 0, 0, 0, 0, 0, 0, 0, 0, 0, 0, 0, 0, 0, 0, 0, 0, 0, 0, 0, 0, 0, 0, 0, 0, 0, 0, 0, 0, 0, 0, 0, 0, 0, 0, 0, 0, 0, 0, 0, 0, 0, 0, 0, 0, 0, 0, 0, 0, 0, 0, 0, 0, 0, 0, 0, 0, 0, 0, 0, 0, 0, 0, 0, 0, 0, 0, 0, 0, 0, 0, 0, 0, 0, 0, 0, 0, 0, 0, 0, 0, 0, 0, 0, 0, 0, 0, 0, 0, 0, 0, 0, 0, 0, 0, 0, 0, 0, 0, 0, 0, 0, 0, 0, 0, 0, 0, 0, 0, 0, 0, 0, 0, 0, 0, 0, 0, 0, 0, 0, 0, 0, 0, 0, 0, 0, 0, 0, 0, 0, 0, 0, 0, 0, 0, 0, 0, 0, 0, 0, 0, 0, 0, 0, 0, 0, 0, 0, 0, 0, 0, 0, 0, 0, 0, 0, 0, 0, 0, 0, 0, 0, 0, 0, 0, 0, 0, 0, 0, 0, 0, 0, 0, 0, 0, 0, 0, 0, 0, 0, 0, 0, 0, 0, 0, 0, 0, 0, 0, 0, 0, 0, 0, 0, 0, 0, 0, 0, 0, 0, 0, 0, 0, 0, 0, 0, 0, 0, 0, 0, 0, 0, 0, 0, 0, 0, 0, 0, 0, 0, 0, 0, 0, 0, 0, 0, 0, 0, 0, 0, 0, 0, 0, 0, 0, 0, 0, 0, 0, 0, 0, 0, 0, 0, 0, 0, 0, 0, 0, 0, 0, 0, 0, 0, 0, 0, 0, 0, 0, 0, 0, 0, 0, 0, 0, 0, 0, 0, 0, 0, 0, 0, 0, 0, 0, 0, 0, 0, 0, 0, 0, 0, 0, 0, 0, 0, 0, 0, 0, 0, 0, 0, 0, 0, 0, 0, 0, 0, 0, 0, 0, 0, 0, 0, 0, 0, 0, 0, 0, 0, 0, 0, 0, 0, 0, 0, 0, 0, 0, 0, 0, 0, 0, 0, 0, 0, 0, 0, 0, 0, 0, 0, 0, 0, 0, 0, 0, 0, 0, 0, 0, 0, 0, 0, 0, 0, 0, 0, 0, 0, 0, 0, 0, 0, 0, 0, 0, 0, 0, 0, 0, 0, 0, 0, 0, 0, 0, 0, 0, 0, 0, 0, 0, 0, 0, 0, 0, 0, 0, 0, 0, 0, 0, 0, 0, 0, 0, 0, 0, 0, 0, 0, 0, 0, 0, 0, 0, 0, 0, 0, 0, 0, 0, 0, 0, 0, 0, 0, 0, 0, 0, 0, 0, 0, 0, 0, 0, 0, 0, 0, 0, 0, 0, 0, 0, 0, 0, 0, 0, 0, 0, 0, 0, 0, 0, 0, 0, 0, 0, 0, 0, 0, 0, 0, 0, 0, 0, 0, 0, 0, 0, 0, 0, 0, 0, 0, 0, 0, 0, 0, 0, 0, 0, 0, 0, 0, 0, 0, 0, 0, 0, 0, 0, 0, 0, 0, 0, 0, 0, 0, 0, 0, 0, 0, 0, 0, 0, 0, 0, 0, 0, 0, 0, 0, 0, 0, 0, 0, 0, 0, 0, 0, 0, 0, 0, 0, 0, 0, 0, 0, 0, 0, 0, 0, 0, 0, 0, 0, 0, 0, 0, 0, 0, 0, 0, 0, 0, 0, 0, 0, 0, 0, 0, 0, 0, 0, 0, 0, 0, 0, 0, 0, 0, 0, 0, 0, 0, 0, 0, 0, 0, 0, 0, 0, 0, 0, 0, 0, 0, 0, 0, 0, 0, 0, 0, 0, 0, 0, 0, 0, 0, 0, 0, 0, 0, 0, 0, 0, 0, 0, 0, 0, 0, 0, 0, 0, 0, 0, 0, 0, 0, 0, 0, 0, 0, 0, 0, 0, 0, 0, 0, 0, 0, 0, 0, 0, 0, 0, 0, 0, 0, 0, 0, 0, 0, 0, 0, 0, 0, 0, 0, 0, 0, 0, 0, 0, 0, 0, 0, 0, 0, 0, 0, 0, 0, 0, 0, 0, 0, 0, 0, 0, 0, 0, 0, 0, 0, 0, 0, 0, 0, 0, 0, 0, 0, 0, 0, 0, 0, 0, 0, 0, 0, 0, 0, 0, 0, 0, 0, 0, 0, 0, 0, 0, 0, 0, 0, 0, 0, 0, 0, 0, 0, 0, 0, 0, 0, 0, 0, 0, 0, 0, 0, 0, 0, 0, 0, 0, 0, 0, 0, 0, 0, 0, 0, 0, 0, 0, 0, 0, 0, 0, 0, 0, 0, 0, 0, 0, 0, 0, 0, 0, 0, 0, 0, 0, 0, 0, 0, 0, 0, 0, 0, 0, 0, 0, 0, 0, 0, 0, 0, 0, 0, 0, 0, 0, 0, 0, 0, 0, 0, 0, 0, 0, 0, 0, 0, 0, 0, 0, 0, 0, 0, 0, 0, 0, 0, 0, 0, 0, 0, 0, 0, 0, 0, 0, 0, 0, 0, 0, 0, 0, 0, 0, 0, 0, 0, 0, 0, 0, 0, 0, 0, 0, 0, 0, 0, 0, 0, 0, 0, 0, 0, 0, 0, 0, 0, 0, 0, 0, 0, 0, 0, 0, 0, 0, 0, 0, 0, 0, 0, 0, 0, 0, 0, 0, 0, 0, 0, 0, 0, 0, 0, 0, 0, 0, 0, 0, 0, 0, 0, 0, 0, 0, 0, 0, 0, 0, 0, 0, 0, 0, 0, 0, 0, 0, 0, 0, 0, 0, 0, 0, 0, 0, 0, 0, 0, 0, 0, 0, 0, 0, 0, 0, 0, 0, 0, 0, 0, 0, 0, 0, 0, 0, 0, 0, 0, 0, 0, 0, 0, 0, 0, 0, 0, 0, 0, 0, 0, 0, 0, 0, 0, 0, 0, 0, 0, 0, 0, 0, 0, 0, 0, 0, 0, 0, 0, 0, 0, 0, 0, 0, 0, 0, 0, 0, 0, 0, 0, 0, 0, 0, 0, 0, 0, 0, 0, 0, 0, 0, 0, 0, 0, 0, 0, 0, 0, 0, 0, 0, 0, 0, 0, 0, 0, 0, 0, 0, 0, 0, 0, 0, 0, 0, 0, 0, 0, 0, 0, 0, 0, 0, 0, 0, 0, 0, 0, 0, 0, 0, 0, 0, 0, 0, 0, 0, 0, 0, 0, 0, 0, 0, 0, 0, 0, 0, 0, 0, 0, 0, 0, 0, 0, 0, 0, 0, 0, 0, 0, 0, 0, 0, 0, 0, 0, 0, 0, 0, 0, 0, 0, 0, 0, 0, 0, 0, 0, 0, 0, 0, 0, 0, 0, 0, 0, 0, 0, 0, 0, 0, 0, 0, 0, 0, 0, 0, 0, 0, 0, 0, 0, 0, 0, 0, 0, 0, 0, 0, 0, 0, 0, 0, 0, 0, 0, 0, 0, 0, 0, 0, 0, 0, 0, 0, 0, 0, 0, 0, 0, 0, 0, 0, 0, 0, 0, 0, 0, 0, 0, 0, 0, 0, 0, 0, 0, 0, 0, 0, 0, 0, 0, 0, 0, 0, 0, 0, 0, 0, 0, 0, 0, 0, 0, 0, 0, 0, 0, 0, 0, 0, 0, 0, 0, 0, 0, 0, 0, 0, 0, 0, 0, 0, 0, 0, 0, 0, 0, 0, 0, 0, 0, 0, 0, 0, 0, 0, 0, 0, 0, 0, 0, 0, 0, 0, 0, 0, 0, 0, 0, 0, 0, 0, 0, 0, 0, 0, 0, 0, 0, 0, 0, 0, 0, 0, 0, 0, 0, 0, 0, 0, 0, 0, 0, 0, 0, 0, 0, 0, 0, 0, 0, 0, 0, 0, 0, 0, 0, 0, 0, 0, 0, 0, 0, 0, 0, 0, 0, 0, 0, 0, 0, 0, 0, 0, 0, 0, 0, 0, 0, 0, 0, 0, 0, 0, 0, 0, 0, 0, 0, 0, 0, 0, 0, 0, 0, 0, 0, 0, 0, 0, 0, 0, 0, 0, 0, 0, 0, 0, 0, 0, 0, 0, 0, 0, 0, 0, 0, 0, 0, 0, 0, 0, 0, 0, 0, 0, 0, 0, 0, 0, 0, 0, 0, 0, 0, 0, 0, 0, 0, 0, 0, 0, 0, 0, 0, 0, 0, 0, 0, 0, 0, 0, 0, 0, 0, 0, 0, 0, 0, 0, 0, 0, 0, 0, 0, 0, 0, 0, 0, 0, 0, 0, 0, 0, 0, 0, 0, 0, 0, 0, 0, 0, 0, 0, 0, 0, 0, 0, 0, 0, 0, 0, 0, 0, 0, 0, 0, 0, 0, 0, 0, 0, 0, 0, 0, 0, 0, 0, 0, 0, 0, 0, 0, 0, 0, 0, 0, 0, 0, 0, 0, 0, 0, 0, 0, 0, 0, 0, 0, 0, 0, 0, 0, 0, 0, 0, 0, 0, 0, 0, 0, 0, 0, 0, 0, 0, 0, 0, 0, 0, 0, 0, 0, 0, 0, 0, 0, 0, 0, 0, 0, 0, 0, 0, 0, 0, 0, 0, 0, 0, 0, 0, 0, 0, 0, 0, 0, 0, 0, 0, 0, 0, 0, 0, 0, 0, 0, 0, 0, 0, 0, 0, 0, 0, 0, 0, 0, 0, 0, 0, 0, 0, 0, 0, 0, 0, 0, 0, 0, 0, 0, 0, 0, 0, 0, 0, 0, 0, 0, 0, 0, 0, 0, 0, 0, 0, 0, 0, 0, 0, 0, 0, 0, 0, 0, 0, 0, 0, 0, 0, 0, 0, 0, 0, 0, 0, 0, 0, 0, 0, 0, 0, 0, 0, 0, 0, 0, 0, 0, 0, 0, 0, 0, 0, 0, 0, 0, 0, 0, 0, 0, 0, 0, 0, 0, 0, 0, 0, 0, 0, 0, 0, 0, 0, 0, 0, 0, 0, 0, 0, 0, 0, 0, 0, 0, 0, 0, 0, 0, 0, 0, 0, 0, 0, 0, 0, 0, 0, 0, 0, 0, 0, 0, 0, 0, 0, 0, 0, 0, 0, 0, 0, 0, 0, 0, 0, 0, 0, 0, 0, 0, 0, 0, 0, 0, 0, 0, 0, 0, 0, 0, 0, 0, 0, 0, 0, 0, 0, 0, 0, 0, 0, 0, 0, 0, 0, 0, 0, 0, 0, 0, 0, 0, 0, 0, 0, 0, 0, 0, 0, 0, 0, 0, 0, 0, 0, 0, 0, 0, 0, 0, 0, 0, 0, 0, 0, 0, 0, 0, 0, 0, 0, 0, 0, 0, 0, 0, 0, 0, 0, 0, 0, 0, 0, 0, 0, 0, 0, 0, 0, 0, 0, 0, 0, 0, 0, 0, 0, 0, 0, 0, 0, 0, 0, 0, 0, 0, 0, 0, 0, 0, 0, 0, 0, 0, 0, 0, 0, 0, 0, 0, 0, 0, 0, 0, 0, 0, 0, 0, 0, 0, 0, 0, 0, 0, 0, 0, 0, 0, 0, 0, 0, 0, 0, 0, 0, 0, 0, 0, 0, 0, 0, 0, 0, 0, 0, 0, 0, 0, 0, 0, 0, 0, 0, 0, 0, 0, 0, 0, 0, 0, 0, 0, 0, 0, 0, 0, 0, 0, 0, 0, 0, 0, 0, 0, 0, 0, 0, 0, 0, 0, 0, 0, 0, 0, 0, 0, 0, 0, 0, 0, 0, 0, 0, 0, 0, 0, 0, 0, 0, 0, 0, 0, 0, 0, 0, 0, 0, 0, 0, 0, 0, 0, 0, 0, 0, 0, 0, 0, 0, 0, 0, 0, 0, 0, 0, 0, 0, 0, 0, 0, 0, 0, 0, 0, 0, 0, 0, 0, 0, 0, 0, 0, 0, 0, 0, 0, 0, 0, 0, 0, 0, 0, 0, 0, 0, 0, 0, 0, 0, 0, 0, 0, 0, 0, 0, 0, 0, 0, 0, 0, 0, 0, 0, 0, 0, 0, 0, 0, 0, 0, 0, 0, 0, 0, 0, 0, 0, 0, 0, 0, 0, 0, 0, 0, 0, 0, 0, 0, 0, 0, 0, 0, 0, 0, 0, 0, 0, 0, 0, 0, 0, 0, 0, 0, 0, 0, 0, 0, 0, 0, 0, 0, 0, 0, 0, 0, 0, 0, 0, 0, 0, 0, 0, 0, 0, 0, 0, 0, 0, 0, 0, 0, 0, 0, 0, 0, 0, 0, 0, 0, 0, 0, 0, 0, 0, 0, 0, 0, 0, 0, 0, 0, 0, 0, 0, 0, 0, 0, 0, 0, 0, 0, 0, 0, 0, 0, 0, 0, 0, 0, 0, 0, 0, 0, 0, 0, 0, 0, 0, 0, 0, 0, 0, 0, 0, 0, 0, 0, 0, 0, 0, 0, 0, 0, 0, 0, 0, 0, 0, 0, 0, 0, 0, 0, 0, 0, 0, 0, 0, 0, 0, 0, 0, 0, 0, 0, 0, 0, 0, 0, 0, 0, 0, 0, 0, 0, 0, 0, 0, 0, 0, 0, 0, 0, 0, 0, 0, 0, 0, 0, 0, 0, 0, 0, 0, 0, 0, 0, 0, 0, 0, 0, 0, 0, 0, 0, 0, 0, 0, 0, 0, 0, 0, 0, 0, 0, 0, 0, 0, 0, 0, 0, 0, 0, 0, 0, 0, 0, 0, 0, 0, 0, 0, 0, 0, 0, 0, 0, 0, 0, 0, 0, 0, 0, 0, 0, 0, 0, 0, 0, 0, 0, 0, 0, 0, 0, 0, 0, 0, 0, 0, 0, 0, 0, 0, 0, 0, 0, 0, 0, 0, 0, 0, 0, 0, 0, 0, 0, 0, 0, 0, 0, 0, 0, 0, 0, 0, 0, 0, 0, 0, 0, 0, 0, 0, 0, 0, 0, 0, 0, 0, 0, 0, 0, 0, 0, 0, 0, 0, 0, 0, 0, 0, 0, 0, 0, 0, 0, 0, 0, 0, 0, 0, 0, 0, 0, 0, 0, 0, 0, 0, 0, 0, 0, 0, 0, 0, 0, 0, 0, 0, 0, 0, 0, 0, 0, 0, 0, 0, 0, 0, 0, 0, 0, 0, 0, 0, 0, 0, 0, 0, 0, 0, 0, 0, 0, 0, 0, 0, 0, 0, 0, 0, 0, 0, 0, 0, 0, 0, 0, 0, 0, 0, 0, 0, 0, 0, 0, 0, 0, 0, 0, 0, 0, 0, 0, 0, 0, 0, 0, 0, 0, 0, 0, 0, 0, 0, 0, 0, 0, 0, 0, 0, 0, 0, 0, 0, 0, 0, 0, 0, 0, 0, 0, 0, 0, 0, 0, 0, 0, 0, 0, 0, 0, 0, 0, 0, 0, 0, 0, 0, 0, 0, 0, 0, 0, 0, 0, 0, 0, 0, 0, 0, 0, 0, 0, 0, 0, 0, 0, 0, 0, 0, 0, 0, 0, 0, 0, 0, 0, 0, 0, 0, 0, 0, 0, 0, 0, 0, 0, 0, 0, 0, 0, 0, 0, 0, 0, 0, 0, 0, 0, 0, 0, 0, 0, 0, 0, 0, 0, 0, 0, 0, 0, 0, 0, 0, 0, 0, 0, 0, 0, 0, 0, 0, 0, 0, 0, 0, 0, 0, 0, 0, 0, 0, 0, 0, 0, 0, 0, 0, 0, 0, 0, 0, 0, 0, 0, 0, 0, 0, 0, 0, 0, 0, 0, 0, 0, 0, 0, 0, 0, 0, 0, 0, 0, 0, 0, 0, 0, 0, 0, 0, 0, 0, 0, 0, 0, 0, 0, 0, 0, 0, 0, 0, 0, 0, 0, 0, 0, 0, 0, 0, 0, 0, 0, 0, 0, 0, 0, 0, 0, 0, 0, 0, 0, 0, 0, 0, 0, 0, 0, 0, 0, 0, 0, 0, 0, 0, 0, 0, 0, 0, 0, 0, 0, 0, 0, 0, 0, 0, 0, 0, 0, 0, 0, 0, 0, 0, 0, 0, 0, 0, 0, 0, 0, 0, 0, 0, 0, 0, 0, 0, 0, 0, 0, 0, 0, 0, 0, 0, 0, 0, 0, 0, 0, 0, 0, 0, 0, 0, 0, 0, 0, 0, 0, 0, 0, 0, 0, 0, 0, 0, 0, 0, 0, 0, 0, 0, 0, 0, 0, 0, 0, 0, 0, 0, 0, 0, 0, 0, 0, 0, 0, 0, 0, 0, 0, 0, 0, 0, 0, 0, 0, 0, 0, 0, 0, 0, 0, 0, 0, 0, 0, 0, 0, 0, 0, 0, 0, 0, 0, 0, 0, 0, 0, 0, 0, 0, 0, 0, 0, 0, 0, 0, 0, 0, 0, 0, 0, 0, 0, 0, 0, 0, 0, 0, 0, 0, 0, 0, 0, 0, 0, 0, 0, 0, 0, 0, 0, 0, 0, 0, 0, 0, 0, 0, 0, 0, 0, 0, 0, 0, 0, 0, 0, 0, 0, 0, 0, 0, 0, 0, 0, 0, 0, 0, 0, 0, 0, 0, 0, 0, 0, 0, 0, 0, 0, 0, 0, 0, 0, 0, 0, 0, 0, 0, 0, 0, 0, 0, 0, 0, 0, 0, 0, 0, 0, 0, 0, 0, 0, 0, 0, 0, 0, 0, 0, 0, 0, 0, 0, 0, 0, 0, 0, 0, 0, 0, 0, 0, 0, 0, 0, 0, 0, 0, 0, 0, 0, 0, 0, 0, 0, 0, 0, 0, 0, 0, 0, 0, 0, 0, 0, 0, 0, 0, 0, 0, 0, 0, 0, 0, 0, 0, 0, 0, 0, 0, 0, 0, 0, 0, 0, 0, 0, 0, 0, 0, 0, 0, 0, 0, 0, 0, 0, 0, 0, 0, 0, 0, 0, 0, 0, 0, 0, 0, 0, 0, 0, 0, 0, 0, 0, 0, 0, 0, 0, 0, 0, 0, 0, 0, 0, 0, 0, 0, 0, 0, 0, 0, 0, 0, 0, 0, 0, 0, 0, 0, 0, 0, 0, 0, 0, 0, 0, 0, 0, 0, 0, 0, 0, 0, 0, 0, 0, 0, 0, 0, 0, 0, 0, 0, 0, 0, 0, 0, 0, 0, 0, 0, 0, 0, 0, 0, 0, 0, 0, 0, 0, 0, 0, 0, 0, 0, 0, 0, 0, 0, 0, 0, 0, 0, 0, 0, 0, 0, 0, 0, 0, 0, 0, 0, 0, 0, 0, 0, 0, 0, 0, 0, 0, 0, 0, 0, 0, 0, 0, 0, 0, 0, 0, 0, 0, 0, 0, 0, 0, 0, 0, 0, 0, 0, 0, 0, 0, 0, 0, 0, 0, 0, 0, 0, 0, 0, 0, 0, 0, 0, 0, 0, 0, 0, 0, 0, 0, 0, 0, 0, 0, 0, 0, 0, 0, 0, 0, 0, 0, 0, 0, 0, 0, 0, 0, 0, 0, 0, 0, 0, 0, 0, 0, 0, 0, 0, 0, 0, 0, 0, 0, 0, 0, 0, 0, 0, 0, 0, 0, 0, 0, 0, 0, 0, 0, 0, 0, 0, 0, 0, 0, 0, 0, 0, 0, 0, 0, 0, 0, 0]\n",
            "[0 0 0 ... 1 1 0]\n",
            "Accuracy  88.40130938688844\n"
          ],
          "name": "stdout"
        }
      ]
    },
    {
      "cell_type": "code",
      "metadata": {
        "id": "8HP8x_adXQTg",
        "colab_type": "code",
        "outputId": "4045668a-477f-462a-f458-6d42691ec916",
        "colab": {
          "base_uri": "https://localhost:8080/",
          "height": 34
        }
      },
      "source": [
        "from sklearn.naive_bayes import GaussianNB\n",
        "\n",
        "gnb = GaussianNB()\n",
        "pred = gnb.fit(np.array(train[train.columns[:4]]), np.array(train['class'])).predict(np.array(test[test.columns[:4]]))\n",
        "\n",
        "print(accuracy_metric(actual, pred))"
      ],
      "execution_count": 0,
      "outputs": [
        {
          "output_type": "stream",
          "text": [
            "87.11846412456869\n"
          ],
          "name": "stdout"
        }
      ]
    },
    {
      "cell_type": "markdown",
      "metadata": {
        "id": "n2JX3_gCvLr3",
        "colab_type": "text"
      },
      "source": [
        "## Teste de hipóteses"
      ]
    },
    {
      "cell_type": "code",
      "metadata": {
        "id": "QqXANZS_xTS1",
        "colab_type": "code",
        "colab": {}
      },
      "source": [
        "import scipy.stats as st\n",
        "import numpy as np"
      ],
      "execution_count": 0,
      "outputs": []
    },
    {
      "cell_type": "code",
      "metadata": {
        "id": "R0x-Ox1nvZ1J",
        "colab_type": "code",
        "colab": {}
      },
      "source": [
        "def calc_z0(xm, mi, sigma, n):\n",
        "  return (xm - mi)/(sigma/np.sqrt(n))"
      ],
      "execution_count": 0,
      "outputs": []
    },
    {
      "cell_type": "code",
      "metadata": {
        "id": "YA6IDQTgxRsi",
        "colab_type": "code",
        "colab": {}
      },
      "source": [
        "def decision_normal(z0, alpha, unilateral=True, right=True):\n",
        "  p = st.norm.cdf(z0)\n",
        "  if unilateral:\n",
        "    if right:\n",
        "      reject = (p > (1.0 - alpha))\n",
        "    else:\n",
        "      reject = (p < alpha)\n",
        "  else:\n",
        "    reject = ((p < (alpha/2)) | (p > (1.0 - alpha/2)))\n",
        "\n",
        "  return reject"
      ],
      "execution_count": 0,
      "outputs": []
    },
    {
      "cell_type": "code",
      "metadata": {
        "id": "BZ4KmfKBxbsL",
        "colab_type": "code",
        "colab": {}
      },
      "source": [
        "def calc_t0(xm, mi, s, n):\n",
        "  return (xm - mi)/(s/np.sqrt(n))"
      ],
      "execution_count": 0,
      "outputs": []
    },
    {
      "cell_type": "code",
      "metadata": {
        "id": "4cu8UCSAxdM5",
        "colab_type": "code",
        "colab": {}
      },
      "source": [
        "def decision_tstudent(t0, alpha, df, unilateral=True, right=True):\n",
        "  p = st.t.cdf(t0, df)\n",
        "  if unilateral:\n",
        "    if right:\n",
        "      reject = (p > (1.0 - alpha))\n",
        "    else:\n",
        "      reject = (p < alpha)\n",
        "  else:\n",
        "    reject = ((p < (alpha/2)) | (p > (1.0 - alpha/2)))\n",
        "\n",
        "  return reject"
      ],
      "execution_count": 0,
      "outputs": []
    },
    {
      "cell_type": "markdown",
      "metadata": {
        "id": "Tw9HGhj_-xQ-",
        "colab_type": "text"
      },
      "source": [
        "**T student**"
      ]
    },
    {
      "cell_type": "markdown",
      "metadata": {
        "id": "OLTOmzS-DAMz",
        "colab_type": "text"
      },
      "source": [
        "Coletando amostras"
      ]
    },
    {
      "cell_type": "code",
      "metadata": {
        "id": "SAtxj8nA-B2A",
        "colab_type": "code",
        "colab": {
          "base_uri": "https://localhost:8080/",
          "height": 34
        },
        "outputId": "0873a713-8b38-4cda-9747-492b6e992686"
      },
      "source": [
        "df_deposit_yes = df[df['class'] == 1]\n",
        "\n",
        "p_deposit_yes = len(df_deposit_yes)/len(df)\n",
        "\n",
        "print(p_deposit_yes)"
      ],
      "execution_count": 75,
      "outputs": [
        {
          "output_type": "stream",
          "text": [
            "0.11698480458295547\n"
          ],
          "name": "stdout"
        }
      ]
    },
    {
      "cell_type": "markdown",
      "metadata": {
        "id": "RczCOSrp-SkM",
        "colab_type": "text"
      },
      "source": [
        "Verificamos que 11.7% da população subscreveu um termo de depósito\n",
        "\n",
        "**Afirmação:** A proporção de indivíduos com termo de depósito é maior que 11%."
      ]
    },
    {
      "cell_type": "code",
      "metadata": {
        "id": "zyLGUteS-zEh",
        "colab_type": "code",
        "colab": {}
      },
      "source": [
        "n = 20 # tamanho da amostra\n",
        "gl = n - 1 # graus de liberdade\n",
        "p_deposit_yes_sample = np.zeros((n,))\n",
        "\n",
        "for i in range(20):\n",
        "  sample = np.arange(len(df))\n",
        "  np.random.shuffle(sample)\n",
        "\n",
        "  df_sample = df.loc[sample[:int(20)]]\n",
        "\n",
        "  df_deposit_yes_sample = df_sample[df_sample['class'] == 1]\n",
        "\n",
        "  p_deposit_yes_sample[i] = len(df_deposit_yes_sample)/len(df_sample)\n",
        "\n",
        "s_deposit_yes_sample = np.std(p_deposit_yes_sample)"
      ],
      "execution_count": 0,
      "outputs": []
    },
    {
      "cell_type": "markdown",
      "metadata": {
        "id": "xjPmQoxHDGRz",
        "colab_type": "text"
      },
      "source": [
        "Teste da hipótese"
      ]
    },
    {
      "cell_type": "code",
      "metadata": {
        "id": "ZwcRCM2T_j6j",
        "colab_type": "code",
        "colab": {
          "base_uri": "https://localhost:8080/",
          "height": 51
        },
        "outputId": "085aab0d-9dac-41c8-c693-00bf4d33c764"
      },
      "source": [
        "t0 = calc_t0(np.mean(p_deposit_yes_sample), 0.11, s_deposit_yes_sample, n)\n",
        "#print('t0 = ', t0)\n",
        "#print(st.t.cdf(t0, df)) # cumulative distribuition function\n",
        "\n",
        "alpha = 0.05\n",
        "reject = decision_tstudent(t0, alpha, gl, unilateral=True, right=True)\n",
        "\n",
        "if(reject):\n",
        "  print('H_0 rejeitada')\n",
        "  print('A proporção de indivíduos com termo de depósito é maior que 11%')\n",
        "else:\n",
        "  print('H_0 não rejeitada')\n",
        "  print('Não há evidência que a proporção de indivíduos com termo de depósito é maior que 11%')"
      ],
      "execution_count": 120,
      "outputs": [
        {
          "output_type": "stream",
          "text": [
            "H_0 não rejeitada\n",
            "Não há evidência que a proporção de indivíduos com termo de depósito é maior que 11%\n"
          ],
          "name": "stdout"
        }
      ]
    },
    {
      "cell_type": "markdown",
      "metadata": {
        "id": "NwzNHneBCQwe",
        "colab_type": "text"
      },
      "source": [
        "**Normal**"
      ]
    },
    {
      "cell_type": "markdown",
      "metadata": {
        "id": "vxqsod5NDM_A",
        "colab_type": "text"
      },
      "source": [
        "Coletando amostras"
      ]
    },
    {
      "cell_type": "code",
      "metadata": {
        "id": "9h3jl48lDPgd",
        "colab_type": "code",
        "colab": {
          "base_uri": "https://localhost:8080/",
          "height": 85
        },
        "outputId": "f6a6e4e5-fc3c-423d-c667-afd3652de737"
      },
      "source": [
        "df_deposit_yes_sample = df[df['class'] == 1].sample (frac =.10)\n",
        "\n",
        "n = len(df_deposit_yes_sample)\n",
        "xm = df_deposit_yes_sample['previous'].mean()\n",
        "s = np.std(df_deposit_yes_sample['previous'])\n",
        "mi = df['previous'].mean()\n",
        "\n",
        "print('Tamanho da amostra: ' + str(n))\n",
        "print('Média de contatos da amostra: ' + str(xm))\n",
        "print('Desvio padrão de contatos da amostra: ' + str(s))\n",
        "print('Média de contatos da população: ' + str(mi))"
      ],
      "execution_count": 170,
      "outputs": [
        {
          "output_type": "stream",
          "text": [
            "Tamanho da amostra: 529\n",
            "Média de contatos da amostra: 1.0926275992438563\n",
            "Desvio padrão de contatos da amostra: 2.2535253825056953\n",
            "Média de contatos da população: 0.5803233726305546\n"
          ],
          "name": "stdout"
        }
      ]
    },
    {
      "cell_type": "markdown",
      "metadata": {
        "id": "Q36wCK_cK5HO",
        "colab_type": "text"
      },
      "source": [
        "Verificamos que a média de contatos por indivíduo é de 0.58. Vamos verificar a hipótese de que a média de contatos para indivíduos que possuem termo de depósito é de 1.08, com nível de significância de 0.05."
      ]
    },
    {
      "cell_type": "code",
      "metadata": {
        "id": "-on_v3h3F_YG",
        "colab_type": "code",
        "colab": {
          "base_uri": "https://localhost:8080/",
          "height": 51
        },
        "outputId": "9981d977-b140-4004-9c1b-ca5f5471d2f4"
      },
      "source": [
        "alpha = 0.05\n",
        "sigma = s # Como n >= 30 podemos usar a normal\n",
        "\n",
        "z0 = calc_z0(xm, mi, sigma, n)\n",
        "reject = decision_normal(z0, alpha, unilateral=False)\n",
        "if(reject):\n",
        "  print('H_0 rejeitada')\n",
        "  print('A média de contatos para indivíduos que possuem termo de depósito não é de 1.08')\n",
        "else:\n",
        "  print('H_0 não rejeitada')\n",
        "  print('Não há evidência que a média de contatos para indivíduos que possuem termo de depósito não é de 1.08')"
      ],
      "execution_count": 171,
      "outputs": [
        {
          "output_type": "stream",
          "text": [
            "H_0 rejeitada\n",
            "A média de contatos para indivíduos que possuem termo de depósito não é de 1.08\n"
          ],
          "name": "stdout"
        }
      ]
    }
  ]
}