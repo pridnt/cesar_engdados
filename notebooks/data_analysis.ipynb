{
  "nbformat": 4,
  "nbformat_minor": 0,
  "metadata": {
    "colab": {
      "name": "data_analysis.ipynb",
      "provenance": [],
      "include_colab_link": true
    },
    "kernelspec": {
      "name": "python3",
      "display_name": "Python 3"
    }
  },
  "cells": [
    {
      "cell_type": "markdown",
      "metadata": {
        "id": "view-in-github",
        "colab_type": "text"
      },
      "source": [
        "<a href=\"https://colab.research.google.com/github/pridnt/cesar_engdados_icd/blob/master/notebooks/data_analysis.ipynb\" target=\"_parent\"><img src=\"https://colab.research.google.com/assets/colab-badge.svg\" alt=\"Open In Colab\"/></a>"
      ]
    },
    {
      "cell_type": "markdown",
      "metadata": {
        "id": "yrJICcJorXNN",
        "colab_type": "text"
      },
      "source": [
        "##Coleta de dados\n",
        "\n"
      ]
    },
    {
      "cell_type": "code",
      "metadata": {
        "id": "PpZlkJYFi_qG",
        "colab_type": "code",
        "colab": {}
      },
      "source": [
        "import pandas as pd\n",
        "\n",
        "url = \"https://raw.githubusercontent.com/pridnt/cesar_engdados_icd/master/data/AppleStore.csv\"\n",
        "df = pd.read_csv(url, encoding = \"ISO-8859-1\")"
      ],
      "execution_count": 0,
      "outputs": []
    },
    {
      "cell_type": "code",
      "metadata": {
        "id": "iAefr6c3DuYP",
        "colab_type": "code",
        "colab": {
          "base_uri": "https://localhost:8080/",
          "height": 428
        },
        "outputId": "b85c3f86-973e-490e-fbef-2d57af8cb6a5"
      },
      "source": [
        "# Overview dos dados\n",
        "df.head()"
      ],
      "execution_count": 104,
      "outputs": [
        {
          "output_type": "execute_result",
          "data": {
            "text/html": [
              "<div>\n",
              "<style scoped>\n",
              "    .dataframe tbody tr th:only-of-type {\n",
              "        vertical-align: middle;\n",
              "    }\n",
              "\n",
              "    .dataframe tbody tr th {\n",
              "        vertical-align: top;\n",
              "    }\n",
              "\n",
              "    .dataframe thead th {\n",
              "        text-align: right;\n",
              "    }\n",
              "</style>\n",
              "<table border=\"1\" class=\"dataframe\">\n",
              "  <thead>\n",
              "    <tr style=\"text-align: right;\">\n",
              "      <th></th>\n",
              "      <th>Unnamed: 0</th>\n",
              "      <th>id</th>\n",
              "      <th>track_name</th>\n",
              "      <th>size_bytes</th>\n",
              "      <th>currency</th>\n",
              "      <th>price</th>\n",
              "      <th>rating_count_tot</th>\n",
              "      <th>rating_count_ver</th>\n",
              "      <th>user_rating</th>\n",
              "      <th>user_rating_ver</th>\n",
              "      <th>ver</th>\n",
              "      <th>cont_rating</th>\n",
              "      <th>prime_genre</th>\n",
              "      <th>sup_devices.num</th>\n",
              "      <th>ipadSc_urls.num</th>\n",
              "      <th>lang.num</th>\n",
              "      <th>vpp_lic</th>\n",
              "    </tr>\n",
              "  </thead>\n",
              "  <tbody>\n",
              "    <tr>\n",
              "      <th>0</th>\n",
              "      <td>1</td>\n",
              "      <td>281656475</td>\n",
              "      <td>PAC-MAN Premium</td>\n",
              "      <td>100788224</td>\n",
              "      <td>USD</td>\n",
              "      <td>3.99</td>\n",
              "      <td>21292</td>\n",
              "      <td>26</td>\n",
              "      <td>4.0</td>\n",
              "      <td>4.5</td>\n",
              "      <td>6.3.5</td>\n",
              "      <td>4+</td>\n",
              "      <td>Games</td>\n",
              "      <td>38</td>\n",
              "      <td>5</td>\n",
              "      <td>10</td>\n",
              "      <td>1</td>\n",
              "    </tr>\n",
              "    <tr>\n",
              "      <th>1</th>\n",
              "      <td>2</td>\n",
              "      <td>281796108</td>\n",
              "      <td>Evernote - stay organized</td>\n",
              "      <td>158578688</td>\n",
              "      <td>USD</td>\n",
              "      <td>0.00</td>\n",
              "      <td>161065</td>\n",
              "      <td>26</td>\n",
              "      <td>4.0</td>\n",
              "      <td>3.5</td>\n",
              "      <td>8.2.2</td>\n",
              "      <td>4+</td>\n",
              "      <td>Productivity</td>\n",
              "      <td>37</td>\n",
              "      <td>5</td>\n",
              "      <td>23</td>\n",
              "      <td>1</td>\n",
              "    </tr>\n",
              "    <tr>\n",
              "      <th>2</th>\n",
              "      <td>3</td>\n",
              "      <td>281940292</td>\n",
              "      <td>WeatherBug - Local Weather, Radar, Maps, Alerts</td>\n",
              "      <td>100524032</td>\n",
              "      <td>USD</td>\n",
              "      <td>0.00</td>\n",
              "      <td>188583</td>\n",
              "      <td>2822</td>\n",
              "      <td>3.5</td>\n",
              "      <td>4.5</td>\n",
              "      <td>5.0.0</td>\n",
              "      <td>4+</td>\n",
              "      <td>Weather</td>\n",
              "      <td>37</td>\n",
              "      <td>5</td>\n",
              "      <td>3</td>\n",
              "      <td>1</td>\n",
              "    </tr>\n",
              "    <tr>\n",
              "      <th>3</th>\n",
              "      <td>4</td>\n",
              "      <td>282614216</td>\n",
              "      <td>eBay: Best App to Buy, Sell, Save! Online Shop...</td>\n",
              "      <td>128512000</td>\n",
              "      <td>USD</td>\n",
              "      <td>0.00</td>\n",
              "      <td>262241</td>\n",
              "      <td>649</td>\n",
              "      <td>4.0</td>\n",
              "      <td>4.5</td>\n",
              "      <td>5.10.0</td>\n",
              "      <td>12+</td>\n",
              "      <td>Shopping</td>\n",
              "      <td>37</td>\n",
              "      <td>5</td>\n",
              "      <td>9</td>\n",
              "      <td>1</td>\n",
              "    </tr>\n",
              "    <tr>\n",
              "      <th>4</th>\n",
              "      <td>5</td>\n",
              "      <td>282935706</td>\n",
              "      <td>Bible</td>\n",
              "      <td>92774400</td>\n",
              "      <td>USD</td>\n",
              "      <td>0.00</td>\n",
              "      <td>985920</td>\n",
              "      <td>5320</td>\n",
              "      <td>4.5</td>\n",
              "      <td>5.0</td>\n",
              "      <td>7.5.1</td>\n",
              "      <td>4+</td>\n",
              "      <td>Reference</td>\n",
              "      <td>37</td>\n",
              "      <td>5</td>\n",
              "      <td>45</td>\n",
              "      <td>1</td>\n",
              "    </tr>\n",
              "  </tbody>\n",
              "</table>\n",
              "</div>"
            ],
            "text/plain": [
              "   Unnamed: 0         id  ... lang.num  vpp_lic\n",
              "0           1  281656475  ...       10        1\n",
              "1           2  281796108  ...       23        1\n",
              "2           3  281940292  ...        3        1\n",
              "3           4  282614216  ...        9        1\n",
              "4           5  282935706  ...       45        1\n",
              "\n",
              "[5 rows x 17 columns]"
            ]
          },
          "metadata": {
            "tags": []
          },
          "execution_count": 104
        }
      ]
    },
    {
      "cell_type": "code",
      "metadata": {
        "id": "X1X5II2v-ZoE",
        "colab_type": "code",
        "outputId": "88574a13-dffe-48bb-d9d7-65979fb7cd32",
        "colab": {
          "base_uri": "https://localhost:8080/",
          "height": 34
        }
      },
      "source": [
        "# Dimensões do datadrame\n",
        "df.shape"
      ],
      "execution_count": 6,
      "outputs": [
        {
          "output_type": "execute_result",
          "data": {
            "text/plain": [
              "(7197, 17)"
            ]
          },
          "metadata": {
            "tags": []
          },
          "execution_count": 6
        }
      ]
    },
    {
      "cell_type": "markdown",
      "metadata": {
        "id": "sx73n8xasN2X",
        "colab_type": "text"
      },
      "source": [
        "## Pré-processamento dos dados"
      ]
    },
    {
      "cell_type": "markdown",
      "metadata": {
        "id": "sP3zqocMENXc",
        "colab_type": "text"
      },
      "source": [
        "**1.   Definição dos tipos**"
      ]
    },
    {
      "cell_type": "code",
      "metadata": {
        "id": "XsvgsdFtsQUA",
        "colab_type": "code",
        "outputId": "16ef2e92-6d75-46fb-e54c-0eae5f145eb6",
        "colab": {
          "base_uri": "https://localhost:8080/",
          "height": 323
        }
      },
      "source": [
        "df.dtypes"
      ],
      "execution_count": 7,
      "outputs": [
        {
          "output_type": "execute_result",
          "data": {
            "text/plain": [
              "Unnamed: 0            int64\n",
              "id                    int64\n",
              "track_name           object\n",
              "size_bytes            int64\n",
              "currency             object\n",
              "price               float64\n",
              "rating_count_tot      int64\n",
              "rating_count_ver      int64\n",
              "user_rating         float64\n",
              "user_rating_ver     float64\n",
              "ver                  object\n",
              "cont_rating          object\n",
              "prime_genre          object\n",
              "sup_devices.num       int64\n",
              "ipadSc_urls.num       int64\n",
              "lang.num              int64\n",
              "vpp_lic               int64\n",
              "dtype: object"
            ]
          },
          "metadata": {
            "tags": []
          },
          "execution_count": 7
        }
      ]
    },
    {
      "cell_type": "code",
      "metadata": {
        "id": "RFtZkFxmsbXQ",
        "colab_type": "code",
        "colab": {}
      },
      "source": [
        "# Ajustando tipos dos dados\n",
        "df['currency'] = df['currency'].astype('category')\n",
        "df['cont_rating'] = df['cont_rating'].astype('category')\n",
        "df['prime_genre'] = df['prime_genre'].astype('category')"
      ],
      "execution_count": 0,
      "outputs": []
    },
    {
      "cell_type": "code",
      "metadata": {
        "id": "BRWzLQdftCpQ",
        "colab_type": "code",
        "outputId": "7491ffbf-8b9c-4d6a-edcf-0a95e89c9477",
        "colab": {
          "base_uri": "https://localhost:8080/",
          "height": 306
        }
      },
      "source": [
        "df.dtypes"
      ],
      "execution_count": 10,
      "outputs": [
        {
          "output_type": "execute_result",
          "data": {
            "text/plain": [
              "id                     int64\n",
              "track_name            object\n",
              "size_bytes             int64\n",
              "currency            category\n",
              "price                float64\n",
              "rating_count_tot       int64\n",
              "rating_count_ver       int64\n",
              "user_rating          float64\n",
              "user_rating_ver      float64\n",
              "ver                   object\n",
              "cont_rating         category\n",
              "prime_genre         category\n",
              "sup_devices.num        int64\n",
              "ipadSc_urls.num        int64\n",
              "lang.num               int64\n",
              "vpp_lic                int64\n",
              "dtype: object"
            ]
          },
          "metadata": {
            "tags": []
          },
          "execution_count": 10
        }
      ]
    },
    {
      "cell_type": "code",
      "metadata": {
        "id": "27dhmb0YtSU4",
        "colab_type": "code",
        "outputId": "e7979b54-7071-4959-f9d5-91825f5bb13b",
        "colab": {
          "base_uri": "https://localhost:8080/",
          "height": 34
        }
      },
      "source": [
        "df['currency'].cat.categories"
      ],
      "execution_count": 11,
      "outputs": [
        {
          "output_type": "execute_result",
          "data": {
            "text/plain": [
              "Index(['USD'], dtype='object')"
            ]
          },
          "metadata": {
            "tags": []
          },
          "execution_count": 11
        }
      ]
    },
    {
      "cell_type": "code",
      "metadata": {
        "id": "SzWYPSAnt4te",
        "colab_type": "code",
        "outputId": "21bacd0d-2419-4668-ba06-36895f1b3f0e",
        "colab": {
          "base_uri": "https://localhost:8080/",
          "height": 34
        }
      },
      "source": [
        "df['cont_rating'].cat.categories"
      ],
      "execution_count": 12,
      "outputs": [
        {
          "output_type": "execute_result",
          "data": {
            "text/plain": [
              "Index(['12+', '17+', '4+', '9+'], dtype='object')"
            ]
          },
          "metadata": {
            "tags": []
          },
          "execution_count": 12
        }
      ]
    },
    {
      "cell_type": "code",
      "metadata": {
        "id": "TLVTrwGCtrwY",
        "colab_type": "code",
        "outputId": "8257835a-fe30-44aa-8620-9b6ca9f2b156",
        "colab": {
          "base_uri": "https://localhost:8080/",
          "height": 119
        }
      },
      "source": [
        "df['prime_genre'].cat.categories"
      ],
      "execution_count": 13,
      "outputs": [
        {
          "output_type": "execute_result",
          "data": {
            "text/plain": [
              "Index(['Book', 'Business', 'Catalogs', 'Education', 'Entertainment', 'Finance',\n",
              "       'Food & Drink', 'Games', 'Health & Fitness', 'Lifestyle', 'Medical',\n",
              "       'Music', 'Navigation', 'News', 'Photo & Video', 'Productivity',\n",
              "       'Reference', 'Shopping', 'Social Networking', 'Sports', 'Travel',\n",
              "       'Utilities', 'Weather'],\n",
              "      dtype='object')"
            ]
          },
          "metadata": {
            "tags": []
          },
          "execution_count": 13
        }
      ]
    },
    {
      "cell_type": "markdown",
      "metadata": {
        "id": "2H_F_poNuP61",
        "colab_type": "text"
      },
      "source": [
        "**2.   Tratamento dos dados ausentes**\n",
        "\n"
      ]
    },
    {
      "cell_type": "code",
      "metadata": {
        "id": "Epquiuwjsg1B",
        "colab_type": "code",
        "colab": {}
      },
      "source": [
        "df = df.drop(columns=['Unnamed: 0'])"
      ],
      "execution_count": 0,
      "outputs": []
    },
    {
      "cell_type": "code",
      "metadata": {
        "id": "FHGWOyd_uKEu",
        "colab_type": "code",
        "outputId": "28291151-ef0c-492b-d3f8-7e6eec5143b3",
        "colab": {
          "base_uri": "https://localhost:8080/",
          "height": 306
        }
      },
      "source": [
        "df.isnull().sum()"
      ],
      "execution_count": 14,
      "outputs": [
        {
          "output_type": "execute_result",
          "data": {
            "text/plain": [
              "id                  0\n",
              "track_name          0\n",
              "size_bytes          0\n",
              "currency            0\n",
              "price               0\n",
              "rating_count_tot    0\n",
              "rating_count_ver    0\n",
              "user_rating         0\n",
              "user_rating_ver     0\n",
              "ver                 0\n",
              "cont_rating         0\n",
              "prime_genre         0\n",
              "sup_devices.num     0\n",
              "ipadSc_urls.num     0\n",
              "lang.num            0\n",
              "vpp_lic             0\n",
              "dtype: int64"
            ]
          },
          "metadata": {
            "tags": []
          },
          "execution_count": 14
        }
      ]
    },
    {
      "cell_type": "markdown",
      "metadata": {
        "id": "gx_YBsiNBtM3",
        "colab_type": "text"
      },
      "source": [
        "**3.   Normalização e discretização**\n",
        "\n",
        "**3.1. Normalização**"
      ]
    },
    {
      "cell_type": "code",
      "metadata": {
        "id": "FX1KfPxTTMTF",
        "colab_type": "code",
        "colab": {
          "base_uri": "https://localhost:8080/",
          "height": 170
        },
        "outputId": "81916c14-aa18-4557-e092-586f64358a0f"
      },
      "source": [
        "df['price_norm'] = (df['price'] - df['price'].min()) / (df['price'].max() - df['price'].min())\n",
        "df['price_norm'].describe()"
      ],
      "execution_count": 57,
      "outputs": [
        {
          "output_type": "execute_result",
          "data": {
            "text/plain": [
              "count    7197.000000\n",
              "mean        0.005754\n",
              "std         0.019444\n",
              "min         0.000000\n",
              "25%         0.000000\n",
              "50%         0.000000\n",
              "75%         0.006634\n",
              "max         1.000000\n",
              "Name: price_norm, dtype: float64"
            ]
          },
          "metadata": {
            "tags": []
          },
          "execution_count": 57
        }
      ]
    },
    {
      "cell_type": "code",
      "metadata": {
        "id": "gnp9m-BgV-VE",
        "colab_type": "code",
        "colab": {
          "base_uri": "https://localhost:8080/",
          "height": 170
        },
        "outputId": "52916709-2ce7-4e72-d130-bbb4d6d96a98"
      },
      "source": [
        "df['price_norm'] = ((df['price'] - df['price'].min()) / (df['price'].max() - df['price'].min())*2) -1\n",
        "df['price_norm'].describe()"
      ],
      "execution_count": 59,
      "outputs": [
        {
          "output_type": "execute_result",
          "data": {
            "text/plain": [
              "count    7197.000000\n",
              "mean       -0.988491\n",
              "std         0.038888\n",
              "min        -1.000000\n",
              "25%        -1.000000\n",
              "50%        -1.000000\n",
              "75%        -0.986733\n",
              "max         1.000000\n",
              "Name: price_norm, dtype: float64"
            ]
          },
          "metadata": {
            "tags": []
          },
          "execution_count": 59
        }
      ]
    },
    {
      "cell_type": "code",
      "metadata": {
        "id": "mco1iVyCWHMq",
        "colab_type": "code",
        "colab": {
          "base_uri": "https://localhost:8080/",
          "height": 170
        },
        "outputId": "7ae19169-be52-4f8d-a374-46ef96739f93"
      },
      "source": [
        "from sklearn.preprocessing import StandardScaler, MinMaxScaler\n",
        "scaler = MinMaxScaler()\n",
        "df['price_norm'] = scaler.fit_transform(df[['price']])\n",
        "df['price_norm'].describe()"
      ],
      "execution_count": 60,
      "outputs": [
        {
          "output_type": "execute_result",
          "data": {
            "text/plain": [
              "count    7197.000000\n",
              "mean        0.005754\n",
              "std         0.019444\n",
              "min         0.000000\n",
              "25%         0.000000\n",
              "50%         0.000000\n",
              "75%         0.006634\n",
              "max         1.000000\n",
              "Name: price_norm, dtype: float64"
            ]
          },
          "metadata": {
            "tags": []
          },
          "execution_count": 60
        }
      ]
    },
    {
      "cell_type": "code",
      "metadata": {
        "id": "Wi0SnNOvWMPP",
        "colab_type": "code",
        "colab": {
          "base_uri": "https://localhost:8080/",
          "height": 170
        },
        "outputId": "461484f5-c819-4575-8895-748e0c4a0eb8"
      },
      "source": [
        "df['price_norm'] = (df['price'] - df['price'].mean()) / (df['price'].std())\n",
        "df['price_norm'].describe()"
      ],
      "execution_count": 61,
      "outputs": [
        {
          "output_type": "execute_result",
          "data": {
            "text/plain": [
              "count    7.197000e+03\n",
              "mean     1.071654e-14\n",
              "std      1.000000e+00\n",
              "min     -2.959397e-01\n",
              "25%     -2.959397e-01\n",
              "50%     -2.959397e-01\n",
              "75%      4.522233e-02\n",
              "max      5.113381e+01\n",
              "Name: price_norm, dtype: float64"
            ]
          },
          "metadata": {
            "tags": []
          },
          "execution_count": 61
        }
      ]
    },
    {
      "cell_type": "code",
      "metadata": {
        "id": "JeO9XF72WUgZ",
        "colab_type": "code",
        "colab": {
          "base_uri": "https://localhost:8080/",
          "height": 170
        },
        "outputId": "60bd9205-abbf-466d-8cbd-7df5dde138c9"
      },
      "source": [
        "scaler = StandardScaler()\n",
        "df['price_norm'] = scaler.fit_transform(df[['price']])\n",
        "df['price_norm'].describe()"
      ],
      "execution_count": 62,
      "outputs": [
        {
          "output_type": "execute_result",
          "data": {
            "text/plain": [
              "count    7.197000e+03\n",
              "mean     3.457812e-15\n",
              "std      1.000069e+00\n",
              "min     -2.959602e-01\n",
              "25%     -2.959602e-01\n",
              "50%     -2.959602e-01\n",
              "75%      4.522548e-02\n",
              "max      5.113736e+01\n",
              "Name: price_norm, dtype: float64"
            ]
          },
          "metadata": {
            "tags": []
          },
          "execution_count": 62
        }
      ]
    },
    {
      "cell_type": "code",
      "metadata": {
        "id": "3t4-P3QMWaYv",
        "colab_type": "code",
        "colab": {
          "base_uri": "https://localhost:8080/",
          "height": 282
        },
        "outputId": "87384021-76a8-4d13-abb4-455bedde6924"
      },
      "source": [
        "counts = df['price_norm'].value_counts()\n",
        "counts.plot.bar(rot=0)"
      ],
      "execution_count": 63,
      "outputs": [
        {
          "output_type": "execute_result",
          "data": {
            "text/plain": [
              "<matplotlib.axes._subplots.AxesSubplot at 0x7f09bbe620f0>"
            ]
          },
          "metadata": {
            "tags": []
          },
          "execution_count": 63
        },
        {
          "output_type": "display_data",
          "data": {
            "image/png": "[encoded data removed]",
            "text/plain": [
              "<Figure size 432x288 with 1 Axes>"
            ]
          },
          "metadata": {
            "tags": []
          }
        }
      ]
    },
    {
      "cell_type": "markdown",
      "metadata": {
        "id": "JDIFpnUhLY0h",
        "colab_type": "text"
      },
      "source": [
        "**3.2. Discretização**"
      ]
    },
    {
      "cell_type": "code",
      "metadata": {
        "id": "snGJOVHEBv_z",
        "colab_type": "code",
        "outputId": "4d5812c3-302c-49b3-e5b6-b63ea4267d49",
        "colab": {
          "base_uri": "https://localhost:8080/",
          "height": 368
        }
      },
      "source": [
        "df.describe()"
      ],
      "execution_count": 64,
      "outputs": [
        {
          "output_type": "execute_result",
          "data": {
            "text/html": [
              "<div>\n",
              "<style scoped>\n",
              "    .dataframe tbody tr th:only-of-type {\n",
              "        vertical-align: middle;\n",
              "    }\n",
              "\n",
              "    .dataframe tbody tr th {\n",
              "        vertical-align: top;\n",
              "    }\n",
              "\n",
              "    .dataframe thead th {\n",
              "        text-align: right;\n",
              "    }\n",
              "</style>\n",
              "<table border=\"1\" class=\"dataframe\">\n",
              "  <thead>\n",
              "    <tr style=\"text-align: right;\">\n",
              "      <th></th>\n",
              "      <th>id</th>\n",
              "      <th>size_bytes</th>\n",
              "      <th>price</th>\n",
              "      <th>rating_count_tot</th>\n",
              "      <th>rating_count_ver</th>\n",
              "      <th>user_rating</th>\n",
              "      <th>user_rating_ver</th>\n",
              "      <th>sup_devices.num</th>\n",
              "      <th>ipadSc_urls.num</th>\n",
              "      <th>lang.num</th>\n",
              "      <th>vpp_lic</th>\n",
              "      <th>price_norm</th>\n",
              "      <th>rating_count_ver_norm</th>\n",
              "    </tr>\n",
              "  </thead>\n",
              "  <tbody>\n",
              "    <tr>\n",
              "      <th>count</th>\n",
              "      <td>7.197000e+03</td>\n",
              "      <td>7.197000e+03</td>\n",
              "      <td>7197.000000</td>\n",
              "      <td>7.197000e+03</td>\n",
              "      <td>7197.000000</td>\n",
              "      <td>7197.000000</td>\n",
              "      <td>7197.000000</td>\n",
              "      <td>7197.000000</td>\n",
              "      <td>7197.000000</td>\n",
              "      <td>7197.000000</td>\n",
              "      <td>7197.000000</td>\n",
              "      <td>7.197000e+03</td>\n",
              "      <td>7197.000000</td>\n",
              "    </tr>\n",
              "    <tr>\n",
              "      <th>mean</th>\n",
              "      <td>8.631310e+08</td>\n",
              "      <td>1.991345e+08</td>\n",
              "      <td>1.726218</td>\n",
              "      <td>1.289291e+04</td>\n",
              "      <td>460.373906</td>\n",
              "      <td>3.526956</td>\n",
              "      <td>3.253578</td>\n",
              "      <td>37.361817</td>\n",
              "      <td>3.707100</td>\n",
              "      <td>5.434903</td>\n",
              "      <td>0.993053</td>\n",
              "      <td>3.457812e-15</td>\n",
              "      <td>0.002600</td>\n",
              "    </tr>\n",
              "    <tr>\n",
              "      <th>std</th>\n",
              "      <td>2.712368e+08</td>\n",
              "      <td>3.592069e+08</td>\n",
              "      <td>5.833006</td>\n",
              "      <td>7.573941e+04</td>\n",
              "      <td>3920.455183</td>\n",
              "      <td>1.517948</td>\n",
              "      <td>1.809363</td>\n",
              "      <td>3.737715</td>\n",
              "      <td>1.986005</td>\n",
              "      <td>7.919593</td>\n",
              "      <td>0.083066</td>\n",
              "      <td>1.000069e+00</td>\n",
              "      <td>0.022143</td>\n",
              "    </tr>\n",
              "    <tr>\n",
              "      <th>min</th>\n",
              "      <td>2.816565e+08</td>\n",
              "      <td>5.898240e+05</td>\n",
              "      <td>0.000000</td>\n",
              "      <td>0.000000e+00</td>\n",
              "      <td>0.000000</td>\n",
              "      <td>0.000000</td>\n",
              "      <td>0.000000</td>\n",
              "      <td>9.000000</td>\n",
              "      <td>0.000000</td>\n",
              "      <td>0.000000</td>\n",
              "      <td>0.000000</td>\n",
              "      <td>-2.959602e-01</td>\n",
              "      <td>0.000000</td>\n",
              "    </tr>\n",
              "    <tr>\n",
              "      <th>25%</th>\n",
              "      <td>6.000937e+08</td>\n",
              "      <td>4.692275e+07</td>\n",
              "      <td>0.000000</td>\n",
              "      <td>2.800000e+01</td>\n",
              "      <td>1.000000</td>\n",
              "      <td>3.500000</td>\n",
              "      <td>2.500000</td>\n",
              "      <td>37.000000</td>\n",
              "      <td>3.000000</td>\n",
              "      <td>1.000000</td>\n",
              "      <td>1.000000</td>\n",
              "      <td>-2.959602e-01</td>\n",
              "      <td>0.000006</td>\n",
              "    </tr>\n",
              "    <tr>\n",
              "      <th>50%</th>\n",
              "      <td>9.781482e+08</td>\n",
              "      <td>9.715302e+07</td>\n",
              "      <td>0.000000</td>\n",
              "      <td>3.000000e+02</td>\n",
              "      <td>23.000000</td>\n",
              "      <td>4.000000</td>\n",
              "      <td>4.000000</td>\n",
              "      <td>37.000000</td>\n",
              "      <td>5.000000</td>\n",
              "      <td>1.000000</td>\n",
              "      <td>1.000000</td>\n",
              "      <td>-2.959602e-01</td>\n",
              "      <td>0.000130</td>\n",
              "    </tr>\n",
              "    <tr>\n",
              "      <th>75%</th>\n",
              "      <td>1.082310e+09</td>\n",
              "      <td>1.819249e+08</td>\n",
              "      <td>1.990000</td>\n",
              "      <td>2.793000e+03</td>\n",
              "      <td>140.000000</td>\n",
              "      <td>4.500000</td>\n",
              "      <td>4.500000</td>\n",
              "      <td>38.000000</td>\n",
              "      <td>5.000000</td>\n",
              "      <td>8.000000</td>\n",
              "      <td>1.000000</td>\n",
              "      <td>4.522548e-02</td>\n",
              "      <td>0.000791</td>\n",
              "    </tr>\n",
              "    <tr>\n",
              "      <th>max</th>\n",
              "      <td>1.188376e+09</td>\n",
              "      <td>4.025970e+09</td>\n",
              "      <td>299.990000</td>\n",
              "      <td>2.974676e+06</td>\n",
              "      <td>177050.000000</td>\n",
              "      <td>5.000000</td>\n",
              "      <td>5.000000</td>\n",
              "      <td>47.000000</td>\n",
              "      <td>5.000000</td>\n",
              "      <td>75.000000</td>\n",
              "      <td>1.000000</td>\n",
              "      <td>5.113736e+01</td>\n",
              "      <td>1.000000</td>\n",
              "    </tr>\n",
              "  </tbody>\n",
              "</table>\n",
              "</div>"
            ],
            "text/plain": [
              "                 id    size_bytes  ...    price_norm  rating_count_ver_norm\n",
              "count  7.197000e+03  7.197000e+03  ...  7.197000e+03            7197.000000\n",
              "mean   8.631310e+08  1.991345e+08  ...  3.457812e-15               0.002600\n",
              "std    2.712368e+08  3.592069e+08  ...  1.000069e+00               0.022143\n",
              "min    2.816565e+08  5.898240e+05  ... -2.959602e-01               0.000000\n",
              "25%    6.000937e+08  4.692275e+07  ... -2.959602e-01               0.000006\n",
              "50%    9.781482e+08  9.715302e+07  ... -2.959602e-01               0.000130\n",
              "75%    1.082310e+09  1.819249e+08  ...  4.522548e-02               0.000791\n",
              "max    1.188376e+09  4.025970e+09  ...  5.113736e+01               1.000000\n",
              "\n",
              "[8 rows x 13 columns]"
            ]
          },
          "metadata": {
            "tags": []
          },
          "execution_count": 64
        }
      ]
    },
    {
      "cell_type": "code",
      "metadata": {
        "id": "xoCXHL0SJ4B-",
        "colab_type": "code",
        "colab": {}
      },
      "source": [
        "# Discretização não-supervisionada por intervalo (quantidade de agrupamentos pré-definidos)\n",
        "df['lang.num_dist'] = pd.cut(df['lang.num'],10)"
      ],
      "execution_count": 0,
      "outputs": []
    },
    {
      "cell_type": "code",
      "metadata": {
        "id": "LJ2CsLP0KGDy",
        "colab_type": "code",
        "colab": {
          "base_uri": "https://localhost:8080/",
          "height": 204
        },
        "outputId": "4ae14063-7f4a-4c4e-a4b2-9f27ed737fb2"
      },
      "source": [
        "df['user_rating'].value_counts()"
      ],
      "execution_count": 56,
      "outputs": [
        {
          "output_type": "execute_result",
          "data": {
            "text/plain": [
              "4.5    2663\n",
              "4.0    1626\n",
              "0.0     929\n",
              "3.5     702\n",
              "5.0     492\n",
              "3.0     383\n",
              "2.5     196\n",
              "2.0     106\n",
              "1.5      56\n",
              "1.0      44\n",
              "Name: user_rating, dtype: int64"
            ]
          },
          "metadata": {
            "tags": []
          },
          "execution_count": 56
        }
      ]
    },
    {
      "cell_type": "code",
      "metadata": {
        "id": "qkjpy6qDIkYU",
        "colab_type": "code",
        "colab": {
          "base_uri": "https://localhost:8080/",
          "height": 282
        },
        "outputId": "d812cef4-8ef1-4b6f-e21b-d63d16aec709"
      },
      "source": [
        "counts = df['lang.user_rating'].value_counts()\n",
        "counts.plot.bar(rot=0)"
      ],
      "execution_count": 55,
      "outputs": [
        {
          "output_type": "execute_result",
          "data": {
            "text/plain": [
              "<matplotlib.axes._subplots.AxesSubplot at 0x7f09bcc4aeb8>"
            ]
          },
          "metadata": {
            "tags": []
          },
          "execution_count": 55
        },
        {
          "output_type": "display_data",
          "data": {
            "image/png": "[encoded data removed]",
            "text/plain": [
              "<Figure size 432x288 with 1 Axes>"
            ]
          },
          "metadata": {
            "tags": []
          }
        }
      ]
    },
    {
      "cell_type": "code",
      "metadata": {
        "id": "yT6lztsSKTQj",
        "colab_type": "code",
        "colab": {}
      },
      "source": [
        "# Discretização não-supervisionada por frequência (números de elementos iguais)\n",
        "df['size_bytes_dist'] = pd.qcut(df['size_bytes'],5)"
      ],
      "execution_count": 0,
      "outputs": []
    },
    {
      "cell_type": "code",
      "metadata": {
        "id": "eWASwWpdKe8B",
        "colab_type": "code",
        "colab": {
          "base_uri": "https://localhost:8080/",
          "height": 119
        },
        "outputId": "317b0d31-966a-4d55-9f4c-9659ed522895"
      },
      "source": [
        "df['size_bytes_dist'].value_counts()"
      ],
      "execution_count": 78,
      "outputs": [
        {
          "output_type": "execute_result",
          "data": {
            "text/plain": [
              "(219630592.0, 4025969664.0]    1440\n",
              "(589823.999, 37105049.6]       1440\n",
              "(120458035.2, 219630592.0]     1439\n",
              "(75460812.8, 120458035.2]      1439\n",
              "(37105049.6, 75460812.8]       1439\n",
              "Name: size_bytes_dist, dtype: int64"
            ]
          },
          "metadata": {
            "tags": []
          },
          "execution_count": 78
        }
      ]
    },
    {
      "cell_type": "code",
      "metadata": {
        "id": "WD6PE_JlKf-j",
        "colab_type": "code",
        "colab": {
          "base_uri": "https://localhost:8080/",
          "height": 282
        },
        "outputId": "7fcd4ae6-05d9-4296-8c64-901ac7303298"
      },
      "source": [
        "counts = df['size_bytes_dist'].value_counts()\n",
        "counts.plot.bar(rot=0)"
      ],
      "execution_count": 79,
      "outputs": [
        {
          "output_type": "execute_result",
          "data": {
            "text/plain": [
              "<matplotlib.axes._subplots.AxesSubplot at 0x7f09bb853128>"
            ]
          },
          "metadata": {
            "tags": []
          },
          "execution_count": 79
        },
        {
          "output_type": "display_data",
          "data": {
            "image/png": "[encoded data removed]",
            "text/plain": [
              "<Figure size 432x288 with 1 Axes>"
            ]
          },
          "metadata": {
            "tags": []
          }
        }
      ]
    },
    {
      "cell_type": "markdown",
      "metadata": {
        "id": "LAlksbWyI38v",
        "colab_type": "text"
      },
      "source": [
        "**4.   Limpeza de dados**"
      ]
    },
    {
      "cell_type": "code",
      "metadata": {
        "id": "iAXBv7J2JW0b",
        "colab_type": "code",
        "colab": {
          "base_uri": "https://localhost:8080/",
          "height": 368
        },
        "outputId": "3df486b3-1461-4c60-f875-7c31d1e73ef0"
      },
      "source": [
        "df.describe()"
      ],
      "execution_count": 66,
      "outputs": [
        {
          "output_type": "execute_result",
          "data": {
            "text/html": [
              "<div>\n",
              "<style scoped>\n",
              "    .dataframe tbody tr th:only-of-type {\n",
              "        vertical-align: middle;\n",
              "    }\n",
              "\n",
              "    .dataframe tbody tr th {\n",
              "        vertical-align: top;\n",
              "    }\n",
              "\n",
              "    .dataframe thead th {\n",
              "        text-align: right;\n",
              "    }\n",
              "</style>\n",
              "<table border=\"1\" class=\"dataframe\">\n",
              "  <thead>\n",
              "    <tr style=\"text-align: right;\">\n",
              "      <th></th>\n",
              "      <th>id</th>\n",
              "      <th>size_bytes</th>\n",
              "      <th>price</th>\n",
              "      <th>rating_count_tot</th>\n",
              "      <th>rating_count_ver</th>\n",
              "      <th>user_rating</th>\n",
              "      <th>user_rating_ver</th>\n",
              "      <th>sup_devices.num</th>\n",
              "      <th>ipadSc_urls.num</th>\n",
              "      <th>lang.num</th>\n",
              "      <th>vpp_lic</th>\n",
              "      <th>price_norm</th>\n",
              "      <th>rating_count_ver_norm</th>\n",
              "    </tr>\n",
              "  </thead>\n",
              "  <tbody>\n",
              "    <tr>\n",
              "      <th>count</th>\n",
              "      <td>7.197000e+03</td>\n",
              "      <td>7.197000e+03</td>\n",
              "      <td>7197.000000</td>\n",
              "      <td>7.197000e+03</td>\n",
              "      <td>7197.000000</td>\n",
              "      <td>7197.000000</td>\n",
              "      <td>7197.000000</td>\n",
              "      <td>7197.000000</td>\n",
              "      <td>7197.000000</td>\n",
              "      <td>7197.000000</td>\n",
              "      <td>7197.000000</td>\n",
              "      <td>7.197000e+03</td>\n",
              "      <td>7197.000000</td>\n",
              "    </tr>\n",
              "    <tr>\n",
              "      <th>mean</th>\n",
              "      <td>8.631310e+08</td>\n",
              "      <td>1.991345e+08</td>\n",
              "      <td>1.726218</td>\n",
              "      <td>1.289291e+04</td>\n",
              "      <td>460.373906</td>\n",
              "      <td>3.526956</td>\n",
              "      <td>3.253578</td>\n",
              "      <td>37.361817</td>\n",
              "      <td>3.707100</td>\n",
              "      <td>5.434903</td>\n",
              "      <td>0.993053</td>\n",
              "      <td>3.457812e-15</td>\n",
              "      <td>0.002600</td>\n",
              "    </tr>\n",
              "    <tr>\n",
              "      <th>std</th>\n",
              "      <td>2.712368e+08</td>\n",
              "      <td>3.592069e+08</td>\n",
              "      <td>5.833006</td>\n",
              "      <td>7.573941e+04</td>\n",
              "      <td>3920.455183</td>\n",
              "      <td>1.517948</td>\n",
              "      <td>1.809363</td>\n",
              "      <td>3.737715</td>\n",
              "      <td>1.986005</td>\n",
              "      <td>7.919593</td>\n",
              "      <td>0.083066</td>\n",
              "      <td>1.000069e+00</td>\n",
              "      <td>0.022143</td>\n",
              "    </tr>\n",
              "    <tr>\n",
              "      <th>min</th>\n",
              "      <td>2.816565e+08</td>\n",
              "      <td>5.898240e+05</td>\n",
              "      <td>0.000000</td>\n",
              "      <td>0.000000e+00</td>\n",
              "      <td>0.000000</td>\n",
              "      <td>0.000000</td>\n",
              "      <td>0.000000</td>\n",
              "      <td>9.000000</td>\n",
              "      <td>0.000000</td>\n",
              "      <td>0.000000</td>\n",
              "      <td>0.000000</td>\n",
              "      <td>-2.959602e-01</td>\n",
              "      <td>0.000000</td>\n",
              "    </tr>\n",
              "    <tr>\n",
              "      <th>25%</th>\n",
              "      <td>6.000937e+08</td>\n",
              "      <td>4.692275e+07</td>\n",
              "      <td>0.000000</td>\n",
              "      <td>2.800000e+01</td>\n",
              "      <td>1.000000</td>\n",
              "      <td>3.500000</td>\n",
              "      <td>2.500000</td>\n",
              "      <td>37.000000</td>\n",
              "      <td>3.000000</td>\n",
              "      <td>1.000000</td>\n",
              "      <td>1.000000</td>\n",
              "      <td>-2.959602e-01</td>\n",
              "      <td>0.000006</td>\n",
              "    </tr>\n",
              "    <tr>\n",
              "      <th>50%</th>\n",
              "      <td>9.781482e+08</td>\n",
              "      <td>9.715302e+07</td>\n",
              "      <td>0.000000</td>\n",
              "      <td>3.000000e+02</td>\n",
              "      <td>23.000000</td>\n",
              "      <td>4.000000</td>\n",
              "      <td>4.000000</td>\n",
              "      <td>37.000000</td>\n",
              "      <td>5.000000</td>\n",
              "      <td>1.000000</td>\n",
              "      <td>1.000000</td>\n",
              "      <td>-2.959602e-01</td>\n",
              "      <td>0.000130</td>\n",
              "    </tr>\n",
              "    <tr>\n",
              "      <th>75%</th>\n",
              "      <td>1.082310e+09</td>\n",
              "      <td>1.819249e+08</td>\n",
              "      <td>1.990000</td>\n",
              "      <td>2.793000e+03</td>\n",
              "      <td>140.000000</td>\n",
              "      <td>4.500000</td>\n",
              "      <td>4.500000</td>\n",
              "      <td>38.000000</td>\n",
              "      <td>5.000000</td>\n",
              "      <td>8.000000</td>\n",
              "      <td>1.000000</td>\n",
              "      <td>4.522548e-02</td>\n",
              "      <td>0.000791</td>\n",
              "    </tr>\n",
              "    <tr>\n",
              "      <th>max</th>\n",
              "      <td>1.188376e+09</td>\n",
              "      <td>4.025970e+09</td>\n",
              "      <td>299.990000</td>\n",
              "      <td>2.974676e+06</td>\n",
              "      <td>177050.000000</td>\n",
              "      <td>5.000000</td>\n",
              "      <td>5.000000</td>\n",
              "      <td>47.000000</td>\n",
              "      <td>5.000000</td>\n",
              "      <td>75.000000</td>\n",
              "      <td>1.000000</td>\n",
              "      <td>5.113736e+01</td>\n",
              "      <td>1.000000</td>\n",
              "    </tr>\n",
              "  </tbody>\n",
              "</table>\n",
              "</div>"
            ],
            "text/plain": [
              "                 id    size_bytes  ...    price_norm  rating_count_ver_norm\n",
              "count  7.197000e+03  7.197000e+03  ...  7.197000e+03            7197.000000\n",
              "mean   8.631310e+08  1.991345e+08  ...  3.457812e-15               0.002600\n",
              "std    2.712368e+08  3.592069e+08  ...  1.000069e+00               0.022143\n",
              "min    2.816565e+08  5.898240e+05  ... -2.959602e-01               0.000000\n",
              "25%    6.000937e+08  4.692275e+07  ... -2.959602e-01               0.000006\n",
              "50%    9.781482e+08  9.715302e+07  ... -2.959602e-01               0.000130\n",
              "75%    1.082310e+09  1.819249e+08  ...  4.522548e-02               0.000791\n",
              "max    1.188376e+09  4.025970e+09  ...  5.113736e+01               1.000000\n",
              "\n",
              "[8 rows x 13 columns]"
            ]
          },
          "metadata": {
            "tags": []
          },
          "execution_count": 66
        }
      ]
    },
    {
      "cell_type": "code",
      "metadata": {
        "id": "_scaGc6ga1ZY",
        "colab_type": "code",
        "colab": {
          "base_uri": "https://localhost:8080/",
          "height": 294
        },
        "outputId": "f86fb77c-8b36-4b81-bddc-79af758094ff"
      },
      "source": [
        "df['size_bytes'].plot.box()"
      ],
      "execution_count": 93,
      "outputs": [
        {
          "output_type": "execute_result",
          "data": {
            "text/plain": [
              "<matplotlib.axes._subplots.AxesSubplot at 0x7f09bb2e5240>"
            ]
          },
          "metadata": {
            "tags": []
          },
          "execution_count": 93
        },
        {
          "output_type": "display_data",
          "data": {
            "image/png": "[encoded data removed]",
            "text/plain": [
              "<Figure size 432x288 with 1 Axes>"
            ]
          },
          "metadata": {
            "tags": []
          }
        }
      ]
    },
    {
      "cell_type": "code",
      "metadata": {
        "id": "28oopW6ObaKa",
        "colab_type": "code",
        "colab": {
          "base_uri": "https://localhost:8080/",
          "height": 295
        },
        "outputId": "cd2571f9-2804-4aed-add5-889ed24b9d77"
      },
      "source": [
        "df['size_bytes'].hist()"
      ],
      "execution_count": 94,
      "outputs": [
        {
          "output_type": "execute_result",
          "data": {
            "text/plain": [
              "<matplotlib.axes._subplots.AxesSubplot at 0x7f09bb3187f0>"
            ]
          },
          "metadata": {
            "tags": []
          },
          "execution_count": 94
        },
        {
          "output_type": "display_data",
          "data": {
            "image/png": "[encoded data removed]",
            "text/plain": [
              "<Figure size 432x288 with 1 Axes>"
            ]
          },
          "metadata": {
            "tags": []
          }
        }
      ]
    },
    {
      "cell_type": "code",
      "metadata": {
        "id": "yiuyUDVJbhdb",
        "colab_type": "code",
        "colab": {
          "base_uri": "https://localhost:8080/",
          "height": 282
        },
        "outputId": "a6511d3d-513d-4e0e-f3f0-e17a61ab4420"
      },
      "source": [
        "from numpy import log10\n",
        "df['size_bytes_log'] = log10(df['size_bytes'])\n",
        "df['size_bytes_log'].hist()"
      ],
      "execution_count": 95,
      "outputs": [
        {
          "output_type": "execute_result",
          "data": {
            "text/plain": [
              "<matplotlib.axes._subplots.AxesSubplot at 0x7f09bb1c7b38>"
            ]
          },
          "metadata": {
            "tags": []
          },
          "execution_count": 95
        },
        {
          "output_type": "display_data",
          "data": {
            "image/png": "[encoded data removed]",
            "text/plain": [
              "<Figure size 432x288 with 1 Axes>"
            ]
          },
          "metadata": {
            "tags": []
          }
        }
      ]
    },
    {
      "cell_type": "code",
      "metadata": {
        "id": "eRQU_yygcmpz",
        "colab_type": "code",
        "colab": {
          "base_uri": "https://localhost:8080/",
          "height": 34
        },
        "outputId": "27c0c6ac-3e9e-4e6d-b4d4-e52d0220a0bc"
      },
      "source": [
        "from numpy import abs\n",
        "mad = abs(df['size_bytes_log'] - df['size_bytes_log'].median()).median()*(1/0.6745)\n",
        "print(mad)"
      ],
      "execution_count": 96,
      "outputs": [
        {
          "output_type": "stream",
          "text": [
            "0.4326902966751638\n"
          ],
          "name": "stdout"
        }
      ]
    },
    {
      "cell_type": "code",
      "metadata": {
        "id": "64bTBFMqcoZo",
        "colab_type": "code",
        "colab": {
          "base_uri": "https://localhost:8080/",
          "height": 34
        },
        "outputId": "4730fcc1-2c11-412d-e1b5-f52d6c403dce"
      },
      "source": [
        "df['size_bytes_log'].mad()"
      ],
      "execution_count": 97,
      "outputs": [
        {
          "output_type": "execute_result",
          "data": {
            "text/plain": [
              "0.39820310851052476"
            ]
          },
          "metadata": {
            "tags": []
          },
          "execution_count": 97
        }
      ]
    },
    {
      "cell_type": "code",
      "metadata": {
        "id": "qqi0pNKTcpk0",
        "colab_type": "code",
        "colab": {
          "base_uri": "https://localhost:8080/",
          "height": 286
        },
        "outputId": "0eb4a2ac-2146-4765-e045-45736d23b202"
      },
      "source": [
        "(abs(df['size_bytes_log']-df['size_bytes_log'].median())/mad).hist()"
      ],
      "execution_count": 98,
      "outputs": [
        {
          "output_type": "execute_result",
          "data": {
            "text/plain": [
              "<matplotlib.axes._subplots.AxesSubplot at 0x7f09bb1493c8>"
            ]
          },
          "metadata": {
            "tags": []
          },
          "execution_count": 98
        },
        {
          "output_type": "display_data",
          "data": {
            "image/png": "[encoded data removed]",
            "text/plain": [
              "<Figure size 432x288 with 1 Axes>"
            ]
          },
          "metadata": {
            "tags": []
          }
        }
      ]
    },
    {
      "cell_type": "code",
      "metadata": {
        "id": "MUuXxn8zcrQM",
        "colab_type": "code",
        "colab": {
          "base_uri": "https://localhost:8080/",
          "height": 609
        },
        "outputId": "8f198a1b-041e-449c-a830-50d8cde16fe7"
      },
      "source": [
        "df[abs(df['size_bytes_log']-df['size_bytes_log'].median())/mad > 3.5]"
      ],
      "execution_count": 99,
      "outputs": [
        {
          "output_type": "execute_result",
          "data": {
            "text/html": [
              "<div>\n",
              "<style scoped>\n",
              "    .dataframe tbody tr th:only-of-type {\n",
              "        vertical-align: middle;\n",
              "    }\n",
              "\n",
              "    .dataframe tbody tr th {\n",
              "        vertical-align: top;\n",
              "    }\n",
              "\n",
              "    .dataframe thead th {\n",
              "        text-align: right;\n",
              "    }\n",
              "</style>\n",
              "<table border=\"1\" class=\"dataframe\">\n",
              "  <thead>\n",
              "    <tr style=\"text-align: right;\">\n",
              "      <th></th>\n",
              "      <th>id</th>\n",
              "      <th>track_name</th>\n",
              "      <th>size_bytes</th>\n",
              "      <th>currency</th>\n",
              "      <th>price</th>\n",
              "      <th>rating_count_tot</th>\n",
              "      <th>rating_count_ver</th>\n",
              "      <th>user_rating</th>\n",
              "      <th>user_rating_ver</th>\n",
              "      <th>ver</th>\n",
              "      <th>cont_rating</th>\n",
              "      <th>prime_genre</th>\n",
              "      <th>sup_devices.num</th>\n",
              "      <th>ipadSc_urls.num</th>\n",
              "      <th>lang.num</th>\n",
              "      <th>vpp_lic</th>\n",
              "      <th>size_bytes_dist</th>\n",
              "      <th>lang.num_dist</th>\n",
              "      <th>price_norm</th>\n",
              "      <th>rating_count_ver_norm</th>\n",
              "      <th>rating_count_ver_log</th>\n",
              "      <th>size_bytes_log</th>\n",
              "      <th>sup_devices.num_log</th>\n",
              "      <th>price_log</th>\n",
              "    </tr>\n",
              "  </thead>\n",
              "  <tbody>\n",
              "    <tr>\n",
              "      <th>32</th>\n",
              "      <td>289446241</td>\n",
              "      <td>Election 2016 Map</td>\n",
              "      <td>2386944</td>\n",
              "      <td>USD</td>\n",
              "      <td>0.99</td>\n",
              "      <td>137</td>\n",
              "      <td>0</td>\n",
              "      <td>3.0</td>\n",
              "      <td>0.0</td>\n",
              "      <td>5.0</td>\n",
              "      <td>4+</td>\n",
              "      <td>Entertainment</td>\n",
              "      <td>37</td>\n",
              "      <td>1</td>\n",
              "      <td>1</td>\n",
              "      <td>1</td>\n",
              "      <td>(589823.999, 37105049.6]</td>\n",
              "      <td>(-0.075, 7.5]</td>\n",
              "      <td>-0.126225</td>\n",
              "      <td>0.000000</td>\n",
              "      <td>-inf</td>\n",
              "      <td>6.377842</td>\n",
              "      <td>1.568202</td>\n",
              "      <td>-0.004365</td>\n",
              "    </tr>\n",
              "    <tr>\n",
              "      <th>36</th>\n",
              "      <td>290807369</td>\n",
              "      <td>Line Rider iRideâ¢</td>\n",
              "      <td>1646592</td>\n",
              "      <td>USD</td>\n",
              "      <td>1.99</td>\n",
              "      <td>21609</td>\n",
              "      <td>69</td>\n",
              "      <td>3.5</td>\n",
              "      <td>2.5</td>\n",
              "      <td>2.4</td>\n",
              "      <td>9+</td>\n",
              "      <td>Entertainment</td>\n",
              "      <td>40</td>\n",
              "      <td>0</td>\n",
              "      <td>1</td>\n",
              "      <td>1</td>\n",
              "      <td>(589823.999, 37105049.6]</td>\n",
              "      <td>(-0.075, 7.5]</td>\n",
              "      <td>0.045225</td>\n",
              "      <td>0.000390</td>\n",
              "      <td>1.838849</td>\n",
              "      <td>6.216586</td>\n",
              "      <td>1.602060</td>\n",
              "      <td>0.298853</td>\n",
              "    </tr>\n",
              "    <tr>\n",
              "      <th>154</th>\n",
              "      <td>318592730</td>\n",
              "      <td>Guess My Age î  Math Magic</td>\n",
              "      <td>767126</td>\n",
              "      <td>USD</td>\n",
              "      <td>0.00</td>\n",
              "      <td>123190</td>\n",
              "      <td>68841</td>\n",
              "      <td>3.0</td>\n",
              "      <td>3.0</td>\n",
              "      <td>1.1</td>\n",
              "      <td>4+</td>\n",
              "      <td>Education</td>\n",
              "      <td>47</td>\n",
              "      <td>0</td>\n",
              "      <td>1</td>\n",
              "      <td>1</td>\n",
              "      <td>(589823.999, 37105049.6]</td>\n",
              "      <td>(-0.075, 7.5]</td>\n",
              "      <td>-0.295960</td>\n",
              "      <td>0.388822</td>\n",
              "      <td>4.837847</td>\n",
              "      <td>5.884867</td>\n",
              "      <td>1.672098</td>\n",
              "      <td>-inf</td>\n",
              "    </tr>\n",
              "    <tr>\n",
              "      <th>204</th>\n",
              "      <td>329981776</td>\n",
              "      <td>Sudokuâº</td>\n",
              "      <td>1608704</td>\n",
              "      <td>USD</td>\n",
              "      <td>2.99</td>\n",
              "      <td>18332</td>\n",
              "      <td>1007</td>\n",
              "      <td>4.5</td>\n",
              "      <td>5.0</td>\n",
              "      <td>3.4</td>\n",
              "      <td>4+</td>\n",
              "      <td>Games</td>\n",
              "      <td>37</td>\n",
              "      <td>5</td>\n",
              "      <td>2</td>\n",
              "      <td>1</td>\n",
              "      <td>(589823.999, 37105049.6]</td>\n",
              "      <td>(-0.075, 7.5]</td>\n",
              "      <td>0.216676</td>\n",
              "      <td>0.005688</td>\n",
              "      <td>3.003029</td>\n",
              "      <td>6.206476</td>\n",
              "      <td>1.568202</td>\n",
              "      <td>0.475671</td>\n",
              "    </tr>\n",
              "    <tr>\n",
              "      <th>763</th>\n",
              "      <td>430229059</td>\n",
              "      <td>Rota Calendar - Work Shift Manager</td>\n",
              "      <td>1824768</td>\n",
              "      <td>USD</td>\n",
              "      <td>1.99</td>\n",
              "      <td>43</td>\n",
              "      <td>24</td>\n",
              "      <td>4.5</td>\n",
              "      <td>4.5</td>\n",
              "      <td>7.3</td>\n",
              "      <td>4+</td>\n",
              "      <td>Productivity</td>\n",
              "      <td>37</td>\n",
              "      <td>0</td>\n",
              "      <td>1</td>\n",
              "      <td>1</td>\n",
              "      <td>(589823.999, 37105049.6]</td>\n",
              "      <td>(-0.075, 7.5]</td>\n",
              "      <td>0.045225</td>\n",
              "      <td>0.000136</td>\n",
              "      <td>1.380211</td>\n",
              "      <td>6.261208</td>\n",
              "      <td>1.568202</td>\n",
              "      <td>0.298853</td>\n",
              "    </tr>\n",
              "    <tr>\n",
              "      <th>...</th>\n",
              "      <td>...</td>\n",
              "      <td>...</td>\n",
              "      <td>...</td>\n",
              "      <td>...</td>\n",
              "      <td>...</td>\n",
              "      <td>...</td>\n",
              "      <td>...</td>\n",
              "      <td>...</td>\n",
              "      <td>...</td>\n",
              "      <td>...</td>\n",
              "      <td>...</td>\n",
              "      <td>...</td>\n",
              "      <td>...</td>\n",
              "      <td>...</td>\n",
              "      <td>...</td>\n",
              "      <td>...</td>\n",
              "      <td>...</td>\n",
              "      <td>...</td>\n",
              "      <td>...</td>\n",
              "      <td>...</td>\n",
              "      <td>...</td>\n",
              "      <td>...</td>\n",
              "      <td>...</td>\n",
              "      <td>...</td>\n",
              "    </tr>\n",
              "    <tr>\n",
              "      <th>6772</th>\n",
              "      <td>1146713881</td>\n",
              "      <td>ããã¹ã­ ã¬ã¼ã«ãºï¼ãã³ãã¡ã¼</td>\n",
              "      <td>3975609344</td>\n",
              "      <td>USD</td>\n",
              "      <td>9.99</td>\n",
              "      <td>0</td>\n",
              "      <td>0</td>\n",
              "      <td>0.0</td>\n",
              "      <td>0.0</td>\n",
              "      <td>1.0.2</td>\n",
              "      <td>12+</td>\n",
              "      <td>Games</td>\n",
              "      <td>38</td>\n",
              "      <td>0</td>\n",
              "      <td>1</td>\n",
              "      <td>0</td>\n",
              "      <td>(219630592.0, 4025969664.0]</td>\n",
              "      <td>(-0.075, 7.5]</td>\n",
              "      <td>1.416826</td>\n",
              "      <td>0.000000</td>\n",
              "      <td>-inf</td>\n",
              "      <td>9.599404</td>\n",
              "      <td>1.579784</td>\n",
              "      <td>0.999565</td>\n",
              "    </tr>\n",
              "    <tr>\n",
              "      <th>6981</th>\n",
              "      <td>1163668736</td>\n",
              "      <td>One Touch Camera Recording &amp; Capture in HD</td>\n",
              "      <td>1327104</td>\n",
              "      <td>USD</td>\n",
              "      <td>1.99</td>\n",
              "      <td>7</td>\n",
              "      <td>2</td>\n",
              "      <td>1.5</td>\n",
              "      <td>1.0</td>\n",
              "      <td>1.2</td>\n",
              "      <td>4+</td>\n",
              "      <td>Productivity</td>\n",
              "      <td>37</td>\n",
              "      <td>0</td>\n",
              "      <td>1</td>\n",
              "      <td>1</td>\n",
              "      <td>(589823.999, 37105049.6]</td>\n",
              "      <td>(-0.075, 7.5]</td>\n",
              "      <td>0.045225</td>\n",
              "      <td>0.000011</td>\n",
              "      <td>0.301030</td>\n",
              "      <td>6.122905</td>\n",
              "      <td>1.568202</td>\n",
              "      <td>0.298853</td>\n",
              "    </tr>\n",
              "    <tr>\n",
              "      <th>7117</th>\n",
              "      <td>1176901281</td>\n",
              "      <td>Web Browser Recorder Pro</td>\n",
              "      <td>1734656</td>\n",
              "      <td>USD</td>\n",
              "      <td>1.99</td>\n",
              "      <td>14</td>\n",
              "      <td>3</td>\n",
              "      <td>2.0</td>\n",
              "      <td>4.5</td>\n",
              "      <td>1.2</td>\n",
              "      <td>17+</td>\n",
              "      <td>Utilities</td>\n",
              "      <td>37</td>\n",
              "      <td>0</td>\n",
              "      <td>3</td>\n",
              "      <td>1</td>\n",
              "      <td>(589823.999, 37105049.6]</td>\n",
              "      <td>(-0.075, 7.5]</td>\n",
              "      <td>0.045225</td>\n",
              "      <td>0.000017</td>\n",
              "      <td>0.477121</td>\n",
              "      <td>6.239213</td>\n",
              "      <td>1.568202</td>\n",
              "      <td>0.298853</td>\n",
              "    </tr>\n",
              "    <tr>\n",
              "      <th>7120</th>\n",
              "      <td>1177461222</td>\n",
              "      <td>jsä½è²èµè®¯</td>\n",
              "      <td>1841152</td>\n",
              "      <td>USD</td>\n",
              "      <td>0.00</td>\n",
              "      <td>0</td>\n",
              "      <td>0</td>\n",
              "      <td>0.0</td>\n",
              "      <td>0.0</td>\n",
              "      <td>1.0</td>\n",
              "      <td>17+</td>\n",
              "      <td>Entertainment</td>\n",
              "      <td>37</td>\n",
              "      <td>0</td>\n",
              "      <td>1</td>\n",
              "      <td>1</td>\n",
              "      <td>(589823.999, 37105049.6]</td>\n",
              "      <td>(-0.075, 7.5]</td>\n",
              "      <td>-0.295960</td>\n",
              "      <td>0.000000</td>\n",
              "      <td>-inf</td>\n",
              "      <td>6.265090</td>\n",
              "      <td>1.568202</td>\n",
              "      <td>-inf</td>\n",
              "    </tr>\n",
              "    <tr>\n",
              "      <th>7164</th>\n",
              "      <td>1181724803</td>\n",
              "      <td>ï¼£ï¼²ã¹ã¼ãã¼æµ·ç©èªï¼©ï¼®æ²ç¸ï¼</td>\n",
              "      <td>3503480832</td>\n",
              "      <td>USD</td>\n",
              "      <td>9.99</td>\n",
              "      <td>0</td>\n",
              "      <td>0</td>\n",
              "      <td>0.0</td>\n",
              "      <td>0.0</td>\n",
              "      <td>1.0.2</td>\n",
              "      <td>12+</td>\n",
              "      <td>Games</td>\n",
              "      <td>40</td>\n",
              "      <td>0</td>\n",
              "      <td>1</td>\n",
              "      <td>0</td>\n",
              "      <td>(219630592.0, 4025969664.0]</td>\n",
              "      <td>(-0.075, 7.5]</td>\n",
              "      <td>1.416826</td>\n",
              "      <td>0.000000</td>\n",
              "      <td>-inf</td>\n",
              "      <td>9.544500</td>\n",
              "      <td>1.602060</td>\n",
              "      <td>0.999565</td>\n",
              "    </tr>\n",
              "  </tbody>\n",
              "</table>\n",
              "<p>71 rows × 24 columns</p>\n",
              "</div>"
            ],
            "text/plain": [
              "              id  ... price_log\n",
              "32     289446241  ... -0.004365\n",
              "36     290807369  ...  0.298853\n",
              "154    318592730  ...      -inf\n",
              "204    329981776  ...  0.475671\n",
              "763    430229059  ...  0.298853\n",
              "...          ...  ...       ...\n",
              "6772  1146713881  ...  0.999565\n",
              "6981  1163668736  ...  0.298853\n",
              "7117  1176901281  ...  0.298853\n",
              "7120  1177461222  ...      -inf\n",
              "7164  1181724803  ...  0.999565\n",
              "\n",
              "[71 rows x 24 columns]"
            ]
          },
          "metadata": {
            "tags": []
          },
          "execution_count": 99
        }
      ]
    },
    {
      "cell_type": "code",
      "metadata": {
        "id": "bWpkWJ7-czDd",
        "colab_type": "code",
        "colab": {
          "base_uri": "https://localhost:8080/",
          "height": 34
        },
        "outputId": "0edea20d-f72b-4f9e-b9c7-bdc5a8bfa618"
      },
      "source": [
        "df = df[abs(df['size_bytes_log']-df['size_bytes_log'].median())/mad < 3.5]\n",
        "print(len(df))"
      ],
      "execution_count": 100,
      "outputs": [
        {
          "output_type": "stream",
          "text": [
            "7126\n"
          ],
          "name": "stdout"
        }
      ]
    }
  ]
}