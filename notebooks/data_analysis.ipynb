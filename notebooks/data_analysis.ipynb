{
  "nbformat": 4,
  "nbformat_minor": 0,
  "metadata": {
    "colab": {
      "name": "data_analysis.ipynb",
      "provenance": [],
      "include_colab_link": true
    },
    "kernelspec": {
      "name": "python3",
      "display_name": "Python 3"
    }
  },
  "cells": [
    {
      "cell_type": "markdown",
      "metadata": {
        "id": "view-in-github",
        "colab_type": "text"
      },
      "source": [
        "<a href=\"https://colab.research.google.com/github/pridnt/cesar_engdados_icd/blob/master/notebooks/data_analysis.ipynb\" target=\"_parent\"><img src=\"https://colab.research.google.com/assets/colab-badge.svg\" alt=\"Open In Colab\"/></a>"
      ]
    },
    {
      "cell_type": "markdown",
      "metadata": {
        "id": "yrJICcJorXNN",
        "colab_type": "text"
      },
      "source": [
        "##Carga de dados"
      ]
    },
    {
      "cell_type": "code",
      "metadata": {
        "id": "PpZlkJYFi_qG",
        "colab_type": "code",
        "colab": {
          "base_uri": "https://localhost:8080/",
          "height": 170
        },
        "outputId": "a5ae865a-ee96-4cef-9ee6-64c713e9ea95"
      },
      "source": [
        "import pandas as pd\n",
        "df=pd.read_csv(\"https://raw.githubusercontent.com/pridnt/cesar_engdados_icd/master/data/AppleStore.csv\", encoding = \"ISO-8859-1\")"
      ],
      "execution_count": 35,
      "outputs": [
        {
          "output_type": "stream",
          "text": [
            "7197\n",
            "   Unnamed: 0         id  ... lang.num  vpp_lic\n",
            "0           1  281656475  ...       10        1\n",
            "1           2  281796108  ...       23        1\n",
            "2           3  281940292  ...        3        1\n",
            "3           4  282614216  ...        9        1\n",
            "4           5  282935706  ...       45        1\n",
            "\n",
            "[5 rows x 17 columns]\n"
          ],
          "name": "stdout"
        }
      ]
    },
    {
      "cell_type": "code",
      "metadata": {
        "id": "X1X5II2v-ZoE",
        "colab_type": "code",
        "colab": {
          "base_uri": "https://localhost:8080/",
          "height": 170
        },
        "outputId": "725727fe-801b-4521-8d9b-c9559d36ec39"
      },
      "source": [
        "# Tamanho do datadrame\n",
        "print(len(df))\n",
        "\n",
        "# Overview dos dados\n",
        "print(df.head())"
      ],
      "execution_count": 55,
      "outputs": [
        {
          "output_type": "stream",
          "text": [
            "7197\n",
            "          id  ... vpp_lic\n",
            "0  281656475  ...       1\n",
            "1  281796108  ...       1\n",
            "2  281940292  ...       1\n",
            "3  282614216  ...       1\n",
            "4  282935706  ...       1\n",
            "\n",
            "[5 rows x 16 columns]\n"
          ],
          "name": "stdout"
        }
      ]
    },
    {
      "cell_type": "code",
      "metadata": {
        "id": "Epquiuwjsg1B",
        "colab_type": "code",
        "colab": {}
      },
      "source": [
        "df = df.drop(columns=['Unnamed: 0'])"
      ],
      "execution_count": 0,
      "outputs": []
    },
    {
      "cell_type": "markdown",
      "metadata": {
        "id": "sx73n8xasN2X",
        "colab_type": "text"
      },
      "source": [
        "## Setando campos como categóricos\n",
        "\n"
      ]
    },
    {
      "cell_type": "code",
      "metadata": {
        "id": "XsvgsdFtsQUA",
        "colab_type": "code",
        "colab": {
          "base_uri": "https://localhost:8080/",
          "height": 306
        },
        "outputId": "a893e359-886c-45d7-c5c7-d1ae7e874059"
      },
      "source": [
        "df.dtypes"
      ],
      "execution_count": 41,
      "outputs": [
        {
          "output_type": "execute_result",
          "data": {
            "text/plain": [
              "id                    int64\n",
              "track_name           object\n",
              "size_bytes            int64\n",
              "currency             object\n",
              "price               float64\n",
              "rating_count_tot      int64\n",
              "rating_count_ver      int64\n",
              "user_rating         float64\n",
              "user_rating_ver     float64\n",
              "ver                  object\n",
              "cont_rating          object\n",
              "prime_genre          object\n",
              "sup_devices.num       int64\n",
              "ipadSc_urls.num       int64\n",
              "lang.num              int64\n",
              "vpp_lic               int64\n",
              "dtype: object"
            ]
          },
          "metadata": {
            "tags": []
          },
          "execution_count": 41
        }
      ]
    },
    {
      "cell_type": "code",
      "metadata": {
        "id": "RFtZkFxmsbXQ",
        "colab_type": "code",
        "colab": {}
      },
      "source": [
        "# Ajustando tipos dos dados\n",
        "df['currency'] = df['currency'].astype('category')\n",
        "df['cont_rating'] = df['cont_rating'].astype('category')\n",
        "df['prime_genre'] = df['prime_genre'].astype('category')"
      ],
      "execution_count": 0,
      "outputs": []
    },
    {
      "cell_type": "code",
      "metadata": {
        "id": "BRWzLQdftCpQ",
        "colab_type": "code",
        "colab": {
          "base_uri": "https://localhost:8080/",
          "height": 306
        },
        "outputId": "445982c3-b18a-4fe8-da13-49ebbaeefef6"
      },
      "source": [
        "df.dtypes"
      ],
      "execution_count": 44,
      "outputs": [
        {
          "output_type": "execute_result",
          "data": {
            "text/plain": [
              "id                     int64\n",
              "track_name            object\n",
              "size_bytes             int64\n",
              "currency            category\n",
              "price                float64\n",
              "rating_count_tot       int64\n",
              "rating_count_ver       int64\n",
              "user_rating          float64\n",
              "user_rating_ver      float64\n",
              "ver                   object\n",
              "cont_rating           object\n",
              "prime_genre           object\n",
              "sup_devices.num        int64\n",
              "ipadSc_urls.num        int64\n",
              "lang.num               int64\n",
              "vpp_lic                int64\n",
              "dtype: object"
            ]
          },
          "metadata": {
            "tags": []
          },
          "execution_count": 44
        }
      ]
    },
    {
      "cell_type": "code",
      "metadata": {
        "id": "27dhmb0YtSU4",
        "colab_type": "code",
        "colab": {
          "base_uri": "https://localhost:8080/",
          "height": 34
        },
        "outputId": "bf59d763-9768-41be-d7fa-ea24964dc8ed"
      },
      "source": [
        "df['currency'].cat.categories"
      ],
      "execution_count": 47,
      "outputs": [
        {
          "output_type": "execute_result",
          "data": {
            "text/plain": [
              "Index(['USD'], dtype='object')"
            ]
          },
          "metadata": {
            "tags": []
          },
          "execution_count": 47
        }
      ]
    },
    {
      "cell_type": "code",
      "metadata": {
        "id": "SzWYPSAnt4te",
        "colab_type": "code",
        "colab": {
          "base_uri": "https://localhost:8080/",
          "height": 34
        },
        "outputId": "e8026e7a-ec24-46ed-8eaa-d314eb15d0a8"
      },
      "source": [
        "df['cont_rating'].cat.categories"
      ],
      "execution_count": 50,
      "outputs": [
        {
          "output_type": "execute_result",
          "data": {
            "text/plain": [
              "Index(['12+', '17+', '4+', '9+'], dtype='object')"
            ]
          },
          "metadata": {
            "tags": []
          },
          "execution_count": 50
        }
      ]
    },
    {
      "cell_type": "code",
      "metadata": {
        "id": "TLVTrwGCtrwY",
        "colab_type": "code",
        "colab": {
          "base_uri": "https://localhost:8080/",
          "height": 119
        },
        "outputId": "da679b2d-eda0-4b66-f8a5-8331e19bbef0"
      },
      "source": [
        "df['prime_genre'].cat.categories"
      ],
      "execution_count": 51,
      "outputs": [
        {
          "output_type": "execute_result",
          "data": {
            "text/plain": [
              "Index(['Book', 'Business', 'Catalogs', 'Education', 'Entertainment', 'Finance',\n",
              "       'Food & Drink', 'Games', 'Health & Fitness', 'Lifestyle', 'Medical',\n",
              "       'Music', 'Navigation', 'News', 'Photo & Video', 'Productivity',\n",
              "       'Reference', 'Shopping', 'Social Networking', 'Sports', 'Travel',\n",
              "       'Utilities', 'Weather'],\n",
              "      dtype='object')"
            ]
          },
          "metadata": {
            "tags": []
          },
          "execution_count": 51
        }
      ]
    },
    {
      "cell_type": "markdown",
      "metadata": {
        "id": "2H_F_poNuP61",
        "colab_type": "text"
      },
      "source": [
        "##Dados ausentes"
      ]
    },
    {
      "cell_type": "code",
      "metadata": {
        "id": "FHGWOyd_uKEu",
        "colab_type": "code",
        "colab": {
          "base_uri": "https://localhost:8080/",
          "height": 306
        },
        "outputId": "bda6c6f1-c23d-4c22-f843-ba29a089f55d"
      },
      "source": [
        "print(df.isnull().sum())"
      ],
      "execution_count": 58,
      "outputs": [
        {
          "output_type": "stream",
          "text": [
            "id                  0\n",
            "track_name          0\n",
            "size_bytes          0\n",
            "currency            0\n",
            "price               0\n",
            "rating_count_tot    0\n",
            "rating_count_ver    0\n",
            "user_rating         0\n",
            "user_rating_ver     0\n",
            "ver                 0\n",
            "cont_rating         0\n",
            "prime_genre         0\n",
            "sup_devices.num     0\n",
            "ipadSc_urls.num     0\n",
            "lang.num            0\n",
            "vpp_lic             0\n",
            "dtype: int64\n"
          ],
          "name": "stdout"
        }
      ]
    },
    {
      "cell_type": "markdown",
      "metadata": {
        "id": "gx_YBsiNBtM3",
        "colab_type": "text"
      },
      "source": [
        "## Fase 2\n",
        "\n"
      ]
    },
    {
      "cell_type": "code",
      "metadata": {
        "id": "snGJOVHEBv_z",
        "colab_type": "code",
        "colab": {
          "base_uri": "https://localhost:8080/",
          "height": 317
        },
        "outputId": "8b799dd1-fa53-49e6-c5a0-a2696e7131f3"
      },
      "source": [
        "df.describe()"
      ],
      "execution_count": 59,
      "outputs": [
        {
          "output_type": "execute_result",
          "data": {
            "text/html": [
              "<div>\n",
              "<style scoped>\n",
              "    .dataframe tbody tr th:only-of-type {\n",
              "        vertical-align: middle;\n",
              "    }\n",
              "\n",
              "    .dataframe tbody tr th {\n",
              "        vertical-align: top;\n",
              "    }\n",
              "\n",
              "    .dataframe thead th {\n",
              "        text-align: right;\n",
              "    }\n",
              "</style>\n",
              "<table border=\"1\" class=\"dataframe\">\n",
              "  <thead>\n",
              "    <tr style=\"text-align: right;\">\n",
              "      <th></th>\n",
              "      <th>id</th>\n",
              "      <th>size_bytes</th>\n",
              "      <th>price</th>\n",
              "      <th>rating_count_tot</th>\n",
              "      <th>rating_count_ver</th>\n",
              "      <th>user_rating</th>\n",
              "      <th>user_rating_ver</th>\n",
              "      <th>sup_devices.num</th>\n",
              "      <th>ipadSc_urls.num</th>\n",
              "      <th>lang.num</th>\n",
              "      <th>vpp_lic</th>\n",
              "    </tr>\n",
              "  </thead>\n",
              "  <tbody>\n",
              "    <tr>\n",
              "      <th>count</th>\n",
              "      <td>7.197000e+03</td>\n",
              "      <td>7.197000e+03</td>\n",
              "      <td>7197.000000</td>\n",
              "      <td>7.197000e+03</td>\n",
              "      <td>7197.000000</td>\n",
              "      <td>7197.000000</td>\n",
              "      <td>7197.000000</td>\n",
              "      <td>7197.000000</td>\n",
              "      <td>7197.000000</td>\n",
              "      <td>7197.000000</td>\n",
              "      <td>7197.000000</td>\n",
              "    </tr>\n",
              "    <tr>\n",
              "      <th>mean</th>\n",
              "      <td>8.631310e+08</td>\n",
              "      <td>1.991345e+08</td>\n",
              "      <td>1.726218</td>\n",
              "      <td>1.289291e+04</td>\n",
              "      <td>460.373906</td>\n",
              "      <td>3.526956</td>\n",
              "      <td>3.253578</td>\n",
              "      <td>37.361817</td>\n",
              "      <td>3.707100</td>\n",
              "      <td>5.434903</td>\n",
              "      <td>0.993053</td>\n",
              "    </tr>\n",
              "    <tr>\n",
              "      <th>std</th>\n",
              "      <td>2.712368e+08</td>\n",
              "      <td>3.592069e+08</td>\n",
              "      <td>5.833006</td>\n",
              "      <td>7.573941e+04</td>\n",
              "      <td>3920.455183</td>\n",
              "      <td>1.517948</td>\n",
              "      <td>1.809363</td>\n",
              "      <td>3.737715</td>\n",
              "      <td>1.986005</td>\n",
              "      <td>7.919593</td>\n",
              "      <td>0.083066</td>\n",
              "    </tr>\n",
              "    <tr>\n",
              "      <th>min</th>\n",
              "      <td>2.816565e+08</td>\n",
              "      <td>5.898240e+05</td>\n",
              "      <td>0.000000</td>\n",
              "      <td>0.000000e+00</td>\n",
              "      <td>0.000000</td>\n",
              "      <td>0.000000</td>\n",
              "      <td>0.000000</td>\n",
              "      <td>9.000000</td>\n",
              "      <td>0.000000</td>\n",
              "      <td>0.000000</td>\n",
              "      <td>0.000000</td>\n",
              "    </tr>\n",
              "    <tr>\n",
              "      <th>25%</th>\n",
              "      <td>6.000937e+08</td>\n",
              "      <td>4.692275e+07</td>\n",
              "      <td>0.000000</td>\n",
              "      <td>2.800000e+01</td>\n",
              "      <td>1.000000</td>\n",
              "      <td>3.500000</td>\n",
              "      <td>2.500000</td>\n",
              "      <td>37.000000</td>\n",
              "      <td>3.000000</td>\n",
              "      <td>1.000000</td>\n",
              "      <td>1.000000</td>\n",
              "    </tr>\n",
              "    <tr>\n",
              "      <th>50%</th>\n",
              "      <td>9.781482e+08</td>\n",
              "      <td>9.715302e+07</td>\n",
              "      <td>0.000000</td>\n",
              "      <td>3.000000e+02</td>\n",
              "      <td>23.000000</td>\n",
              "      <td>4.000000</td>\n",
              "      <td>4.000000</td>\n",
              "      <td>37.000000</td>\n",
              "      <td>5.000000</td>\n",
              "      <td>1.000000</td>\n",
              "      <td>1.000000</td>\n",
              "    </tr>\n",
              "    <tr>\n",
              "      <th>75%</th>\n",
              "      <td>1.082310e+09</td>\n",
              "      <td>1.819249e+08</td>\n",
              "      <td>1.990000</td>\n",
              "      <td>2.793000e+03</td>\n",
              "      <td>140.000000</td>\n",
              "      <td>4.500000</td>\n",
              "      <td>4.500000</td>\n",
              "      <td>38.000000</td>\n",
              "      <td>5.000000</td>\n",
              "      <td>8.000000</td>\n",
              "      <td>1.000000</td>\n",
              "    </tr>\n",
              "    <tr>\n",
              "      <th>max</th>\n",
              "      <td>1.188376e+09</td>\n",
              "      <td>4.025970e+09</td>\n",
              "      <td>299.990000</td>\n",
              "      <td>2.974676e+06</td>\n",
              "      <td>177050.000000</td>\n",
              "      <td>5.000000</td>\n",
              "      <td>5.000000</td>\n",
              "      <td>47.000000</td>\n",
              "      <td>5.000000</td>\n",
              "      <td>75.000000</td>\n",
              "      <td>1.000000</td>\n",
              "    </tr>\n",
              "  </tbody>\n",
              "</table>\n",
              "</div>"
            ],
            "text/plain": [
              "                 id    size_bytes  ...     lang.num      vpp_lic\n",
              "count  7.197000e+03  7.197000e+03  ...  7197.000000  7197.000000\n",
              "mean   8.631310e+08  1.991345e+08  ...     5.434903     0.993053\n",
              "std    2.712368e+08  3.592069e+08  ...     7.919593     0.083066\n",
              "min    2.816565e+08  5.898240e+05  ...     0.000000     0.000000\n",
              "25%    6.000937e+08  4.692275e+07  ...     1.000000     1.000000\n",
              "50%    9.781482e+08  9.715302e+07  ...     1.000000     1.000000\n",
              "75%    1.082310e+09  1.819249e+08  ...     8.000000     1.000000\n",
              "max    1.188376e+09  4.025970e+09  ...    75.000000     1.000000\n",
              "\n",
              "[8 rows x 11 columns]"
            ]
          },
          "metadata": {
            "tags": []
          },
          "execution_count": 59
        }
      ]
    },
    {
      "cell_type": "code",
      "metadata": {
        "id": "H2Xioi0VC18G",
        "colab_type": "code",
        "colab": {
          "base_uri": "https://localhost:8080/",
          "height": 295
        },
        "outputId": "2d7f7d12-ef71-4fc0-d3cf-49b461fa108a"
      },
      "source": [
        "df['size_bytes'].hist()"
      ],
      "execution_count": 63,
      "outputs": [
        {
          "output_type": "execute_result",
          "data": {
            "text/plain": [
              "<matplotlib.axes._subplots.AxesSubplot at 0x7fe2c0b43c88>"
            ]
          },
          "metadata": {
            "tags": []
          },
          "execution_count": 63
        },
        {
          "output_type": "display_data",
          "data": {
            "image/png": "[encoded data removed]",
            "text/plain": [
              "<Figure size 432x288 with 1 Axes>"
            ]
          },
          "metadata": {
            "tags": []
          }
        }
      ]
    },
    {
      "cell_type": "code",
      "metadata": {
        "id": "x-Jq4-heDiWV",
        "colab_type": "code",
        "colab": {
          "base_uri": "https://localhost:8080/",
          "height": 282
        },
        "outputId": "db2de713-f738-4785-eac4-196b40d5b12f"
      },
      "source": [
        "from numpy import log10\n",
        "df['size_bytes_log'] = log10(df['size_bytes'])\n",
        "df['size_bytes_log'].hist()"
      ],
      "execution_count": 64,
      "outputs": [
        {
          "output_type": "execute_result",
          "data": {
            "text/plain": [
              "<matplotlib.axes._subplots.AxesSubplot at 0x7fe2c0b0dba8>"
            ]
          },
          "metadata": {
            "tags": []
          },
          "execution_count": 64
        },
        {
          "output_type": "display_data",
          "data": {
            "image/png": "[encoded data removed]",
            "text/plain": [
              "<Figure size 432x288 with 1 Axes>"
            ]
          },
          "metadata": {
            "tags": []
          }
        }
      ]
    }
  ]
}